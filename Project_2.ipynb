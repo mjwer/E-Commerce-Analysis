{
  "nbformat": 4,
  "nbformat_minor": 0,
  "metadata": {
    "colab": {
      "provenance": [],
      "include_colab_link": true
    },
    "kernelspec": {
      "name": "python3",
      "display_name": "Python 3"
    },
    "language_info": {
      "name": "python"
    },
    "accelerator": "GPU",
    "gpuClass": "standard"
  },
  "cells": [
    {
      "cell_type": "markdown",
      "metadata": {
        "id": "view-in-github",
        "colab_type": "text"
      },
      "source": [
        "<a href=\"https://colab.research.google.com/github/mjwer/E-Commerce-Analysis/blob/main/Project_2.ipynb\" target=\"_parent\"><img src=\"https://colab.research.google.com/assets/colab-badge.svg\" alt=\"Open In Colab\"/></a>"
      ]
    },
    {
      "cell_type": "markdown",
      "source": [
        "# Matthew Werner\n",
        "# Canisius College: DAT 512\n",
        "# Project 2: E-Commerce Analysis<br>\n",
        "\n",
        "---\n",
        "\n",
        "\n",
        "\n",
        "---\n",
        "\n"
      ],
      "metadata": {
        "id": "N0cMwDfytsD3"
      }
    },
    {
      "cell_type": "code",
      "execution_count": null,
      "metadata": {
        "id": "fFwKAVU-siV0"
      },
      "outputs": [],
      "source": [
        "# authenticate with the google account used in console\n",
        "from google.colab import auth\n",
        "auth.authenticate_user()"
      ]
    },
    {
      "cell_type": "code",
      "source": [
        "import pandas as pd\n",
        "project_id = 'formal-air-380023'"
      ],
      "metadata": {
        "id": "eFzzEs_cubBE"
      },
      "execution_count": null,
      "outputs": []
    },
    {
      "cell_type": "markdown",
      "source": [
        "# Data Exploration of Products"
      ],
      "metadata": {
        "id": "d3BB3IIwt92-"
      }
    },
    {
      "cell_type": "code",
      "source": [
        "sql = '''\n",
        "SELECT * FROM `bigquery-public-data.thelook_ecommerce.products`\n",
        "'''\n",
        "\n",
        "products = pd.io.gbq.read_gbq(sql,project_id=project_id,\n",
        "                                      index_col='id')"
      ],
      "metadata": {
        "id": "NSWNqKFVubJe"
      },
      "execution_count": null,
      "outputs": []
    },
    {
      "cell_type": "code",
      "source": [
        "products.head()"
      ],
      "metadata": {
        "colab": {
          "base_uri": "https://localhost:8080/",
          "height": 420
        },
        "id": "uCxe-cMfubMD",
        "outputId": "cdad23ca-4685-49f5-bad5-a0d8195b066e"
      },
      "execution_count": null,
      "outputs": [
        {
          "output_type": "execute_result",
          "data": {
            "text/plain": [
              "            cost category                                               name  \\\n",
              "id                                                                             \n",
              "27569  92.652563     Swim     2XU Men's Swimmers Compression Long Sleeve Top   \n",
              "27445  24.719661     Swim         TYR Sport Men's Square Leg Short Swim Suit   \n",
              "27457  15.897600     Swim    TYR Sport Men's Solid Durafast Jammer Swim Suit   \n",
              "27466  17.850000     Swim  TYR Sport Men's Swim Short/Resistance Short Sw...   \n",
              "27481  29.408001     Swim                    TYR Alliance Team Splice Jammer   \n",
              "\n",
              "      brand  retail_price department                               sku  \\\n",
              "id                                                                       \n",
              "27569   2XU    150.410004        Men  B23C5765E165D83AA924FA8F13C05F25   \n",
              "27445   TYR     38.990002        Men  2AB7D3B23574C3DEA2BD278AFD0939AB   \n",
              "27457   TYR     27.600000        Men  8F831227B0EB6C6D09A0555531365933   \n",
              "27466   TYR     30.000000        Men  67317D6DCC4CB778AEB9219565F5456B   \n",
              "27481   TYR     45.950001        Men  213C888198806EF1A0E2BBF2F4855C6C   \n",
              "\n",
              "       distribution_center_id  \n",
              "id                             \n",
              "27569                       1  \n",
              "27445                       1  \n",
              "27457                       1  \n",
              "27466                       1  \n",
              "27481                       1  "
            ],
            "text/html": [
              "\n",
              "  <div id=\"df-b9c042d6-645c-43bd-a3f8-ee0f2b11ede2\">\n",
              "    <div class=\"colab-df-container\">\n",
              "      <div>\n",
              "<style scoped>\n",
              "    .dataframe tbody tr th:only-of-type {\n",
              "        vertical-align: middle;\n",
              "    }\n",
              "\n",
              "    .dataframe tbody tr th {\n",
              "        vertical-align: top;\n",
              "    }\n",
              "\n",
              "    .dataframe thead th {\n",
              "        text-align: right;\n",
              "    }\n",
              "</style>\n",
              "<table border=\"1\" class=\"dataframe\">\n",
              "  <thead>\n",
              "    <tr style=\"text-align: right;\">\n",
              "      <th></th>\n",
              "      <th>cost</th>\n",
              "      <th>category</th>\n",
              "      <th>name</th>\n",
              "      <th>brand</th>\n",
              "      <th>retail_price</th>\n",
              "      <th>department</th>\n",
              "      <th>sku</th>\n",
              "      <th>distribution_center_id</th>\n",
              "    </tr>\n",
              "    <tr>\n",
              "      <th>id</th>\n",
              "      <th></th>\n",
              "      <th></th>\n",
              "      <th></th>\n",
              "      <th></th>\n",
              "      <th></th>\n",
              "      <th></th>\n",
              "      <th></th>\n",
              "      <th></th>\n",
              "    </tr>\n",
              "  </thead>\n",
              "  <tbody>\n",
              "    <tr>\n",
              "      <th>27569</th>\n",
              "      <td>92.652563</td>\n",
              "      <td>Swim</td>\n",
              "      <td>2XU Men's Swimmers Compression Long Sleeve Top</td>\n",
              "      <td>2XU</td>\n",
              "      <td>150.410004</td>\n",
              "      <td>Men</td>\n",
              "      <td>B23C5765E165D83AA924FA8F13C05F25</td>\n",
              "      <td>1</td>\n",
              "    </tr>\n",
              "    <tr>\n",
              "      <th>27445</th>\n",
              "      <td>24.719661</td>\n",
              "      <td>Swim</td>\n",
              "      <td>TYR Sport Men's Square Leg Short Swim Suit</td>\n",
              "      <td>TYR</td>\n",
              "      <td>38.990002</td>\n",
              "      <td>Men</td>\n",
              "      <td>2AB7D3B23574C3DEA2BD278AFD0939AB</td>\n",
              "      <td>1</td>\n",
              "    </tr>\n",
              "    <tr>\n",
              "      <th>27457</th>\n",
              "      <td>15.897600</td>\n",
              "      <td>Swim</td>\n",
              "      <td>TYR Sport Men's Solid Durafast Jammer Swim Suit</td>\n",
              "      <td>TYR</td>\n",
              "      <td>27.600000</td>\n",
              "      <td>Men</td>\n",
              "      <td>8F831227B0EB6C6D09A0555531365933</td>\n",
              "      <td>1</td>\n",
              "    </tr>\n",
              "    <tr>\n",
              "      <th>27466</th>\n",
              "      <td>17.850000</td>\n",
              "      <td>Swim</td>\n",
              "      <td>TYR Sport Men's Swim Short/Resistance Short Sw...</td>\n",
              "      <td>TYR</td>\n",
              "      <td>30.000000</td>\n",
              "      <td>Men</td>\n",
              "      <td>67317D6DCC4CB778AEB9219565F5456B</td>\n",
              "      <td>1</td>\n",
              "    </tr>\n",
              "    <tr>\n",
              "      <th>27481</th>\n",
              "      <td>29.408001</td>\n",
              "      <td>Swim</td>\n",
              "      <td>TYR Alliance Team Splice Jammer</td>\n",
              "      <td>TYR</td>\n",
              "      <td>45.950001</td>\n",
              "      <td>Men</td>\n",
              "      <td>213C888198806EF1A0E2BBF2F4855C6C</td>\n",
              "      <td>1</td>\n",
              "    </tr>\n",
              "  </tbody>\n",
              "</table>\n",
              "</div>\n",
              "      <button class=\"colab-df-convert\" onclick=\"convertToInteractive('df-b9c042d6-645c-43bd-a3f8-ee0f2b11ede2')\"\n",
              "              title=\"Convert this dataframe to an interactive table.\"\n",
              "              style=\"display:none;\">\n",
              "        \n",
              "  <svg xmlns=\"http://www.w3.org/2000/svg\" height=\"24px\"viewBox=\"0 0 24 24\"\n",
              "       width=\"24px\">\n",
              "    <path d=\"M0 0h24v24H0V0z\" fill=\"none\"/>\n",
              "    <path d=\"M18.56 5.44l.94 2.06.94-2.06 2.06-.94-2.06-.94-.94-2.06-.94 2.06-2.06.94zm-11 1L8.5 8.5l.94-2.06 2.06-.94-2.06-.94L8.5 2.5l-.94 2.06-2.06.94zm10 10l.94 2.06.94-2.06 2.06-.94-2.06-.94-.94-2.06-.94 2.06-2.06.94z\"/><path d=\"M17.41 7.96l-1.37-1.37c-.4-.4-.92-.59-1.43-.59-.52 0-1.04.2-1.43.59L10.3 9.45l-7.72 7.72c-.78.78-.78 2.05 0 2.83L4 21.41c.39.39.9.59 1.41.59.51 0 1.02-.2 1.41-.59l7.78-7.78 2.81-2.81c.8-.78.8-2.07 0-2.86zM5.41 20L4 18.59l7.72-7.72 1.47 1.35L5.41 20z\"/>\n",
              "  </svg>\n",
              "      </button>\n",
              "      \n",
              "  <style>\n",
              "    .colab-df-container {\n",
              "      display:flex;\n",
              "      flex-wrap:wrap;\n",
              "      gap: 12px;\n",
              "    }\n",
              "\n",
              "    .colab-df-convert {\n",
              "      background-color: #E8F0FE;\n",
              "      border: none;\n",
              "      border-radius: 50%;\n",
              "      cursor: pointer;\n",
              "      display: none;\n",
              "      fill: #1967D2;\n",
              "      height: 32px;\n",
              "      padding: 0 0 0 0;\n",
              "      width: 32px;\n",
              "    }\n",
              "\n",
              "    .colab-df-convert:hover {\n",
              "      background-color: #E2EBFA;\n",
              "      box-shadow: 0px 1px 2px rgba(60, 64, 67, 0.3), 0px 1px 3px 1px rgba(60, 64, 67, 0.15);\n",
              "      fill: #174EA6;\n",
              "    }\n",
              "\n",
              "    [theme=dark] .colab-df-convert {\n",
              "      background-color: #3B4455;\n",
              "      fill: #D2E3FC;\n",
              "    }\n",
              "\n",
              "    [theme=dark] .colab-df-convert:hover {\n",
              "      background-color: #434B5C;\n",
              "      box-shadow: 0px 1px 3px 1px rgba(0, 0, 0, 0.15);\n",
              "      filter: drop-shadow(0px 1px 2px rgba(0, 0, 0, 0.3));\n",
              "      fill: #FFFFFF;\n",
              "    }\n",
              "  </style>\n",
              "\n",
              "      <script>\n",
              "        const buttonEl =\n",
              "          document.querySelector('#df-b9c042d6-645c-43bd-a3f8-ee0f2b11ede2 button.colab-df-convert');\n",
              "        buttonEl.style.display =\n",
              "          google.colab.kernel.accessAllowed ? 'block' : 'none';\n",
              "\n",
              "        async function convertToInteractive(key) {\n",
              "          const element = document.querySelector('#df-b9c042d6-645c-43bd-a3f8-ee0f2b11ede2');\n",
              "          const dataTable =\n",
              "            await google.colab.kernel.invokeFunction('convertToInteractive',\n",
              "                                                     [key], {});\n",
              "          if (!dataTable) return;\n",
              "\n",
              "          const docLinkHtml = 'Like what you see? Visit the ' +\n",
              "            '<a target=\"_blank\" href=https://colab.research.google.com/notebooks/data_table.ipynb>data table notebook</a>'\n",
              "            + ' to learn more about interactive tables.';\n",
              "          element.innerHTML = '';\n",
              "          dataTable['output_type'] = 'display_data';\n",
              "          await google.colab.output.renderOutput(dataTable, element);\n",
              "          const docLink = document.createElement('div');\n",
              "          docLink.innerHTML = docLinkHtml;\n",
              "          element.appendChild(docLink);\n",
              "        }\n",
              "      </script>\n",
              "    </div>\n",
              "  </div>\n",
              "  "
            ]
          },
          "metadata": {},
          "execution_count": 131
        }
      ]
    },
    {
      "cell_type": "code",
      "source": [
        "products.shape"
      ],
      "metadata": {
        "colab": {
          "base_uri": "https://localhost:8080/"
        },
        "id": "33R0jHhY6vLu",
        "outputId": "6c25c4d5-6aaa-4521-87f4-5d3eac5aa4f8"
      },
      "execution_count": null,
      "outputs": [
        {
          "output_type": "execute_result",
          "data": {
            "text/plain": [
              "(29120, 8)"
            ]
          },
          "metadata": {},
          "execution_count": 132
        }
      ]
    },
    {
      "cell_type": "markdown",
      "source": [
        "If we plan to cut 20% of products, we will be cutting approximately 5,824 products."
      ],
      "metadata": {
        "id": "1unsUb0n60sU"
      }
    },
    {
      "cell_type": "code",
      "source": [
        "# How many of each item do we have available to sell?\n",
        "products.category.value_counts().sort_values()"
      ],
      "metadata": {
        "colab": {
          "base_uri": "https://localhost:8080/"
        },
        "id": "vFBFE5SZubOp",
        "outputId": "3373c69f-7df3-478a-be87-9447dcddc385"
      },
      "execution_count": null,
      "outputs": [
        {
          "output_type": "execute_result",
          "data": {
            "text/plain": [
              "Clothing Sets                      37\n",
              "Jumpsuits & Rompers               162\n",
              "Suits                             188\n",
              "Skirts                            367\n",
              "Blazers & Jackets                 561\n",
              "Leggings                          564\n",
              "Pants & Capris                    613\n",
              "Socks & Hosiery                   666\n",
              "Suits & Sport Coats               739\n",
              "Plus                              758\n",
              "Maternity                         898\n",
              "Socks                             905\n",
              "Dresses                           955\n",
              "Pants                            1041\n",
              "Underwear                        1088\n",
              "Outerwear & Coats                1420\n",
              "Active                           1432\n",
              "Accessories                      1559\n",
              "Sweaters                         1737\n",
              "Shorts                           1765\n",
              "Sleep & Lounge                   1771\n",
              "Swim                             1798\n",
              "Fashion Hoodies & Sweatshirts    1866\n",
              "Tops & Tees                      1868\n",
              "Jeans                            1999\n",
              "Intimates                        2363\n",
              "Name: category, dtype: int64"
            ]
          },
          "metadata": {},
          "execution_count": 133
        }
      ]
    },
    {
      "cell_type": "code",
      "source": [
        "# What is the cost per category?\n",
        "products.groupby('category').cost.mean().sort_values(ascending = False)"
      ],
      "metadata": {
        "colab": {
          "base_uri": "https://localhost:8080/"
        },
        "id": "X8UwBsqoubRM",
        "outputId": "d3360103-da5e-4283-c0b7-7a3b549db9ce"
      },
      "execution_count": null,
      "outputs": [
        {
          "output_type": "execute_result",
          "data": {
            "text/plain": [
              "category\n",
              "Suits                            70.182811\n",
              "Outerwear & Coats                64.978458\n",
              "Clothing Sets                    52.507530\n",
              "Jeans                            52.414203\n",
              "Suits & Sport Coats              50.799630\n",
              "Dresses                          37.930729\n",
              "Sweaters                         36.087589\n",
              "Blazers & Jackets                35.111047\n",
              "Swim                             28.886588\n",
              "Pants & Capris                   28.871875\n",
              "Fashion Hoodies & Sweatshirts    27.803022\n",
              "Pants                            27.462263\n",
              "Sleep & Lounge                   24.225506\n",
              "Jumpsuits & Rompers              24.149758\n",
              "Tops & Tees                      23.140639\n",
              "Shorts                           22.924157\n",
              "Maternity                        22.421596\n",
              "Active                           21.221666\n",
              "Skirts                           20.863104\n",
              "Plus                             19.255625\n",
              "Intimates                        17.922680\n",
              "Accessories                      17.064546\n",
              "Leggings                         16.283878\n",
              "Underwear                        12.773629\n",
              "Socks                            12.323158\n",
              "Socks & Hosiery                   6.735871\n",
              "Name: cost, dtype: float64"
            ]
          },
          "metadata": {},
          "execution_count": 134
        }
      ]
    },
    {
      "cell_type": "code",
      "source": [
        "# What is the average retail price per category?\n",
        "products.groupby('category').retail_price.mean().sort_values(ascending = False)"
      ],
      "metadata": {
        "colab": {
          "base_uri": "https://localhost:8080/"
        },
        "id": "097FdmtdubUs",
        "outputId": "1b226858-8b34-4a35-a683-cff6f75e0982"
      },
      "execution_count": null,
      "outputs": [
        {
          "output_type": "execute_result",
          "data": {
            "text/plain": [
              "category\n",
              "Outerwear & Coats                146.017091\n",
              "Suits & Sport Coats              126.555616\n",
              "Suits                            116.164096\n",
              "Jeans                             97.853207\n",
              "Blazers & Jackets                 92.595080\n",
              "Clothing Sets                     84.844054\n",
              "Dresses                           84.203278\n",
              "Sweaters                          75.318981\n",
              "Pants                             59.814313\n",
              "Swim                              57.815662\n",
              "Pants & Capris                    54.705547\n",
              "Fashion Hoodies & Sweatshirts     53.915595\n",
              "Skirts                            52.325232\n",
              "Maternity                         50.799209\n",
              "Active                            50.621020\n",
              "Sleep & Lounge                    49.218769\n",
              "Shorts                            45.769915\n",
              "Jumpsuits & Rompers               45.422161\n",
              "Accessories                       42.565317\n",
              "Tops & Tees                       41.341638\n",
              "Plus                              38.425330\n",
              "Intimates                         33.707380\n",
              "Underwear                         27.156002\n",
              "Leggings                          27.149663\n",
              "Socks                             20.424928\n",
              "Socks & Hosiery                   16.759955\n",
              "Name: retail_price, dtype: float64"
            ]
          },
          "metadata": {},
          "execution_count": 135
        }
      ]
    },
    {
      "cell_type": "code",
      "source": [
        "# Create a new column, \"Profit\".\n",
        "products['profit'] = products.retail_price - products.cost"
      ],
      "metadata": {
        "id": "rmFBn0-B6TmW"
      },
      "execution_count": null,
      "outputs": []
    },
    {
      "cell_type": "code",
      "source": [
        "products.profit.head()"
      ],
      "metadata": {
        "colab": {
          "base_uri": "https://localhost:8080/"
        },
        "id": "_grfBuuz6hTF",
        "outputId": "0dc8fb9d-7582-4d23-a6fc-5f2e316f410c"
      },
      "execution_count": null,
      "outputs": [
        {
          "output_type": "execute_result",
          "data": {
            "text/plain": [
              "id\n",
              "27569    57.757441\n",
              "27445    14.270340\n",
              "27457    11.702400\n",
              "27466    12.150000\n",
              "27481    16.542000\n",
              "Name: profit, dtype: float64"
            ]
          },
          "metadata": {},
          "execution_count": 137
        }
      ]
    },
    {
      "cell_type": "code",
      "source": [
        "# What is the average profit per product category?\n",
        "products.groupby('category').profit.mean().sort_values(ascending = False)"
      ],
      "metadata": {
        "colab": {
          "base_uri": "https://localhost:8080/"
        },
        "id": "FXHP2nHe6oeo",
        "outputId": "6c507883-8f05-4b23-e460-bd63e5832302"
      },
      "execution_count": null,
      "outputs": [
        {
          "output_type": "execute_result",
          "data": {
            "text/plain": [
              "category\n",
              "Outerwear & Coats                81.038634\n",
              "Suits & Sport Coats              75.755986\n",
              "Blazers & Jackets                57.484034\n",
              "Dresses                          46.272549\n",
              "Suits                            45.981285\n",
              "Jeans                            45.439004\n",
              "Sweaters                         39.231392\n",
              "Pants                            32.352051\n",
              "Clothing Sets                    32.336524\n",
              "Skirts                           31.462128\n",
              "Active                           29.399353\n",
              "Swim                             28.929074\n",
              "Maternity                        28.377614\n",
              "Fashion Hoodies & Sweatshirts    26.112573\n",
              "Pants & Capris                   25.833671\n",
              "Accessories                      25.500772\n",
              "Sleep & Lounge                   24.993263\n",
              "Shorts                           22.845758\n",
              "Jumpsuits & Rompers              21.272403\n",
              "Plus                             19.169705\n",
              "Tops & Tees                      18.201000\n",
              "Intimates                        15.784701\n",
              "Underwear                        14.382373\n",
              "Leggings                         10.865785\n",
              "Socks & Hosiery                  10.024084\n",
              "Socks                             8.101770\n",
              "Name: profit, dtype: float64"
            ]
          },
          "metadata": {},
          "execution_count": 138
        }
      ]
    },
    {
      "cell_type": "code",
      "source": [
        "# What is the most expensive product?\n",
        "products['retail_price'].max()"
      ],
      "metadata": {
        "colab": {
          "base_uri": "https://localhost:8080/"
        },
        "id": "jY4N9pA464uw",
        "outputId": "069f1a09-10a9-4c6c-d10b-e72fc760a00b"
      },
      "execution_count": null,
      "outputs": [
        {
          "output_type": "execute_result",
          "data": {
            "text/plain": [
              "999.0"
            ]
          },
          "metadata": {},
          "execution_count": 139
        }
      ]
    },
    {
      "cell_type": "code",
      "source": [
        "# What item is the most expensive?\n",
        "products[products['retail_price'] == products['retail_price'].max()]"
      ],
      "metadata": {
        "colab": {
          "base_uri": "https://localhost:8080/",
          "height": 277
        },
        "id": "_wdS2596-DXi",
        "outputId": "ac36ede2-a528-491f-9e4a-c821241387aa"
      },
      "execution_count": null,
      "outputs": [
        {
          "output_type": "execute_result",
          "data": {
            "text/plain": [
              "             cost           category                             name  \\\n",
              "id                                                                      \n",
              "23546  482.516999             Shorts  Alpha Industries Rip Stop Short   \n",
              "24447  404.595001  Outerwear & Coats                            Darla   \n",
              "\n",
              "                  brand  retail_price department  \\\n",
              "id                                                 \n",
              "23546  Alpha Industries         999.0        Men   \n",
              "24447  Alpha Industries         999.0        Men   \n",
              "\n",
              "                                    sku  distribution_center_id      profit  \n",
              "id                                                                           \n",
              "23546  C1AA157F9E8516370E3345F226EF62FC                       5  516.483001  \n",
              "24447  1CE5E897CDA6AEB211DFFE8D514F4365                       5  594.404999  "
            ],
            "text/html": [
              "\n",
              "  <div id=\"df-17b1e92a-d68f-4f98-9d29-30776e4f8907\">\n",
              "    <div class=\"colab-df-container\">\n",
              "      <div>\n",
              "<style scoped>\n",
              "    .dataframe tbody tr th:only-of-type {\n",
              "        vertical-align: middle;\n",
              "    }\n",
              "\n",
              "    .dataframe tbody tr th {\n",
              "        vertical-align: top;\n",
              "    }\n",
              "\n",
              "    .dataframe thead th {\n",
              "        text-align: right;\n",
              "    }\n",
              "</style>\n",
              "<table border=\"1\" class=\"dataframe\">\n",
              "  <thead>\n",
              "    <tr style=\"text-align: right;\">\n",
              "      <th></th>\n",
              "      <th>cost</th>\n",
              "      <th>category</th>\n",
              "      <th>name</th>\n",
              "      <th>brand</th>\n",
              "      <th>retail_price</th>\n",
              "      <th>department</th>\n",
              "      <th>sku</th>\n",
              "      <th>distribution_center_id</th>\n",
              "      <th>profit</th>\n",
              "    </tr>\n",
              "    <tr>\n",
              "      <th>id</th>\n",
              "      <th></th>\n",
              "      <th></th>\n",
              "      <th></th>\n",
              "      <th></th>\n",
              "      <th></th>\n",
              "      <th></th>\n",
              "      <th></th>\n",
              "      <th></th>\n",
              "      <th></th>\n",
              "    </tr>\n",
              "  </thead>\n",
              "  <tbody>\n",
              "    <tr>\n",
              "      <th>23546</th>\n",
              "      <td>482.516999</td>\n",
              "      <td>Shorts</td>\n",
              "      <td>Alpha Industries Rip Stop Short</td>\n",
              "      <td>Alpha Industries</td>\n",
              "      <td>999.0</td>\n",
              "      <td>Men</td>\n",
              "      <td>C1AA157F9E8516370E3345F226EF62FC</td>\n",
              "      <td>5</td>\n",
              "      <td>516.483001</td>\n",
              "    </tr>\n",
              "    <tr>\n",
              "      <th>24447</th>\n",
              "      <td>404.595001</td>\n",
              "      <td>Outerwear &amp; Coats</td>\n",
              "      <td>Darla</td>\n",
              "      <td>Alpha Industries</td>\n",
              "      <td>999.0</td>\n",
              "      <td>Men</td>\n",
              "      <td>1CE5E897CDA6AEB211DFFE8D514F4365</td>\n",
              "      <td>5</td>\n",
              "      <td>594.404999</td>\n",
              "    </tr>\n",
              "  </tbody>\n",
              "</table>\n",
              "</div>\n",
              "      <button class=\"colab-df-convert\" onclick=\"convertToInteractive('df-17b1e92a-d68f-4f98-9d29-30776e4f8907')\"\n",
              "              title=\"Convert this dataframe to an interactive table.\"\n",
              "              style=\"display:none;\">\n",
              "        \n",
              "  <svg xmlns=\"http://www.w3.org/2000/svg\" height=\"24px\"viewBox=\"0 0 24 24\"\n",
              "       width=\"24px\">\n",
              "    <path d=\"M0 0h24v24H0V0z\" fill=\"none\"/>\n",
              "    <path d=\"M18.56 5.44l.94 2.06.94-2.06 2.06-.94-2.06-.94-.94-2.06-.94 2.06-2.06.94zm-11 1L8.5 8.5l.94-2.06 2.06-.94-2.06-.94L8.5 2.5l-.94 2.06-2.06.94zm10 10l.94 2.06.94-2.06 2.06-.94-2.06-.94-.94-2.06-.94 2.06-2.06.94z\"/><path d=\"M17.41 7.96l-1.37-1.37c-.4-.4-.92-.59-1.43-.59-.52 0-1.04.2-1.43.59L10.3 9.45l-7.72 7.72c-.78.78-.78 2.05 0 2.83L4 21.41c.39.39.9.59 1.41.59.51 0 1.02-.2 1.41-.59l7.78-7.78 2.81-2.81c.8-.78.8-2.07 0-2.86zM5.41 20L4 18.59l7.72-7.72 1.47 1.35L5.41 20z\"/>\n",
              "  </svg>\n",
              "      </button>\n",
              "      \n",
              "  <style>\n",
              "    .colab-df-container {\n",
              "      display:flex;\n",
              "      flex-wrap:wrap;\n",
              "      gap: 12px;\n",
              "    }\n",
              "\n",
              "    .colab-df-convert {\n",
              "      background-color: #E8F0FE;\n",
              "      border: none;\n",
              "      border-radius: 50%;\n",
              "      cursor: pointer;\n",
              "      display: none;\n",
              "      fill: #1967D2;\n",
              "      height: 32px;\n",
              "      padding: 0 0 0 0;\n",
              "      width: 32px;\n",
              "    }\n",
              "\n",
              "    .colab-df-convert:hover {\n",
              "      background-color: #E2EBFA;\n",
              "      box-shadow: 0px 1px 2px rgba(60, 64, 67, 0.3), 0px 1px 3px 1px rgba(60, 64, 67, 0.15);\n",
              "      fill: #174EA6;\n",
              "    }\n",
              "\n",
              "    [theme=dark] .colab-df-convert {\n",
              "      background-color: #3B4455;\n",
              "      fill: #D2E3FC;\n",
              "    }\n",
              "\n",
              "    [theme=dark] .colab-df-convert:hover {\n",
              "      background-color: #434B5C;\n",
              "      box-shadow: 0px 1px 3px 1px rgba(0, 0, 0, 0.15);\n",
              "      filter: drop-shadow(0px 1px 2px rgba(0, 0, 0, 0.3));\n",
              "      fill: #FFFFFF;\n",
              "    }\n",
              "  </style>\n",
              "\n",
              "      <script>\n",
              "        const buttonEl =\n",
              "          document.querySelector('#df-17b1e92a-d68f-4f98-9d29-30776e4f8907 button.colab-df-convert');\n",
              "        buttonEl.style.display =\n",
              "          google.colab.kernel.accessAllowed ? 'block' : 'none';\n",
              "\n",
              "        async function convertToInteractive(key) {\n",
              "          const element = document.querySelector('#df-17b1e92a-d68f-4f98-9d29-30776e4f8907');\n",
              "          const dataTable =\n",
              "            await google.colab.kernel.invokeFunction('convertToInteractive',\n",
              "                                                     [key], {});\n",
              "          if (!dataTable) return;\n",
              "\n",
              "          const docLinkHtml = 'Like what you see? Visit the ' +\n",
              "            '<a target=\"_blank\" href=https://colab.research.google.com/notebooks/data_table.ipynb>data table notebook</a>'\n",
              "            + ' to learn more about interactive tables.';\n",
              "          element.innerHTML = '';\n",
              "          dataTable['output_type'] = 'display_data';\n",
              "          await google.colab.output.renderOutput(dataTable, element);\n",
              "          const docLink = document.createElement('div');\n",
              "          docLink.innerHTML = docLinkHtml;\n",
              "          element.appendChild(docLink);\n",
              "        }\n",
              "      </script>\n",
              "    </div>\n",
              "  </div>\n",
              "  "
            ]
          },
          "metadata": {},
          "execution_count": 140
        }
      ]
    },
    {
      "cell_type": "markdown",
      "source": [
        "# Data Exploration of Product Sales"
      ],
      "metadata": {
        "id": "mD8ChXJcBhXF"
      }
    },
    {
      "cell_type": "code",
      "source": [
        "# Joining order_items and products on their ID's\n",
        "sql = '''\n",
        "SELECT * FROM `bigquery-public-data.thelook_ecommerce.order_items` oi\n",
        "LEFT JOIN `bigquery-public-data.thelook_ecommerce.products` p \n",
        "ON oi.product_id = p.id\n",
        "'''\n",
        "\n",
        "order_items = pd.io.gbq.read_gbq(sql,project_id=project_id,\n",
        "                                      index_col='id')"
      ],
      "metadata": {
        "id": "URB1b3cn_lIk"
      },
      "execution_count": null,
      "outputs": []
    },
    {
      "cell_type": "code",
      "source": [
        "order_items.head()\n"
      ],
      "metadata": {
        "colab": {
          "base_uri": "https://localhost:8080/",
          "height": 735
        },
        "id": "4Q2GDBZ0CBrf",
        "outputId": "a9bd4c5e-8663-4bfb-c240-493956f60de9"
      },
      "execution_count": null,
      "outputs": [
        {
          "output_type": "execute_result",
          "data": {
            "text/plain": [
              "        order_id  user_id  product_id  inventory_item_id      status  \\\n",
              "id                                                                     \n",
              "50969      35094    28254       13606             137521     Shipped   \n",
              "87165      60084    48474       13606             235155     Shipped   \n",
              "47448      32694    26305       13606             128000    Complete   \n",
              "128831     88851    71563       13606             347943    Complete   \n",
              "74967      51711    41729       13606             202142  Processing   \n",
              "\n",
              "                      created_at                shipped_at  \\\n",
              "id                                                           \n",
              "50969  2021-07-21 10:46:58+00:00 2021-07-20 04:02:00+00:00   \n",
              "87165  2023-04-02 01:51:01+00:00 2023-04-02 18:09:00+00:00   \n",
              "47448  2023-01-27 11:19:49+00:00 2023-01-26 23:32:00+00:00   \n",
              "128831 2021-08-01 06:29:22+00:00 2021-08-02 01:36:00+00:00   \n",
              "74967  2020-12-17 15:28:29+00:00                       NaT   \n",
              "\n",
              "                    delivered_at returned_at  sale_price   id_1    cost  \\\n",
              "id                                                                        \n",
              "50969                        NaT         NaT         2.5  13606  1.1075   \n",
              "87165                        NaT         NaT         2.5  13606  1.1075   \n",
              "47448  2023-01-30 00:55:00+00:00         NaT         2.5  13606  1.1075   \n",
              "128831 2021-08-04 08:45:00+00:00         NaT         2.5  13606  1.1075   \n",
              "74967                        NaT         NaT         2.5  13606  1.1075   \n",
              "\n",
              "           category                                     name  \\\n",
              "id                                                             \n",
              "50969   Accessories  Elegant PASHMINA SCARF WRAP SHAWL STOLE   \n",
              "87165   Accessories  Elegant PASHMINA SCARF WRAP SHAWL STOLE   \n",
              "47448   Accessories  Elegant PASHMINA SCARF WRAP SHAWL STOLE   \n",
              "128831  Accessories  Elegant PASHMINA SCARF WRAP SHAWL STOLE   \n",
              "74967   Accessories  Elegant PASHMINA SCARF WRAP SHAWL STOLE   \n",
              "\n",
              "                   brand  retail_price department  \\\n",
              "id                                                  \n",
              "50969   Scarf_tradinginc           2.5      Women   \n",
              "87165   Scarf_tradinginc           2.5      Women   \n",
              "47448   Scarf_tradinginc           2.5      Women   \n",
              "128831  Scarf_tradinginc           2.5      Women   \n",
              "74967   Scarf_tradinginc           2.5      Women   \n",
              "\n",
              "                                     sku  distribution_center_id  \n",
              "id                                                                \n",
              "50969   4ACBEDBE977480D19B7B682D4878CAE2                       3  \n",
              "87165   4ACBEDBE977480D19B7B682D4878CAE2                       3  \n",
              "47448   4ACBEDBE977480D19B7B682D4878CAE2                       3  \n",
              "128831  4ACBEDBE977480D19B7B682D4878CAE2                       3  \n",
              "74967   4ACBEDBE977480D19B7B682D4878CAE2                       3  "
            ],
            "text/html": [
              "\n",
              "  <div id=\"df-2671d325-d9a7-4240-9272-cc8e94cea622\">\n",
              "    <div class=\"colab-df-container\">\n",
              "      <div>\n",
              "<style scoped>\n",
              "    .dataframe tbody tr th:only-of-type {\n",
              "        vertical-align: middle;\n",
              "    }\n",
              "\n",
              "    .dataframe tbody tr th {\n",
              "        vertical-align: top;\n",
              "    }\n",
              "\n",
              "    .dataframe thead th {\n",
              "        text-align: right;\n",
              "    }\n",
              "</style>\n",
              "<table border=\"1\" class=\"dataframe\">\n",
              "  <thead>\n",
              "    <tr style=\"text-align: right;\">\n",
              "      <th></th>\n",
              "      <th>order_id</th>\n",
              "      <th>user_id</th>\n",
              "      <th>product_id</th>\n",
              "      <th>inventory_item_id</th>\n",
              "      <th>status</th>\n",
              "      <th>created_at</th>\n",
              "      <th>shipped_at</th>\n",
              "      <th>delivered_at</th>\n",
              "      <th>returned_at</th>\n",
              "      <th>sale_price</th>\n",
              "      <th>id_1</th>\n",
              "      <th>cost</th>\n",
              "      <th>category</th>\n",
              "      <th>name</th>\n",
              "      <th>brand</th>\n",
              "      <th>retail_price</th>\n",
              "      <th>department</th>\n",
              "      <th>sku</th>\n",
              "      <th>distribution_center_id</th>\n",
              "    </tr>\n",
              "    <tr>\n",
              "      <th>id</th>\n",
              "      <th></th>\n",
              "      <th></th>\n",
              "      <th></th>\n",
              "      <th></th>\n",
              "      <th></th>\n",
              "      <th></th>\n",
              "      <th></th>\n",
              "      <th></th>\n",
              "      <th></th>\n",
              "      <th></th>\n",
              "      <th></th>\n",
              "      <th></th>\n",
              "      <th></th>\n",
              "      <th></th>\n",
              "      <th></th>\n",
              "      <th></th>\n",
              "      <th></th>\n",
              "      <th></th>\n",
              "      <th></th>\n",
              "    </tr>\n",
              "  </thead>\n",
              "  <tbody>\n",
              "    <tr>\n",
              "      <th>50969</th>\n",
              "      <td>35094</td>\n",
              "      <td>28254</td>\n",
              "      <td>13606</td>\n",
              "      <td>137521</td>\n",
              "      <td>Shipped</td>\n",
              "      <td>2021-07-21 10:46:58+00:00</td>\n",
              "      <td>2021-07-20 04:02:00+00:00</td>\n",
              "      <td>NaT</td>\n",
              "      <td>NaT</td>\n",
              "      <td>2.5</td>\n",
              "      <td>13606</td>\n",
              "      <td>1.1075</td>\n",
              "      <td>Accessories</td>\n",
              "      <td>Elegant PASHMINA SCARF WRAP SHAWL STOLE</td>\n",
              "      <td>Scarf_tradinginc</td>\n",
              "      <td>2.5</td>\n",
              "      <td>Women</td>\n",
              "      <td>4ACBEDBE977480D19B7B682D4878CAE2</td>\n",
              "      <td>3</td>\n",
              "    </tr>\n",
              "    <tr>\n",
              "      <th>87165</th>\n",
              "      <td>60084</td>\n",
              "      <td>48474</td>\n",
              "      <td>13606</td>\n",
              "      <td>235155</td>\n",
              "      <td>Shipped</td>\n",
              "      <td>2023-04-02 01:51:01+00:00</td>\n",
              "      <td>2023-04-02 18:09:00+00:00</td>\n",
              "      <td>NaT</td>\n",
              "      <td>NaT</td>\n",
              "      <td>2.5</td>\n",
              "      <td>13606</td>\n",
              "      <td>1.1075</td>\n",
              "      <td>Accessories</td>\n",
              "      <td>Elegant PASHMINA SCARF WRAP SHAWL STOLE</td>\n",
              "      <td>Scarf_tradinginc</td>\n",
              "      <td>2.5</td>\n",
              "      <td>Women</td>\n",
              "      <td>4ACBEDBE977480D19B7B682D4878CAE2</td>\n",
              "      <td>3</td>\n",
              "    </tr>\n",
              "    <tr>\n",
              "      <th>47448</th>\n",
              "      <td>32694</td>\n",
              "      <td>26305</td>\n",
              "      <td>13606</td>\n",
              "      <td>128000</td>\n",
              "      <td>Complete</td>\n",
              "      <td>2023-01-27 11:19:49+00:00</td>\n",
              "      <td>2023-01-26 23:32:00+00:00</td>\n",
              "      <td>2023-01-30 00:55:00+00:00</td>\n",
              "      <td>NaT</td>\n",
              "      <td>2.5</td>\n",
              "      <td>13606</td>\n",
              "      <td>1.1075</td>\n",
              "      <td>Accessories</td>\n",
              "      <td>Elegant PASHMINA SCARF WRAP SHAWL STOLE</td>\n",
              "      <td>Scarf_tradinginc</td>\n",
              "      <td>2.5</td>\n",
              "      <td>Women</td>\n",
              "      <td>4ACBEDBE977480D19B7B682D4878CAE2</td>\n",
              "      <td>3</td>\n",
              "    </tr>\n",
              "    <tr>\n",
              "      <th>128831</th>\n",
              "      <td>88851</td>\n",
              "      <td>71563</td>\n",
              "      <td>13606</td>\n",
              "      <td>347943</td>\n",
              "      <td>Complete</td>\n",
              "      <td>2021-08-01 06:29:22+00:00</td>\n",
              "      <td>2021-08-02 01:36:00+00:00</td>\n",
              "      <td>2021-08-04 08:45:00+00:00</td>\n",
              "      <td>NaT</td>\n",
              "      <td>2.5</td>\n",
              "      <td>13606</td>\n",
              "      <td>1.1075</td>\n",
              "      <td>Accessories</td>\n",
              "      <td>Elegant PASHMINA SCARF WRAP SHAWL STOLE</td>\n",
              "      <td>Scarf_tradinginc</td>\n",
              "      <td>2.5</td>\n",
              "      <td>Women</td>\n",
              "      <td>4ACBEDBE977480D19B7B682D4878CAE2</td>\n",
              "      <td>3</td>\n",
              "    </tr>\n",
              "    <tr>\n",
              "      <th>74967</th>\n",
              "      <td>51711</td>\n",
              "      <td>41729</td>\n",
              "      <td>13606</td>\n",
              "      <td>202142</td>\n",
              "      <td>Processing</td>\n",
              "      <td>2020-12-17 15:28:29+00:00</td>\n",
              "      <td>NaT</td>\n",
              "      <td>NaT</td>\n",
              "      <td>NaT</td>\n",
              "      <td>2.5</td>\n",
              "      <td>13606</td>\n",
              "      <td>1.1075</td>\n",
              "      <td>Accessories</td>\n",
              "      <td>Elegant PASHMINA SCARF WRAP SHAWL STOLE</td>\n",
              "      <td>Scarf_tradinginc</td>\n",
              "      <td>2.5</td>\n",
              "      <td>Women</td>\n",
              "      <td>4ACBEDBE977480D19B7B682D4878CAE2</td>\n",
              "      <td>3</td>\n",
              "    </tr>\n",
              "  </tbody>\n",
              "</table>\n",
              "</div>\n",
              "      <button class=\"colab-df-convert\" onclick=\"convertToInteractive('df-2671d325-d9a7-4240-9272-cc8e94cea622')\"\n",
              "              title=\"Convert this dataframe to an interactive table.\"\n",
              "              style=\"display:none;\">\n",
              "        \n",
              "  <svg xmlns=\"http://www.w3.org/2000/svg\" height=\"24px\"viewBox=\"0 0 24 24\"\n",
              "       width=\"24px\">\n",
              "    <path d=\"M0 0h24v24H0V0z\" fill=\"none\"/>\n",
              "    <path d=\"M18.56 5.44l.94 2.06.94-2.06 2.06-.94-2.06-.94-.94-2.06-.94 2.06-2.06.94zm-11 1L8.5 8.5l.94-2.06 2.06-.94-2.06-.94L8.5 2.5l-.94 2.06-2.06.94zm10 10l.94 2.06.94-2.06 2.06-.94-2.06-.94-.94-2.06-.94 2.06-2.06.94z\"/><path d=\"M17.41 7.96l-1.37-1.37c-.4-.4-.92-.59-1.43-.59-.52 0-1.04.2-1.43.59L10.3 9.45l-7.72 7.72c-.78.78-.78 2.05 0 2.83L4 21.41c.39.39.9.59 1.41.59.51 0 1.02-.2 1.41-.59l7.78-7.78 2.81-2.81c.8-.78.8-2.07 0-2.86zM5.41 20L4 18.59l7.72-7.72 1.47 1.35L5.41 20z\"/>\n",
              "  </svg>\n",
              "      </button>\n",
              "      \n",
              "  <style>\n",
              "    .colab-df-container {\n",
              "      display:flex;\n",
              "      flex-wrap:wrap;\n",
              "      gap: 12px;\n",
              "    }\n",
              "\n",
              "    .colab-df-convert {\n",
              "      background-color: #E8F0FE;\n",
              "      border: none;\n",
              "      border-radius: 50%;\n",
              "      cursor: pointer;\n",
              "      display: none;\n",
              "      fill: #1967D2;\n",
              "      height: 32px;\n",
              "      padding: 0 0 0 0;\n",
              "      width: 32px;\n",
              "    }\n",
              "\n",
              "    .colab-df-convert:hover {\n",
              "      background-color: #E2EBFA;\n",
              "      box-shadow: 0px 1px 2px rgba(60, 64, 67, 0.3), 0px 1px 3px 1px rgba(60, 64, 67, 0.15);\n",
              "      fill: #174EA6;\n",
              "    }\n",
              "\n",
              "    [theme=dark] .colab-df-convert {\n",
              "      background-color: #3B4455;\n",
              "      fill: #D2E3FC;\n",
              "    }\n",
              "\n",
              "    [theme=dark] .colab-df-convert:hover {\n",
              "      background-color: #434B5C;\n",
              "      box-shadow: 0px 1px 3px 1px rgba(0, 0, 0, 0.15);\n",
              "      filter: drop-shadow(0px 1px 2px rgba(0, 0, 0, 0.3));\n",
              "      fill: #FFFFFF;\n",
              "    }\n",
              "  </style>\n",
              "\n",
              "      <script>\n",
              "        const buttonEl =\n",
              "          document.querySelector('#df-2671d325-d9a7-4240-9272-cc8e94cea622 button.colab-df-convert');\n",
              "        buttonEl.style.display =\n",
              "          google.colab.kernel.accessAllowed ? 'block' : 'none';\n",
              "\n",
              "        async function convertToInteractive(key) {\n",
              "          const element = document.querySelector('#df-2671d325-d9a7-4240-9272-cc8e94cea622');\n",
              "          const dataTable =\n",
              "            await google.colab.kernel.invokeFunction('convertToInteractive',\n",
              "                                                     [key], {});\n",
              "          if (!dataTable) return;\n",
              "\n",
              "          const docLinkHtml = 'Like what you see? Visit the ' +\n",
              "            '<a target=\"_blank\" href=https://colab.research.google.com/notebooks/data_table.ipynb>data table notebook</a>'\n",
              "            + ' to learn more about interactive tables.';\n",
              "          element.innerHTML = '';\n",
              "          dataTable['output_type'] = 'display_data';\n",
              "          await google.colab.output.renderOutput(dataTable, element);\n",
              "          const docLink = document.createElement('div');\n",
              "          docLink.innerHTML = docLinkHtml;\n",
              "          element.appendChild(docLink);\n",
              "        }\n",
              "      </script>\n",
              "    </div>\n",
              "  </div>\n",
              "  "
            ]
          },
          "metadata": {},
          "execution_count": 142
        }
      ]
    },
    {
      "cell_type": "code",
      "source": [
        "# How many of each item were sold?\n",
        "order_items.category.value_counts().sort_values()"
      ],
      "metadata": {
        "colab": {
          "base_uri": "https://localhost:8080/"
        },
        "id": "62oVj_bcCCQc",
        "outputId": "d93d97c7-6883-4e73-993a-81881ef4e2cd"
      },
      "execution_count": null,
      "outputs": [
        {
          "output_type": "execute_result",
          "data": {
            "text/plain": [
              "Clothing Sets                      187\n",
              "Jumpsuits & Rompers                933\n",
              "Suits                             1089\n",
              "Skirts                            2061\n",
              "Leggings                          3159\n",
              "Blazers & Jackets                 3172\n",
              "Pants & Capris                    3506\n",
              "Socks & Hosiery                   3759\n",
              "Plus                              4311\n",
              "Suits & Sport Coats               5025\n",
              "Maternity                         5117\n",
              "Dresses                           5367\n",
              "Socks                             6301\n",
              "Pants                             7061\n",
              "Underwear                         7590\n",
              "Active                            8979\n",
              "Outerwear & Coats                 9028\n",
              "Accessories                       9658\n",
              "Sweaters                         10942\n",
              "Shorts                           10972\n",
              "Sleep & Lounge                   11162\n",
              "Swim                             11376\n",
              "Tops & Tees                      11762\n",
              "Fashion Hoodies & Sweatshirts    11781\n",
              "Jeans                            12654\n",
              "Intimates                        13441\n",
              "Name: category, dtype: int64"
            ]
          },
          "metadata": {},
          "execution_count": 143
        }
      ]
    },
    {
      "cell_type": "code",
      "source": [
        "# Which category is bringing in the least revenue?\n",
        "order_items['profit'] = order_items.retail_price - order_items.cost\n",
        "order_items.groupby('category').profit.sum().sort_values()"
      ],
      "metadata": {
        "colab": {
          "base_uri": "https://localhost:8080/"
        },
        "id": "R-b1D1zcJKv4",
        "outputId": "75d7240c-6a4e-4a67-f961-c2893794462b"
      },
      "execution_count": null,
      "outputs": [
        {
          "output_type": "execute_result",
          "data": {
            "text/plain": [
              "category\n",
              "Clothing Sets                      5842.663447\n",
              "Jumpsuits & Rompers               19956.566398\n",
              "Leggings                          34173.953227\n",
              "Socks & Hosiery                   37357.071641\n",
              "Suits                             49722.727376\n",
              "Socks                             51012.329976\n",
              "Skirts                            65149.201570\n",
              "Plus                              83410.370550\n",
              "Pants & Capris                    91399.527533\n",
              "Underwear                        108379.236566\n",
              "Maternity                        145229.789958\n",
              "Blazers & Jackets                183805.775747\n",
              "Tops & Tees                      214643.371045\n",
              "Intimates                        215700.675047\n",
              "Pants                            227928.776372\n",
              "Dresses                          247784.988306\n",
              "Accessories                      249303.966802\n",
              "Shorts                           253453.081128\n",
              "Active                           263124.854496\n",
              "Sleep & Lounge                   283562.776823\n",
              "Fashion Hoodies & Sweatshirts    306812.738971\n",
              "Swim                             318640.528494\n",
              "Suits & Sport Coats              380719.304482\n",
              "Sweaters                         427164.360349\n",
              "Jeans                            576445.442354\n",
              "Outerwear & Coats                729342.828351\n",
              "Name: profit, dtype: float64"
            ]
          },
          "metadata": {},
          "execution_count": 144
        }
      ]
    },
    {
      "cell_type": "code",
      "source": [
        "# Which specific product is being purchased the most?\n",
        "order_items.name.value_counts().sort_values(ascending = False).head()"
      ],
      "metadata": {
        "colab": {
          "base_uri": "https://localhost:8080/"
        },
        "id": "p1fY0OUyJMBD",
        "outputId": "2267ab01-81de-40ce-be32-8ffbe4133cd5"
      },
      "execution_count": null,
      "outputs": [
        {
          "output_type": "execute_result",
          "data": {
            "text/plain": [
              "Wrangler Men's Premium Performance Cowboy Cut Jean    60\n",
              "True Religion Men's Ricky Straight Jean               41\n",
              "Puma Men's Socks                                      39\n",
              "Fruit of the Loom Women's 6-Pack Crew Socks           37\n",
              "Wrangler Men's Rugged Wear Classic Fit Jean           36\n",
              "Name: name, dtype: int64"
            ]
          },
          "metadata": {},
          "execution_count": 145
        }
      ]
    },
    {
      "cell_type": "code",
      "source": [
        "# Which specific products are being purchased the least?\n",
        "order_items.name.value_counts().sort_values().head()"
      ],
      "metadata": {
        "colab": {
          "base_uri": "https://localhost:8080/"
        },
        "id": "voGznBylPbxp",
        "outputId": "b979d520-9ae6-4ecd-9fe7-5bdbc8310c07"
      },
      "execution_count": null,
      "outputs": [
        {
          "output_type": "execute_result",
          "data": {
            "text/plain": [
              "Hard Tail A-line skirt (black)              1\n",
              "Joe's Jeans Men's King Brixton Jean         1\n",
              "Ripe Maternity Women's Jacob Tunic Dress    1\n",
              "Nautica Men's Anchor Deck Polo              1\n",
              "HUGO BOSS Men's 3 Pack Traditional Brief    1\n",
              "Name: name, dtype: int64"
            ]
          },
          "metadata": {},
          "execution_count": 146
        }
      ]
    },
    {
      "cell_type": "markdown",
      "source": [
        "# Data Exploration of Product Web Views"
      ],
      "metadata": {
        "id": "HgjbJeZIuZx_"
      }
    },
    {
      "cell_type": "code",
      "source": [
        "# Joining id on user_id to find number of web views per product\n",
        "sql = '''\n",
        "SELECT * FROM `bigquery-public-data.thelook_ecommerce.events` oi\n",
        "INNER JOIN `bigquery-public-data.thelook_ecommerce.products` p \n",
        "ON oi.user_id = p.id\n",
        "'''\n",
        "\n",
        "WebViews = pd.io.gbq.read_gbq(sql,project_id=project_id,\n",
        "                                      index_col='id')"
      ],
      "metadata": {
        "id": "5v6GImjKUVuP"
      },
      "execution_count": null,
      "outputs": []
    },
    {
      "cell_type": "code",
      "source": [
        "# This table contains all products that had a web view.\n",
        "WebViews.head()"
      ],
      "metadata": {
        "colab": {
          "base_uri": "https://localhost:8080/",
          "height": 868
        },
        "id": "nUUaI_gH3wXA",
        "outputId": "c9a98908-d297-4efb-cf0f-f5b81954c837"
      },
      "execution_count": null,
      "outputs": [
        {
          "output_type": "execute_result",
          "data": {
            "text/plain": [
              "        user_id  sequence_number                            session_id  \\\n",
              "id                                                                       \n",
              "197871    15294                3  7f19f444-45ba-414f-8943-f80dd4611196   \n",
              "28584      2212                6  cb9eaff1-213b-47a5-b526-e8c23f058843   \n",
              "82793      6447                6  bf0dfb1d-2404-4837-adff-549f453a6957   \n",
              "9113        703               12  690ff11c-0458-43f2-b22d-9d692246e581   \n",
              "94037      7298                4  34c5f4b5-927d-4345-bb90-5778d525fc92   \n",
              "\n",
              "                             created_at       ip_address       city  \\\n",
              "id                                                                    \n",
              "197871        2023-02-10 08:26:45+00:00     33.189.48.36  Bogatynia   \n",
              "28584  2023-04-15 04:01:30.040335+00:00      43.3.119.75  Bogatynia   \n",
              "82793         2021-03-28 02:44:10+00:00    148.199.93.73  Bogatynia   \n",
              "9113          2021-09-28 14:14:48+00:00  194.119.190.117  Bogatynia   \n",
              "94037         2021-02-02 13:46:40+00:00   211.213.97.104  Bogatynia   \n",
              "\n",
              "               state postal_code browser traffic_source  ... event_type  \\\n",
              "id                                                       ...              \n",
              "197871  Dolnośląskie          59  Chrome          Email  ...       cart   \n",
              "28584   Dolnośląskie          59  Chrome          Email  ...       cart   \n",
              "82793   Dolnośląskie          59  Safari          Email  ...       cart   \n",
              "9113    Dolnośląskie          59  Chrome       Facebook  ...       cart   \n",
              "94037   Dolnośląskie          59  Chrome        Adwords  ...       cart   \n",
              "\n",
              "         id_1       cost                       category  \\\n",
              "id                                                        \n",
              "197871  15294   5.160000                           Plus   \n",
              "28584    2212  20.450881  Fashion Hoodies & Sweatshirts   \n",
              "82793    6447  28.299181                         Shorts   \n",
              "9113      703   6.645600                    Tops & Tees   \n",
              "94037    7298  18.717931                         Skirts   \n",
              "\n",
              "                                                     name          brand  \\\n",
              "id                                                                         \n",
              "197871  K. Bell Socks Women's 6 Pack Heather Animal Socks        K. Bell   \n",
              "28584   District Made - Ladies Mini Stripe Full-Zip Ho...  District Made   \n",
              "82793          Carhartt Women's Original Fit Tomboy Short       Carhartt   \n",
              "9113    Allegra K Thumb Hole Sleeve Scoop Neck Autumn ...      Allegra K   \n",
              "94037   BLACK SKIRT MAXI WRAP ANGLED - FITS (ONE SIZE)...   LOTUSTRADERS   \n",
              "\n",
              "       retail_price  department                               sku  \\\n",
              "id                                                                  \n",
              "197871    10.000000       Women  2EBB6C06BDC16EF37EC965C6B325B5C6   \n",
              "28584     42.080002       Women  05A70454516ECD9194C293B0E415777F   \n",
              "82793     55.380001       Women  88CCF9A98E8519B2011DF33952832F2F   \n",
              "9113      11.360000       Women  D6C651DDCD97183B2E40BC464231C962   \n",
              "94037     45.990002       Women  CC360B61D7EB072C77A4BEDDEBB3C95B   \n",
              "\n",
              "       distribution_center_id  \n",
              "id                             \n",
              "197871                      5  \n",
              "28584                       7  \n",
              "82793                       3  \n",
              "9113                        9  \n",
              "94037                       8  \n",
              "\n",
              "[5 rows x 21 columns]"
            ],
            "text/html": [
              "\n",
              "  <div id=\"df-a69a8aaa-aff3-46e0-aaa3-618e67f0d6ad\">\n",
              "    <div class=\"colab-df-container\">\n",
              "      <div>\n",
              "<style scoped>\n",
              "    .dataframe tbody tr th:only-of-type {\n",
              "        vertical-align: middle;\n",
              "    }\n",
              "\n",
              "    .dataframe tbody tr th {\n",
              "        vertical-align: top;\n",
              "    }\n",
              "\n",
              "    .dataframe thead th {\n",
              "        text-align: right;\n",
              "    }\n",
              "</style>\n",
              "<table border=\"1\" class=\"dataframe\">\n",
              "  <thead>\n",
              "    <tr style=\"text-align: right;\">\n",
              "      <th></th>\n",
              "      <th>user_id</th>\n",
              "      <th>sequence_number</th>\n",
              "      <th>session_id</th>\n",
              "      <th>created_at</th>\n",
              "      <th>ip_address</th>\n",
              "      <th>city</th>\n",
              "      <th>state</th>\n",
              "      <th>postal_code</th>\n",
              "      <th>browser</th>\n",
              "      <th>traffic_source</th>\n",
              "      <th>...</th>\n",
              "      <th>event_type</th>\n",
              "      <th>id_1</th>\n",
              "      <th>cost</th>\n",
              "      <th>category</th>\n",
              "      <th>name</th>\n",
              "      <th>brand</th>\n",
              "      <th>retail_price</th>\n",
              "      <th>department</th>\n",
              "      <th>sku</th>\n",
              "      <th>distribution_center_id</th>\n",
              "    </tr>\n",
              "    <tr>\n",
              "      <th>id</th>\n",
              "      <th></th>\n",
              "      <th></th>\n",
              "      <th></th>\n",
              "      <th></th>\n",
              "      <th></th>\n",
              "      <th></th>\n",
              "      <th></th>\n",
              "      <th></th>\n",
              "      <th></th>\n",
              "      <th></th>\n",
              "      <th></th>\n",
              "      <th></th>\n",
              "      <th></th>\n",
              "      <th></th>\n",
              "      <th></th>\n",
              "      <th></th>\n",
              "      <th></th>\n",
              "      <th></th>\n",
              "      <th></th>\n",
              "      <th></th>\n",
              "      <th></th>\n",
              "    </tr>\n",
              "  </thead>\n",
              "  <tbody>\n",
              "    <tr>\n",
              "      <th>197871</th>\n",
              "      <td>15294</td>\n",
              "      <td>3</td>\n",
              "      <td>7f19f444-45ba-414f-8943-f80dd4611196</td>\n",
              "      <td>2023-02-10 08:26:45+00:00</td>\n",
              "      <td>33.189.48.36</td>\n",
              "      <td>Bogatynia</td>\n",
              "      <td>Dolnośląskie</td>\n",
              "      <td>59</td>\n",
              "      <td>Chrome</td>\n",
              "      <td>Email</td>\n",
              "      <td>...</td>\n",
              "      <td>cart</td>\n",
              "      <td>15294</td>\n",
              "      <td>5.160000</td>\n",
              "      <td>Plus</td>\n",
              "      <td>K. Bell Socks Women's 6 Pack Heather Animal Socks</td>\n",
              "      <td>K. Bell</td>\n",
              "      <td>10.000000</td>\n",
              "      <td>Women</td>\n",
              "      <td>2EBB6C06BDC16EF37EC965C6B325B5C6</td>\n",
              "      <td>5</td>\n",
              "    </tr>\n",
              "    <tr>\n",
              "      <th>28584</th>\n",
              "      <td>2212</td>\n",
              "      <td>6</td>\n",
              "      <td>cb9eaff1-213b-47a5-b526-e8c23f058843</td>\n",
              "      <td>2023-04-15 04:01:30.040335+00:00</td>\n",
              "      <td>43.3.119.75</td>\n",
              "      <td>Bogatynia</td>\n",
              "      <td>Dolnośląskie</td>\n",
              "      <td>59</td>\n",
              "      <td>Chrome</td>\n",
              "      <td>Email</td>\n",
              "      <td>...</td>\n",
              "      <td>cart</td>\n",
              "      <td>2212</td>\n",
              "      <td>20.450881</td>\n",
              "      <td>Fashion Hoodies &amp; Sweatshirts</td>\n",
              "      <td>District Made - Ladies Mini Stripe Full-Zip Ho...</td>\n",
              "      <td>District Made</td>\n",
              "      <td>42.080002</td>\n",
              "      <td>Women</td>\n",
              "      <td>05A70454516ECD9194C293B0E415777F</td>\n",
              "      <td>7</td>\n",
              "    </tr>\n",
              "    <tr>\n",
              "      <th>82793</th>\n",
              "      <td>6447</td>\n",
              "      <td>6</td>\n",
              "      <td>bf0dfb1d-2404-4837-adff-549f453a6957</td>\n",
              "      <td>2021-03-28 02:44:10+00:00</td>\n",
              "      <td>148.199.93.73</td>\n",
              "      <td>Bogatynia</td>\n",
              "      <td>Dolnośląskie</td>\n",
              "      <td>59</td>\n",
              "      <td>Safari</td>\n",
              "      <td>Email</td>\n",
              "      <td>...</td>\n",
              "      <td>cart</td>\n",
              "      <td>6447</td>\n",
              "      <td>28.299181</td>\n",
              "      <td>Shorts</td>\n",
              "      <td>Carhartt Women's Original Fit Tomboy Short</td>\n",
              "      <td>Carhartt</td>\n",
              "      <td>55.380001</td>\n",
              "      <td>Women</td>\n",
              "      <td>88CCF9A98E8519B2011DF33952832F2F</td>\n",
              "      <td>3</td>\n",
              "    </tr>\n",
              "    <tr>\n",
              "      <th>9113</th>\n",
              "      <td>703</td>\n",
              "      <td>12</td>\n",
              "      <td>690ff11c-0458-43f2-b22d-9d692246e581</td>\n",
              "      <td>2021-09-28 14:14:48+00:00</td>\n",
              "      <td>194.119.190.117</td>\n",
              "      <td>Bogatynia</td>\n",
              "      <td>Dolnośląskie</td>\n",
              "      <td>59</td>\n",
              "      <td>Chrome</td>\n",
              "      <td>Facebook</td>\n",
              "      <td>...</td>\n",
              "      <td>cart</td>\n",
              "      <td>703</td>\n",
              "      <td>6.645600</td>\n",
              "      <td>Tops &amp; Tees</td>\n",
              "      <td>Allegra K Thumb Hole Sleeve Scoop Neck Autumn ...</td>\n",
              "      <td>Allegra K</td>\n",
              "      <td>11.360000</td>\n",
              "      <td>Women</td>\n",
              "      <td>D6C651DDCD97183B2E40BC464231C962</td>\n",
              "      <td>9</td>\n",
              "    </tr>\n",
              "    <tr>\n",
              "      <th>94037</th>\n",
              "      <td>7298</td>\n",
              "      <td>4</td>\n",
              "      <td>34c5f4b5-927d-4345-bb90-5778d525fc92</td>\n",
              "      <td>2021-02-02 13:46:40+00:00</td>\n",
              "      <td>211.213.97.104</td>\n",
              "      <td>Bogatynia</td>\n",
              "      <td>Dolnośląskie</td>\n",
              "      <td>59</td>\n",
              "      <td>Chrome</td>\n",
              "      <td>Adwords</td>\n",
              "      <td>...</td>\n",
              "      <td>cart</td>\n",
              "      <td>7298</td>\n",
              "      <td>18.717931</td>\n",
              "      <td>Skirts</td>\n",
              "      <td>BLACK SKIRT MAXI WRAP ANGLED - FITS (ONE SIZE)...</td>\n",
              "      <td>LOTUSTRADERS</td>\n",
              "      <td>45.990002</td>\n",
              "      <td>Women</td>\n",
              "      <td>CC360B61D7EB072C77A4BEDDEBB3C95B</td>\n",
              "      <td>8</td>\n",
              "    </tr>\n",
              "  </tbody>\n",
              "</table>\n",
              "<p>5 rows × 21 columns</p>\n",
              "</div>\n",
              "      <button class=\"colab-df-convert\" onclick=\"convertToInteractive('df-a69a8aaa-aff3-46e0-aaa3-618e67f0d6ad')\"\n",
              "              title=\"Convert this dataframe to an interactive table.\"\n",
              "              style=\"display:none;\">\n",
              "        \n",
              "  <svg xmlns=\"http://www.w3.org/2000/svg\" height=\"24px\"viewBox=\"0 0 24 24\"\n",
              "       width=\"24px\">\n",
              "    <path d=\"M0 0h24v24H0V0z\" fill=\"none\"/>\n",
              "    <path d=\"M18.56 5.44l.94 2.06.94-2.06 2.06-.94-2.06-.94-.94-2.06-.94 2.06-2.06.94zm-11 1L8.5 8.5l.94-2.06 2.06-.94-2.06-.94L8.5 2.5l-.94 2.06-2.06.94zm10 10l.94 2.06.94-2.06 2.06-.94-2.06-.94-.94-2.06-.94 2.06-2.06.94z\"/><path d=\"M17.41 7.96l-1.37-1.37c-.4-.4-.92-.59-1.43-.59-.52 0-1.04.2-1.43.59L10.3 9.45l-7.72 7.72c-.78.78-.78 2.05 0 2.83L4 21.41c.39.39.9.59 1.41.59.51 0 1.02-.2 1.41-.59l7.78-7.78 2.81-2.81c.8-.78.8-2.07 0-2.86zM5.41 20L4 18.59l7.72-7.72 1.47 1.35L5.41 20z\"/>\n",
              "  </svg>\n",
              "      </button>\n",
              "      \n",
              "  <style>\n",
              "    .colab-df-container {\n",
              "      display:flex;\n",
              "      flex-wrap:wrap;\n",
              "      gap: 12px;\n",
              "    }\n",
              "\n",
              "    .colab-df-convert {\n",
              "      background-color: #E8F0FE;\n",
              "      border: none;\n",
              "      border-radius: 50%;\n",
              "      cursor: pointer;\n",
              "      display: none;\n",
              "      fill: #1967D2;\n",
              "      height: 32px;\n",
              "      padding: 0 0 0 0;\n",
              "      width: 32px;\n",
              "    }\n",
              "\n",
              "    .colab-df-convert:hover {\n",
              "      background-color: #E2EBFA;\n",
              "      box-shadow: 0px 1px 2px rgba(60, 64, 67, 0.3), 0px 1px 3px 1px rgba(60, 64, 67, 0.15);\n",
              "      fill: #174EA6;\n",
              "    }\n",
              "\n",
              "    [theme=dark] .colab-df-convert {\n",
              "      background-color: #3B4455;\n",
              "      fill: #D2E3FC;\n",
              "    }\n",
              "\n",
              "    [theme=dark] .colab-df-convert:hover {\n",
              "      background-color: #434B5C;\n",
              "      box-shadow: 0px 1px 3px 1px rgba(0, 0, 0, 0.15);\n",
              "      filter: drop-shadow(0px 1px 2px rgba(0, 0, 0, 0.3));\n",
              "      fill: #FFFFFF;\n",
              "    }\n",
              "  </style>\n",
              "\n",
              "      <script>\n",
              "        const buttonEl =\n",
              "          document.querySelector('#df-a69a8aaa-aff3-46e0-aaa3-618e67f0d6ad button.colab-df-convert');\n",
              "        buttonEl.style.display =\n",
              "          google.colab.kernel.accessAllowed ? 'block' : 'none';\n",
              "\n",
              "        async function convertToInteractive(key) {\n",
              "          const element = document.querySelector('#df-a69a8aaa-aff3-46e0-aaa3-618e67f0d6ad');\n",
              "          const dataTable =\n",
              "            await google.colab.kernel.invokeFunction('convertToInteractive',\n",
              "                                                     [key], {});\n",
              "          if (!dataTable) return;\n",
              "\n",
              "          const docLinkHtml = 'Like what you see? Visit the ' +\n",
              "            '<a target=\"_blank\" href=https://colab.research.google.com/notebooks/data_table.ipynb>data table notebook</a>'\n",
              "            + ' to learn more about interactive tables.';\n",
              "          element.innerHTML = '';\n",
              "          dataTable['output_type'] = 'display_data';\n",
              "          await google.colab.output.renderOutput(dataTable, element);\n",
              "          const docLink = document.createElement('div');\n",
              "          docLink.innerHTML = docLinkHtml;\n",
              "          element.appendChild(docLink);\n",
              "        }\n",
              "      </script>\n",
              "    </div>\n",
              "  </div>\n",
              "  "
            ]
          },
          "metadata": {},
          "execution_count": 148
        }
      ]
    },
    {
      "cell_type": "code",
      "source": [
        "# Web views per category\n",
        "WebViews.category.value_counts().sort_values().head()"
      ],
      "metadata": {
        "colab": {
          "base_uri": "https://localhost:8080/"
        },
        "id": "n7dBX9hZ3wZe",
        "outputId": "05ae7421-157c-4bd2-f72f-d83096c09265"
      },
      "execution_count": null,
      "outputs": [
        {
          "output_type": "execute_result",
          "data": {
            "text/plain": [
              "Clothing Sets           510\n",
              "Jumpsuits & Rompers    1980\n",
              "Suits                  2200\n",
              "Skirts                 4714\n",
              "Leggings               6775\n",
              "Name: category, dtype: int64"
            ]
          },
          "metadata": {},
          "execution_count": 149
        }
      ]
    },
    {
      "cell_type": "code",
      "source": [
        "# Web views by product name\n",
        "WebViews.name.value_counts().sort_values().head()"
      ],
      "metadata": {
        "colab": {
          "base_uri": "https://localhost:8080/"
        },
        "id": "RFUYfW5n3wcz",
        "outputId": "7d84565e-8665-4ffd-94c8-fe894287c8b7"
      },
      "execution_count": null,
      "outputs": [
        {
          "output_type": "execute_result",
          "data": {
            "text/plain": [
              "EARNEST SEWN DENIM Men's Ramone Truman Jean                           5\n",
              "Mens Straight Leg Jeans                                               5\n",
              "Yimei Women's Sexy Panty Briefs Knickers Bikini Lingerie Underwear    5\n",
              "Augusta Sportswear Hooded Taffeta Flannel Lined Jacket. 3277          5\n",
              "DKNYC Women's Bonded Lace Pencil Skirt                                5\n",
              "Name: name, dtype: int64"
            ]
          },
          "metadata": {},
          "execution_count": 150
        }
      ]
    },
    {
      "cell_type": "markdown",
      "source": [
        "# Cutting 20% of Products"
      ],
      "metadata": {
        "id": "VsDV-5B69bEW"
      }
    },
    {
      "cell_type": "markdown",
      "source": [
        "We are going to be cutting approximately 5,824 products based on our pevious data exploration. \n",
        "\n",
        "The most important thing to consider when cutting products is their bottom line. How much revenue is each category bringing in? We want to cut products that are bringing in the least amount of revenue. This could be due to a low average profit margin per item or the item's sales volume. \n",
        "\n",
        "Based on the profit margin for each category we will start by cutting \"Clothing Sets\". This profit margin is significantly lower than the rest, with the next closest category still bringing in 240% as much revenue. \n",
        "\n",
        "Clothing Sets consist of 37 different products. This is a small percentage of our total products, but the profits are so low that we will still cut the products within this category.\n",
        "\n",
        "Jumpsuits & Rompers are the second lowest category in terms of total revenue brought in, and there are 162 products in this category. This will be cut as well. We are now at 199 products cut.\n",
        "\n",
        "\n",
        "Leggings bring in the next lowest revenue at 34,557. This is almost 5x as much as the \"Clothing Sets\" category. Let's dive a little deeper into which specific products from this category we should and should not cut."
      ],
      "metadata": {
        "id": "bIu2a4gm9hpl"
      }
    },
    {
      "cell_type": "code",
      "source": [
        "# Starting a dataframe of products that have been cut\n",
        "ProductsCut = products[products['category'] == 'Clothing Sets']"
      ],
      "metadata": {
        "id": "LtK5VwR-ylzK"
      },
      "execution_count": null,
      "outputs": []
    },
    {
      "cell_type": "code",
      "source": [
        "# See how many products you have cut so far\n",
        "temp = products[products['category'] == 'Jumpsuits & Rompers']\n",
        "ProductsCut = ProductsCut.append(temp)\n",
        "ProductsCut.shape"
      ],
      "metadata": {
        "colab": {
          "base_uri": "https://localhost:8080/"
        },
        "id": "Gn1E69itzSXD",
        "outputId": "5ce540e8-1aaf-4e8e-e612-d8cb04909a8e"
      },
      "execution_count": null,
      "outputs": [
        {
          "output_type": "stream",
          "name": "stderr",
          "text": [
            "<ipython-input-152-527ad4c89607>:3: FutureWarning: The frame.append method is deprecated and will be removed from pandas in a future version. Use pandas.concat instead.\n",
            "  ProductsCut = ProductsCut.append(temp)\n"
          ]
        },
        {
          "output_type": "execute_result",
          "data": {
            "text/plain": [
              "(199, 9)"
            ]
          },
          "metadata": {},
          "execution_count": 152
        }
      ]
    },
    {
      "cell_type": "code",
      "source": [
        "# Filter to only look at items ordered from the category, \"Leggings\"\n",
        "leggings = order_items[order_items['category'] == 'Leggings']\n",
        "leggings.head()"
      ],
      "metadata": {
        "colab": {
          "base_uri": "https://localhost:8080/",
          "height": 561
        },
        "id": "Qfxszo1bC2gn",
        "outputId": "6feba784-ee41-4835-e0fd-78009ea0a99e"
      },
      "execution_count": null,
      "outputs": [
        {
          "output_type": "execute_result",
          "data": {
            "text/plain": [
              "        order_id  user_id  product_id  inventory_item_id    status  \\\n",
              "id                                                                   \n",
              "81774      56390    45531        6250             220618   Shipped   \n",
              "31259      21602    17345        6250              84391  Complete   \n",
              "160713    110718    88941        6250             433807  Complete   \n",
              "162602    111997    89979        6250             438899  Complete   \n",
              "149543    103076    82922        6250             403871  Returned   \n",
              "\n",
              "                      created_at                shipped_at  \\\n",
              "id                                                           \n",
              "81774  2023-03-29 09:57:01+00:00 2023-03-31 23:14:00+00:00   \n",
              "31259  2023-01-28 05:28:03+00:00 2023-01-27 12:27:00+00:00   \n",
              "160713 2022-08-18 07:12:25+00:00 2022-08-15 04:54:00+00:00   \n",
              "162602 2021-12-11 14:55:49+00:00 2021-12-13 16:16:00+00:00   \n",
              "149543 2021-03-04 22:22:40+00:00 2021-03-07 04:01:00+00:00   \n",
              "\n",
              "                    delivered_at               returned_at  sale_price  id_1  \\\n",
              "id                                                                             \n",
              "81774                        NaT                       NaT         5.5  6250   \n",
              "31259  2023-01-30 21:35:00+00:00                       NaT         5.5  6250   \n",
              "160713 2022-08-16 15:41:00+00:00                       NaT         5.5  6250   \n",
              "162602 2021-12-18 02:15:00+00:00                       NaT         5.5  6250   \n",
              "149543 2021-03-11 19:59:00+00:00 2021-03-12 11:32:00+00:00         5.5  6250   \n",
              "\n",
              "          cost  category                               name          brand  \\\n",
              "id                                                                           \n",
              "81774   3.4155  Leggings  17 Inches Seamless Leggings White  FineBrandShop   \n",
              "31259   3.4155  Leggings  17 Inches Seamless Leggings White  FineBrandShop   \n",
              "160713  3.4155  Leggings  17 Inches Seamless Leggings White  FineBrandShop   \n",
              "162602  3.4155  Leggings  17 Inches Seamless Leggings White  FineBrandShop   \n",
              "149543  3.4155  Leggings  17 Inches Seamless Leggings White  FineBrandShop   \n",
              "\n",
              "        retail_price department                               sku  \\\n",
              "id                                                                  \n",
              "81774            5.5      Women  947018640BF36A2BB609D3557A285329   \n",
              "31259            5.5      Women  947018640BF36A2BB609D3557A285329   \n",
              "160713           5.5      Women  947018640BF36A2BB609D3557A285329   \n",
              "162602           5.5      Women  947018640BF36A2BB609D3557A285329   \n",
              "149543           5.5      Women  947018640BF36A2BB609D3557A285329   \n",
              "\n",
              "        distribution_center_id  profit  \n",
              "id                                      \n",
              "81774                        7  2.0845  \n",
              "31259                        7  2.0845  \n",
              "160713                       7  2.0845  \n",
              "162602                       7  2.0845  \n",
              "149543                       7  2.0845  "
            ],
            "text/html": [
              "\n",
              "  <div id=\"df-7f8c1f40-da97-48eb-b993-1adfef8e97f7\">\n",
              "    <div class=\"colab-df-container\">\n",
              "      <div>\n",
              "<style scoped>\n",
              "    .dataframe tbody tr th:only-of-type {\n",
              "        vertical-align: middle;\n",
              "    }\n",
              "\n",
              "    .dataframe tbody tr th {\n",
              "        vertical-align: top;\n",
              "    }\n",
              "\n",
              "    .dataframe thead th {\n",
              "        text-align: right;\n",
              "    }\n",
              "</style>\n",
              "<table border=\"1\" class=\"dataframe\">\n",
              "  <thead>\n",
              "    <tr style=\"text-align: right;\">\n",
              "      <th></th>\n",
              "      <th>order_id</th>\n",
              "      <th>user_id</th>\n",
              "      <th>product_id</th>\n",
              "      <th>inventory_item_id</th>\n",
              "      <th>status</th>\n",
              "      <th>created_at</th>\n",
              "      <th>shipped_at</th>\n",
              "      <th>delivered_at</th>\n",
              "      <th>returned_at</th>\n",
              "      <th>sale_price</th>\n",
              "      <th>id_1</th>\n",
              "      <th>cost</th>\n",
              "      <th>category</th>\n",
              "      <th>name</th>\n",
              "      <th>brand</th>\n",
              "      <th>retail_price</th>\n",
              "      <th>department</th>\n",
              "      <th>sku</th>\n",
              "      <th>distribution_center_id</th>\n",
              "      <th>profit</th>\n",
              "    </tr>\n",
              "    <tr>\n",
              "      <th>id</th>\n",
              "      <th></th>\n",
              "      <th></th>\n",
              "      <th></th>\n",
              "      <th></th>\n",
              "      <th></th>\n",
              "      <th></th>\n",
              "      <th></th>\n",
              "      <th></th>\n",
              "      <th></th>\n",
              "      <th></th>\n",
              "      <th></th>\n",
              "      <th></th>\n",
              "      <th></th>\n",
              "      <th></th>\n",
              "      <th></th>\n",
              "      <th></th>\n",
              "      <th></th>\n",
              "      <th></th>\n",
              "      <th></th>\n",
              "      <th></th>\n",
              "    </tr>\n",
              "  </thead>\n",
              "  <tbody>\n",
              "    <tr>\n",
              "      <th>81774</th>\n",
              "      <td>56390</td>\n",
              "      <td>45531</td>\n",
              "      <td>6250</td>\n",
              "      <td>220618</td>\n",
              "      <td>Shipped</td>\n",
              "      <td>2023-03-29 09:57:01+00:00</td>\n",
              "      <td>2023-03-31 23:14:00+00:00</td>\n",
              "      <td>NaT</td>\n",
              "      <td>NaT</td>\n",
              "      <td>5.5</td>\n",
              "      <td>6250</td>\n",
              "      <td>3.4155</td>\n",
              "      <td>Leggings</td>\n",
              "      <td>17 Inches Seamless Leggings White</td>\n",
              "      <td>FineBrandShop</td>\n",
              "      <td>5.5</td>\n",
              "      <td>Women</td>\n",
              "      <td>947018640BF36A2BB609D3557A285329</td>\n",
              "      <td>7</td>\n",
              "      <td>2.0845</td>\n",
              "    </tr>\n",
              "    <tr>\n",
              "      <th>31259</th>\n",
              "      <td>21602</td>\n",
              "      <td>17345</td>\n",
              "      <td>6250</td>\n",
              "      <td>84391</td>\n",
              "      <td>Complete</td>\n",
              "      <td>2023-01-28 05:28:03+00:00</td>\n",
              "      <td>2023-01-27 12:27:00+00:00</td>\n",
              "      <td>2023-01-30 21:35:00+00:00</td>\n",
              "      <td>NaT</td>\n",
              "      <td>5.5</td>\n",
              "      <td>6250</td>\n",
              "      <td>3.4155</td>\n",
              "      <td>Leggings</td>\n",
              "      <td>17 Inches Seamless Leggings White</td>\n",
              "      <td>FineBrandShop</td>\n",
              "      <td>5.5</td>\n",
              "      <td>Women</td>\n",
              "      <td>947018640BF36A2BB609D3557A285329</td>\n",
              "      <td>7</td>\n",
              "      <td>2.0845</td>\n",
              "    </tr>\n",
              "    <tr>\n",
              "      <th>160713</th>\n",
              "      <td>110718</td>\n",
              "      <td>88941</td>\n",
              "      <td>6250</td>\n",
              "      <td>433807</td>\n",
              "      <td>Complete</td>\n",
              "      <td>2022-08-18 07:12:25+00:00</td>\n",
              "      <td>2022-08-15 04:54:00+00:00</td>\n",
              "      <td>2022-08-16 15:41:00+00:00</td>\n",
              "      <td>NaT</td>\n",
              "      <td>5.5</td>\n",
              "      <td>6250</td>\n",
              "      <td>3.4155</td>\n",
              "      <td>Leggings</td>\n",
              "      <td>17 Inches Seamless Leggings White</td>\n",
              "      <td>FineBrandShop</td>\n",
              "      <td>5.5</td>\n",
              "      <td>Women</td>\n",
              "      <td>947018640BF36A2BB609D3557A285329</td>\n",
              "      <td>7</td>\n",
              "      <td>2.0845</td>\n",
              "    </tr>\n",
              "    <tr>\n",
              "      <th>162602</th>\n",
              "      <td>111997</td>\n",
              "      <td>89979</td>\n",
              "      <td>6250</td>\n",
              "      <td>438899</td>\n",
              "      <td>Complete</td>\n",
              "      <td>2021-12-11 14:55:49+00:00</td>\n",
              "      <td>2021-12-13 16:16:00+00:00</td>\n",
              "      <td>2021-12-18 02:15:00+00:00</td>\n",
              "      <td>NaT</td>\n",
              "      <td>5.5</td>\n",
              "      <td>6250</td>\n",
              "      <td>3.4155</td>\n",
              "      <td>Leggings</td>\n",
              "      <td>17 Inches Seamless Leggings White</td>\n",
              "      <td>FineBrandShop</td>\n",
              "      <td>5.5</td>\n",
              "      <td>Women</td>\n",
              "      <td>947018640BF36A2BB609D3557A285329</td>\n",
              "      <td>7</td>\n",
              "      <td>2.0845</td>\n",
              "    </tr>\n",
              "    <tr>\n",
              "      <th>149543</th>\n",
              "      <td>103076</td>\n",
              "      <td>82922</td>\n",
              "      <td>6250</td>\n",
              "      <td>403871</td>\n",
              "      <td>Returned</td>\n",
              "      <td>2021-03-04 22:22:40+00:00</td>\n",
              "      <td>2021-03-07 04:01:00+00:00</td>\n",
              "      <td>2021-03-11 19:59:00+00:00</td>\n",
              "      <td>2021-03-12 11:32:00+00:00</td>\n",
              "      <td>5.5</td>\n",
              "      <td>6250</td>\n",
              "      <td>3.4155</td>\n",
              "      <td>Leggings</td>\n",
              "      <td>17 Inches Seamless Leggings White</td>\n",
              "      <td>FineBrandShop</td>\n",
              "      <td>5.5</td>\n",
              "      <td>Women</td>\n",
              "      <td>947018640BF36A2BB609D3557A285329</td>\n",
              "      <td>7</td>\n",
              "      <td>2.0845</td>\n",
              "    </tr>\n",
              "  </tbody>\n",
              "</table>\n",
              "</div>\n",
              "      <button class=\"colab-df-convert\" onclick=\"convertToInteractive('df-7f8c1f40-da97-48eb-b993-1adfef8e97f7')\"\n",
              "              title=\"Convert this dataframe to an interactive table.\"\n",
              "              style=\"display:none;\">\n",
              "        \n",
              "  <svg xmlns=\"http://www.w3.org/2000/svg\" height=\"24px\"viewBox=\"0 0 24 24\"\n",
              "       width=\"24px\">\n",
              "    <path d=\"M0 0h24v24H0V0z\" fill=\"none\"/>\n",
              "    <path d=\"M18.56 5.44l.94 2.06.94-2.06 2.06-.94-2.06-.94-.94-2.06-.94 2.06-2.06.94zm-11 1L8.5 8.5l.94-2.06 2.06-.94-2.06-.94L8.5 2.5l-.94 2.06-2.06.94zm10 10l.94 2.06.94-2.06 2.06-.94-2.06-.94-.94-2.06-.94 2.06-2.06.94z\"/><path d=\"M17.41 7.96l-1.37-1.37c-.4-.4-.92-.59-1.43-.59-.52 0-1.04.2-1.43.59L10.3 9.45l-7.72 7.72c-.78.78-.78 2.05 0 2.83L4 21.41c.39.39.9.59 1.41.59.51 0 1.02-.2 1.41-.59l7.78-7.78 2.81-2.81c.8-.78.8-2.07 0-2.86zM5.41 20L4 18.59l7.72-7.72 1.47 1.35L5.41 20z\"/>\n",
              "  </svg>\n",
              "      </button>\n",
              "      \n",
              "  <style>\n",
              "    .colab-df-container {\n",
              "      display:flex;\n",
              "      flex-wrap:wrap;\n",
              "      gap: 12px;\n",
              "    }\n",
              "\n",
              "    .colab-df-convert {\n",
              "      background-color: #E8F0FE;\n",
              "      border: none;\n",
              "      border-radius: 50%;\n",
              "      cursor: pointer;\n",
              "      display: none;\n",
              "      fill: #1967D2;\n",
              "      height: 32px;\n",
              "      padding: 0 0 0 0;\n",
              "      width: 32px;\n",
              "    }\n",
              "\n",
              "    .colab-df-convert:hover {\n",
              "      background-color: #E2EBFA;\n",
              "      box-shadow: 0px 1px 2px rgba(60, 64, 67, 0.3), 0px 1px 3px 1px rgba(60, 64, 67, 0.15);\n",
              "      fill: #174EA6;\n",
              "    }\n",
              "\n",
              "    [theme=dark] .colab-df-convert {\n",
              "      background-color: #3B4455;\n",
              "      fill: #D2E3FC;\n",
              "    }\n",
              "\n",
              "    [theme=dark] .colab-df-convert:hover {\n",
              "      background-color: #434B5C;\n",
              "      box-shadow: 0px 1px 3px 1px rgba(0, 0, 0, 0.15);\n",
              "      filter: drop-shadow(0px 1px 2px rgba(0, 0, 0, 0.3));\n",
              "      fill: #FFFFFF;\n",
              "    }\n",
              "  </style>\n",
              "\n",
              "      <script>\n",
              "        const buttonEl =\n",
              "          document.querySelector('#df-7f8c1f40-da97-48eb-b993-1adfef8e97f7 button.colab-df-convert');\n",
              "        buttonEl.style.display =\n",
              "          google.colab.kernel.accessAllowed ? 'block' : 'none';\n",
              "\n",
              "        async function convertToInteractive(key) {\n",
              "          const element = document.querySelector('#df-7f8c1f40-da97-48eb-b993-1adfef8e97f7');\n",
              "          const dataTable =\n",
              "            await google.colab.kernel.invokeFunction('convertToInteractive',\n",
              "                                                     [key], {});\n",
              "          if (!dataTable) return;\n",
              "\n",
              "          const docLinkHtml = 'Like what you see? Visit the ' +\n",
              "            '<a target=\"_blank\" href=https://colab.research.google.com/notebooks/data_table.ipynb>data table notebook</a>'\n",
              "            + ' to learn more about interactive tables.';\n",
              "          element.innerHTML = '';\n",
              "          dataTable['output_type'] = 'display_data';\n",
              "          await google.colab.output.renderOutput(dataTable, element);\n",
              "          const docLink = document.createElement('div');\n",
              "          docLink.innerHTML = docLinkHtml;\n",
              "          element.appendChild(docLink);\n",
              "        }\n",
              "      </script>\n",
              "    </div>\n",
              "  </div>\n",
              "  "
            ]
          },
          "metadata": {},
          "execution_count": 153
        }
      ]
    },
    {
      "cell_type": "code",
      "source": [
        "# Which brands are selling the most number of leggings?\n",
        "pd.set_option(\"display.max_rows\", None)\n",
        "leggings.brand.value_counts().sort_values(ascending = False).head(15)"
      ],
      "metadata": {
        "colab": {
          "base_uri": "https://localhost:8080/"
        },
        "id": "CIWi952XDY-q",
        "outputId": "352e462c-af56-4fc2-c40c-196aac93d660"
      },
      "execution_count": null,
      "outputs": [
        {
          "output_type": "execute_result",
          "data": {
            "text/plain": [
              "Allegra K           253\n",
              "SK Hat shop         178\n",
              "Anna-Kaci           177\n",
              "LeggingsQueen       161\n",
              "Yelete              141\n",
              "Stella Elyse        122\n",
              "FineBrandShop       119\n",
              "Soho Girls           98\n",
              "Luxury Divas         83\n",
              "boxed-gifts          80\n",
              "Icon                 51\n",
              "HUE                  49\n",
              "Hard Tail            46\n",
              "Nollia               43\n",
              "American Apparel     40\n",
              "Name: brand, dtype: int64"
            ]
          },
          "metadata": {},
          "execution_count": 154
        }
      ]
    },
    {
      "cell_type": "code",
      "source": [
        "# Create list of top 8 brands\n",
        "# 8 is where the dropoff is for this category.\n",
        "top8Brands = ['Allegra K', 'SK Hat shop', 'LeggingsQueen', 'Anna-Kaci', 'FineBrandShop', 'Yelete', 'Stella Elyse', 'Soho Girls']"
      ],
      "metadata": {
        "id": "Q3EtJq7_JmZ9"
      },
      "execution_count": null,
      "outputs": []
    },
    {
      "cell_type": "code",
      "source": [
        "# How many products are we left with to cut after excluding all leggings products from the top 8 brands?\n",
        "cut = products[products['category'] == 'Leggings']\n",
        "cutting = cut[~cut['brand'].isin(top8Brands)]\n",
        "cutting.shape"
      ],
      "metadata": {
        "colab": {
          "base_uri": "https://localhost:8080/"
        },
        "id": "Bhx5xdMUJCNv",
        "outputId": "a6565fd7-56e4-4761-9896-9c0cfa84a753"
      },
      "execution_count": null,
      "outputs": [
        {
          "output_type": "execute_result",
          "data": {
            "text/plain": [
              "(329, 9)"
            ]
          },
          "metadata": {},
          "execution_count": 156
        }
      ]
    },
    {
      "cell_type": "code",
      "source": [
        "# Running tally of the number of products we have cut already\n",
        "ProductsCut = ProductsCut.append(cutting)\n",
        "ProductsCut.shape"
      ],
      "metadata": {
        "colab": {
          "base_uri": "https://localhost:8080/"
        },
        "id": "Hr1JaKPr0jHX",
        "outputId": "ed744ff7-7e36-4eda-dd10-63dbada1294b"
      },
      "execution_count": null,
      "outputs": [
        {
          "output_type": "stream",
          "name": "stderr",
          "text": [
            "<ipython-input-157-def553d076f0>:2: FutureWarning: The frame.append method is deprecated and will be removed from pandas in a future version. Use pandas.concat instead.\n",
            "  ProductsCut = ProductsCut.append(cutting)\n"
          ]
        },
        {
          "output_type": "execute_result",
          "data": {
            "text/plain": [
              "(528, 9)"
            ]
          },
          "metadata": {},
          "execution_count": 157
        }
      ]
    },
    {
      "cell_type": "markdown",
      "source": [
        "There is a significant drop off in sales after the top 8 legging brands. Let's keep these 8 brands in stock so that our customers are not upset, but we will cut the other products. We are able to cut 329 products. We have now cut a total of 528 products."
      ],
      "metadata": {
        "id": "4X1RP_PlExme"
      }
    },
    {
      "cell_type": "markdown",
      "source": [
        "Next we'll look at cutting products from the \"Socks and Hosiery\" category. We want to see if there is a major dropoff in sales by brand in order to cut the correct portion of this category."
      ],
      "metadata": {
        "id": "PZv4nQ4YM1AR"
      }
    },
    {
      "cell_type": "code",
      "source": [
        "# Filter to only look at items ordered from the category, \"Socks & Hosiery\" \n",
        "socksHosiery = order_items[order_items['category'] == 'Socks & Hosiery']\n",
        "socksHosiery.head()"
      ],
      "metadata": {
        "colab": {
          "base_uri": "https://localhost:8080/",
          "height": 561
        },
        "id": "pjcj2pA0M0GP",
        "outputId": "d75c7b12-b8c3-466b-baf7-d66ee0be5219"
      },
      "execution_count": null,
      "outputs": [
        {
          "output_type": "execute_result",
          "data": {
            "text/plain": [
              "        order_id  user_id  product_id  inventory_item_id    status  \\\n",
              "id                                                                   \n",
              "51397      35393    28496        9002             138682   Shipped   \n",
              "70835      48837    39390        9002             191022   Shipped   \n",
              "103900     71708    57875        9002             280429   Shipped   \n",
              "124700     86007    69278        9002             336801   Shipped   \n",
              "24284      16812    13427        9002              65494  Complete   \n",
              "\n",
              "                      created_at                shipped_at  \\\n",
              "id                                                           \n",
              "51397  2022-09-21 15:45:37+00:00 2022-09-22 13:30:00+00:00   \n",
              "70835  2022-01-18 16:35:43+00:00 2022-01-18 19:20:00+00:00   \n",
              "103900 2022-06-26 06:08:07+00:00 2022-06-29 01:46:00+00:00   \n",
              "124700 2023-03-17 15:33:42+00:00 2023-03-13 17:02:00+00:00   \n",
              "24284  2023-03-23 06:52:52+00:00 2023-03-24 03:01:00+00:00   \n",
              "\n",
              "                    delivered_at returned_at  sale_price  id_1   cost  \\\n",
              "id                                                                      \n",
              "51397                        NaT         NaT         5.0  9002  2.235   \n",
              "70835                        NaT         NaT         5.0  9002  2.235   \n",
              "103900                       NaT         NaT         5.0  9002  2.235   \n",
              "124700                       NaT         NaT         5.0  9002  2.235   \n",
              "24284  2023-03-24 05:26:00+00:00         NaT         5.0  9002  2.235   \n",
              "\n",
              "               category                   name brand  retail_price department  \\\n",
              "id                                                                              \n",
              "51397   Socks & Hosiery  LRG Hensler Crew Sock   LRG           5.0      Women   \n",
              "70835   Socks & Hosiery  LRG Hensler Crew Sock   LRG           5.0      Women   \n",
              "103900  Socks & Hosiery  LRG Hensler Crew Sock   LRG           5.0      Women   \n",
              "124700  Socks & Hosiery  LRG Hensler Crew Sock   LRG           5.0      Women   \n",
              "24284   Socks & Hosiery  LRG Hensler Crew Sock   LRG           5.0      Women   \n",
              "\n",
              "                                     sku  distribution_center_id  profit  \n",
              "id                                                                        \n",
              "51397   F3957FA3BEA9138B3F54F0E18975A30C                       2   2.765  \n",
              "70835   F3957FA3BEA9138B3F54F0E18975A30C                       2   2.765  \n",
              "103900  F3957FA3BEA9138B3F54F0E18975A30C                       2   2.765  \n",
              "124700  F3957FA3BEA9138B3F54F0E18975A30C                       2   2.765  \n",
              "24284   F3957FA3BEA9138B3F54F0E18975A30C                       2   2.765  "
            ],
            "text/html": [
              "\n",
              "  <div id=\"df-7d1660b9-5c16-4114-99e6-ccac9560ca69\">\n",
              "    <div class=\"colab-df-container\">\n",
              "      <div>\n",
              "<style scoped>\n",
              "    .dataframe tbody tr th:only-of-type {\n",
              "        vertical-align: middle;\n",
              "    }\n",
              "\n",
              "    .dataframe tbody tr th {\n",
              "        vertical-align: top;\n",
              "    }\n",
              "\n",
              "    .dataframe thead th {\n",
              "        text-align: right;\n",
              "    }\n",
              "</style>\n",
              "<table border=\"1\" class=\"dataframe\">\n",
              "  <thead>\n",
              "    <tr style=\"text-align: right;\">\n",
              "      <th></th>\n",
              "      <th>order_id</th>\n",
              "      <th>user_id</th>\n",
              "      <th>product_id</th>\n",
              "      <th>inventory_item_id</th>\n",
              "      <th>status</th>\n",
              "      <th>created_at</th>\n",
              "      <th>shipped_at</th>\n",
              "      <th>delivered_at</th>\n",
              "      <th>returned_at</th>\n",
              "      <th>sale_price</th>\n",
              "      <th>id_1</th>\n",
              "      <th>cost</th>\n",
              "      <th>category</th>\n",
              "      <th>name</th>\n",
              "      <th>brand</th>\n",
              "      <th>retail_price</th>\n",
              "      <th>department</th>\n",
              "      <th>sku</th>\n",
              "      <th>distribution_center_id</th>\n",
              "      <th>profit</th>\n",
              "    </tr>\n",
              "    <tr>\n",
              "      <th>id</th>\n",
              "      <th></th>\n",
              "      <th></th>\n",
              "      <th></th>\n",
              "      <th></th>\n",
              "      <th></th>\n",
              "      <th></th>\n",
              "      <th></th>\n",
              "      <th></th>\n",
              "      <th></th>\n",
              "      <th></th>\n",
              "      <th></th>\n",
              "      <th></th>\n",
              "      <th></th>\n",
              "      <th></th>\n",
              "      <th></th>\n",
              "      <th></th>\n",
              "      <th></th>\n",
              "      <th></th>\n",
              "      <th></th>\n",
              "      <th></th>\n",
              "    </tr>\n",
              "  </thead>\n",
              "  <tbody>\n",
              "    <tr>\n",
              "      <th>51397</th>\n",
              "      <td>35393</td>\n",
              "      <td>28496</td>\n",
              "      <td>9002</td>\n",
              "      <td>138682</td>\n",
              "      <td>Shipped</td>\n",
              "      <td>2022-09-21 15:45:37+00:00</td>\n",
              "      <td>2022-09-22 13:30:00+00:00</td>\n",
              "      <td>NaT</td>\n",
              "      <td>NaT</td>\n",
              "      <td>5.0</td>\n",
              "      <td>9002</td>\n",
              "      <td>2.235</td>\n",
              "      <td>Socks &amp; Hosiery</td>\n",
              "      <td>LRG Hensler Crew Sock</td>\n",
              "      <td>LRG</td>\n",
              "      <td>5.0</td>\n",
              "      <td>Women</td>\n",
              "      <td>F3957FA3BEA9138B3F54F0E18975A30C</td>\n",
              "      <td>2</td>\n",
              "      <td>2.765</td>\n",
              "    </tr>\n",
              "    <tr>\n",
              "      <th>70835</th>\n",
              "      <td>48837</td>\n",
              "      <td>39390</td>\n",
              "      <td>9002</td>\n",
              "      <td>191022</td>\n",
              "      <td>Shipped</td>\n",
              "      <td>2022-01-18 16:35:43+00:00</td>\n",
              "      <td>2022-01-18 19:20:00+00:00</td>\n",
              "      <td>NaT</td>\n",
              "      <td>NaT</td>\n",
              "      <td>5.0</td>\n",
              "      <td>9002</td>\n",
              "      <td>2.235</td>\n",
              "      <td>Socks &amp; Hosiery</td>\n",
              "      <td>LRG Hensler Crew Sock</td>\n",
              "      <td>LRG</td>\n",
              "      <td>5.0</td>\n",
              "      <td>Women</td>\n",
              "      <td>F3957FA3BEA9138B3F54F0E18975A30C</td>\n",
              "      <td>2</td>\n",
              "      <td>2.765</td>\n",
              "    </tr>\n",
              "    <tr>\n",
              "      <th>103900</th>\n",
              "      <td>71708</td>\n",
              "      <td>57875</td>\n",
              "      <td>9002</td>\n",
              "      <td>280429</td>\n",
              "      <td>Shipped</td>\n",
              "      <td>2022-06-26 06:08:07+00:00</td>\n",
              "      <td>2022-06-29 01:46:00+00:00</td>\n",
              "      <td>NaT</td>\n",
              "      <td>NaT</td>\n",
              "      <td>5.0</td>\n",
              "      <td>9002</td>\n",
              "      <td>2.235</td>\n",
              "      <td>Socks &amp; Hosiery</td>\n",
              "      <td>LRG Hensler Crew Sock</td>\n",
              "      <td>LRG</td>\n",
              "      <td>5.0</td>\n",
              "      <td>Women</td>\n",
              "      <td>F3957FA3BEA9138B3F54F0E18975A30C</td>\n",
              "      <td>2</td>\n",
              "      <td>2.765</td>\n",
              "    </tr>\n",
              "    <tr>\n",
              "      <th>124700</th>\n",
              "      <td>86007</td>\n",
              "      <td>69278</td>\n",
              "      <td>9002</td>\n",
              "      <td>336801</td>\n",
              "      <td>Shipped</td>\n",
              "      <td>2023-03-17 15:33:42+00:00</td>\n",
              "      <td>2023-03-13 17:02:00+00:00</td>\n",
              "      <td>NaT</td>\n",
              "      <td>NaT</td>\n",
              "      <td>5.0</td>\n",
              "      <td>9002</td>\n",
              "      <td>2.235</td>\n",
              "      <td>Socks &amp; Hosiery</td>\n",
              "      <td>LRG Hensler Crew Sock</td>\n",
              "      <td>LRG</td>\n",
              "      <td>5.0</td>\n",
              "      <td>Women</td>\n",
              "      <td>F3957FA3BEA9138B3F54F0E18975A30C</td>\n",
              "      <td>2</td>\n",
              "      <td>2.765</td>\n",
              "    </tr>\n",
              "    <tr>\n",
              "      <th>24284</th>\n",
              "      <td>16812</td>\n",
              "      <td>13427</td>\n",
              "      <td>9002</td>\n",
              "      <td>65494</td>\n",
              "      <td>Complete</td>\n",
              "      <td>2023-03-23 06:52:52+00:00</td>\n",
              "      <td>2023-03-24 03:01:00+00:00</td>\n",
              "      <td>2023-03-24 05:26:00+00:00</td>\n",
              "      <td>NaT</td>\n",
              "      <td>5.0</td>\n",
              "      <td>9002</td>\n",
              "      <td>2.235</td>\n",
              "      <td>Socks &amp; Hosiery</td>\n",
              "      <td>LRG Hensler Crew Sock</td>\n",
              "      <td>LRG</td>\n",
              "      <td>5.0</td>\n",
              "      <td>Women</td>\n",
              "      <td>F3957FA3BEA9138B3F54F0E18975A30C</td>\n",
              "      <td>2</td>\n",
              "      <td>2.765</td>\n",
              "    </tr>\n",
              "  </tbody>\n",
              "</table>\n",
              "</div>\n",
              "      <button class=\"colab-df-convert\" onclick=\"convertToInteractive('df-7d1660b9-5c16-4114-99e6-ccac9560ca69')\"\n",
              "              title=\"Convert this dataframe to an interactive table.\"\n",
              "              style=\"display:none;\">\n",
              "        \n",
              "  <svg xmlns=\"http://www.w3.org/2000/svg\" height=\"24px\"viewBox=\"0 0 24 24\"\n",
              "       width=\"24px\">\n",
              "    <path d=\"M0 0h24v24H0V0z\" fill=\"none\"/>\n",
              "    <path d=\"M18.56 5.44l.94 2.06.94-2.06 2.06-.94-2.06-.94-.94-2.06-.94 2.06-2.06.94zm-11 1L8.5 8.5l.94-2.06 2.06-.94-2.06-.94L8.5 2.5l-.94 2.06-2.06.94zm10 10l.94 2.06.94-2.06 2.06-.94-2.06-.94-.94-2.06-.94 2.06-2.06.94z\"/><path d=\"M17.41 7.96l-1.37-1.37c-.4-.4-.92-.59-1.43-.59-.52 0-1.04.2-1.43.59L10.3 9.45l-7.72 7.72c-.78.78-.78 2.05 0 2.83L4 21.41c.39.39.9.59 1.41.59.51 0 1.02-.2 1.41-.59l7.78-7.78 2.81-2.81c.8-.78.8-2.07 0-2.86zM5.41 20L4 18.59l7.72-7.72 1.47 1.35L5.41 20z\"/>\n",
              "  </svg>\n",
              "      </button>\n",
              "      \n",
              "  <style>\n",
              "    .colab-df-container {\n",
              "      display:flex;\n",
              "      flex-wrap:wrap;\n",
              "      gap: 12px;\n",
              "    }\n",
              "\n",
              "    .colab-df-convert {\n",
              "      background-color: #E8F0FE;\n",
              "      border: none;\n",
              "      border-radius: 50%;\n",
              "      cursor: pointer;\n",
              "      display: none;\n",
              "      fill: #1967D2;\n",
              "      height: 32px;\n",
              "      padding: 0 0 0 0;\n",
              "      width: 32px;\n",
              "    }\n",
              "\n",
              "    .colab-df-convert:hover {\n",
              "      background-color: #E2EBFA;\n",
              "      box-shadow: 0px 1px 2px rgba(60, 64, 67, 0.3), 0px 1px 3px 1px rgba(60, 64, 67, 0.15);\n",
              "      fill: #174EA6;\n",
              "    }\n",
              "\n",
              "    [theme=dark] .colab-df-convert {\n",
              "      background-color: #3B4455;\n",
              "      fill: #D2E3FC;\n",
              "    }\n",
              "\n",
              "    [theme=dark] .colab-df-convert:hover {\n",
              "      background-color: #434B5C;\n",
              "      box-shadow: 0px 1px 3px 1px rgba(0, 0, 0, 0.15);\n",
              "      filter: drop-shadow(0px 1px 2px rgba(0, 0, 0, 0.3));\n",
              "      fill: #FFFFFF;\n",
              "    }\n",
              "  </style>\n",
              "\n",
              "      <script>\n",
              "        const buttonEl =\n",
              "          document.querySelector('#df-7d1660b9-5c16-4114-99e6-ccac9560ca69 button.colab-df-convert');\n",
              "        buttonEl.style.display =\n",
              "          google.colab.kernel.accessAllowed ? 'block' : 'none';\n",
              "\n",
              "        async function convertToInteractive(key) {\n",
              "          const element = document.querySelector('#df-7d1660b9-5c16-4114-99e6-ccac9560ca69');\n",
              "          const dataTable =\n",
              "            await google.colab.kernel.invokeFunction('convertToInteractive',\n",
              "                                                     [key], {});\n",
              "          if (!dataTable) return;\n",
              "\n",
              "          const docLinkHtml = 'Like what you see? Visit the ' +\n",
              "            '<a target=\"_blank\" href=https://colab.research.google.com/notebooks/data_table.ipynb>data table notebook</a>'\n",
              "            + ' to learn more about interactive tables.';\n",
              "          element.innerHTML = '';\n",
              "          dataTable['output_type'] = 'display_data';\n",
              "          await google.colab.output.renderOutput(dataTable, element);\n",
              "          const docLink = document.createElement('div');\n",
              "          docLink.innerHTML = docLinkHtml;\n",
              "          element.appendChild(docLink);\n",
              "        }\n",
              "      </script>\n",
              "    </div>\n",
              "  </div>\n",
              "  "
            ]
          },
          "metadata": {},
          "execution_count": 158
        }
      ]
    },
    {
      "cell_type": "code",
      "source": [
        "# Which brands are selling the most number of \"Socks & Hosiery\"?\n",
        "socksHosiery.brand.value_counts().sort_values(ascending = False).head(15)"
      ],
      "metadata": {
        "colab": {
          "base_uri": "https://localhost:8080/"
        },
        "id": "0kdpx-JFOYby",
        "outputId": "50f16f28-642d-425e-dde8-34a4d05be109"
      },
      "execution_count": null,
      "outputs": [
        {
          "output_type": "execute_result",
          "data": {
            "text/plain": [
              "HUE               280\n",
              "Hanes             181\n",
              "Sock It To Me     142\n",
              "SK Hat shop       141\n",
              "SmartWool         128\n",
              "K. Bell           114\n",
              "Betsey Johnson    112\n",
              "Gold Toe          103\n",
              "Berkshire         103\n",
              "Angelina           92\n",
              "Foot Traffic       92\n",
              "Luxury Divas       62\n",
              "Nine West          60\n",
              "Snoozies           56\n",
              "Anne Klein         55\n",
              "Name: brand, dtype: int64"
            ]
          },
          "metadata": {},
          "execution_count": 159
        }
      ]
    },
    {
      "cell_type": "code",
      "source": [
        "# How many products do we have in the \"Socks & Hosiery\" category?\n",
        "sockHosProd = products[products['category'] == 'Socks & Hosiery']\n",
        "sockHosProd.shape"
      ],
      "metadata": {
        "colab": {
          "base_uri": "https://localhost:8080/"
        },
        "id": "gqex3VSBPv4m",
        "outputId": "e4b7932b-aecb-45e3-e4be-0dd1d921441f"
      },
      "execution_count": null,
      "outputs": [
        {
          "output_type": "execute_result",
          "data": {
            "text/plain": [
              "(666, 9)"
            ]
          },
          "metadata": {},
          "execution_count": 160
        }
      ]
    },
    {
      "cell_type": "code",
      "source": [
        "# Create list of top 7 brands\n",
        "# There is a dropoff after the 7th highest selling brand for this category\n",
        "top7Brands = ['HUE', 'Hanes', 'Sock It To Me', 'SK Hat shop', 'SmartWool', 'Gold Toe', 'K. Bell']"
      ],
      "metadata": {
        "id": "tOowGq9eVoZT"
      },
      "execution_count": null,
      "outputs": []
    },
    {
      "cell_type": "code",
      "source": [
        "# How many products are we left with to cut after excluding all \"Socks & Hosiery\" products from the top 7 brands?\n",
        "cut = products[products['category'] == 'Socks & Hosiery']\n",
        "cutting = cut[~cut['brand'].isin(top7Brands)]\n",
        "cutting.shape"
      ],
      "metadata": {
        "colab": {
          "base_uri": "https://localhost:8080/"
        },
        "id": "LGlfDmxFP-RJ",
        "outputId": "d46ec8a6-706d-46bd-f252-d3cad7fef57f"
      },
      "execution_count": null,
      "outputs": [
        {
          "output_type": "execute_result",
          "data": {
            "text/plain": [
              "(471, 9)"
            ]
          },
          "metadata": {},
          "execution_count": 162
        }
      ]
    },
    {
      "cell_type": "code",
      "source": [
        "# Running tally of the number of products we have cut already\n",
        "ProductsCut = ProductsCut.append(cutting)\n",
        "ProductsCut.shape"
      ],
      "metadata": {
        "colab": {
          "base_uri": "https://localhost:8080/"
        },
        "id": "rT0YVOP61aKO",
        "outputId": "1286eb98-2b8f-4bbf-8d7a-e4bbdf61376a"
      },
      "execution_count": null,
      "outputs": [
        {
          "output_type": "stream",
          "name": "stderr",
          "text": [
            "<ipython-input-163-def553d076f0>:2: FutureWarning: The frame.append method is deprecated and will be removed from pandas in a future version. Use pandas.concat instead.\n",
            "  ProductsCut = ProductsCut.append(cutting)\n"
          ]
        },
        {
          "output_type": "execute_result",
          "data": {
            "text/plain": [
              "(999, 9)"
            ]
          },
          "metadata": {},
          "execution_count": 163
        }
      ]
    },
    {
      "cell_type": "markdown",
      "source": [
        "Out of the 666 products under the category \"Socks & Hosiery\", 471 of them are not amoung the top 7 selling brands. We will cut this 471 which brings us to 999 products cut so far."
      ],
      "metadata": {
        "id": "-nXWGKE8QC1b"
      }
    },
    {
      "cell_type": "markdown",
      "source": [
        "In order to avoid cutting the same product twice, we will skip the category, \"socks\". We do not want to cut the same product twice."
      ],
      "metadata": {
        "id": "rkM2MfBbXjG7"
      }
    },
    {
      "cell_type": "markdown",
      "source": [
        "Next up we have the category suits. We want to see if there is a major dropoff in sales by brand in order to cut the correct portion of this category."
      ],
      "metadata": {
        "id": "uhXhRINfQmdR"
      }
    },
    {
      "cell_type": "code",
      "source": [
        "# Filter to only look at items ordered from the category, \"Suits\"\n",
        "suits = order_items[order_items['category'] == 'Suits']\n",
        "suits.head()"
      ],
      "metadata": {
        "colab": {
          "base_uri": "https://localhost:8080/",
          "height": 735
        },
        "id": "t5qa4fDUaTfU",
        "outputId": "fc8e1a8a-ce87-4cc4-abce-418e301205bd"
      },
      "execution_count": null,
      "outputs": [
        {
          "output_type": "execute_result",
          "data": {
            "text/plain": [
              "        order_id  user_id  product_id  inventory_item_id    status  \\\n",
              "id                                                                   \n",
              "45633      31446    25310        8116             123137   Shipped   \n",
              "139836     96428    77625        8116             377647   Shipped   \n",
              "168277    115904    93245        8116             454160   Shipped   \n",
              "102520     70731    57062        8116             276647  Returned   \n",
              "140226     96702    77838        8116             378729  Returned   \n",
              "\n",
              "                             created_at                       shipped_at  \\\n",
              "id                                                                         \n",
              "45633         2023-02-23 03:35:53+00:00        2023-02-24 23:36:00+00:00   \n",
              "139836        2021-08-10 06:29:46+00:00        2021-08-09 18:00:00+00:00   \n",
              "168277        2022-11-02 11:35:08+00:00        2022-11-05 04:31:00+00:00   \n",
              "102520        2022-12-31 07:00:38+00:00        2022-12-31 09:56:00+00:00   \n",
              "140226 2023-04-18 10:48:36.089332+00:00 2023-04-18 22:06:19.089332+00:00   \n",
              "\n",
              "                           delivered_at                      returned_at  \\\n",
              "id                                                                         \n",
              "45633                               NaT                              NaT   \n",
              "139836                              NaT                              NaT   \n",
              "168277                              NaT                              NaT   \n",
              "102520        2022-12-31 10:22:00+00:00        2023-01-03 04:31:00+00:00   \n",
              "140226 2023-04-19 02:22:19.089332+00:00 2023-04-20 18:27:19.089332+00:00   \n",
              "\n",
              "        sale_price  id_1    cost category  \\\n",
              "id                                          \n",
              "45633         54.0  8116  30.294    Suits   \n",
              "139836        54.0  8116  30.294    Suits   \n",
              "168277        54.0  8116  30.294    Suits   \n",
              "102520        54.0  8116  30.294    Suits   \n",
              "140226        54.0  8116  30.294    Suits   \n",
              "\n",
              "                                              name           brand  \\\n",
              "id                                                                   \n",
              "45633   Danny & Nicole Women's Bolero Jacket Dress  Danny & Nicole   \n",
              "139836  Danny & Nicole Women's Bolero Jacket Dress  Danny & Nicole   \n",
              "168277  Danny & Nicole Women's Bolero Jacket Dress  Danny & Nicole   \n",
              "102520  Danny & Nicole Women's Bolero Jacket Dress  Danny & Nicole   \n",
              "140226  Danny & Nicole Women's Bolero Jacket Dress  Danny & Nicole   \n",
              "\n",
              "        retail_price department                               sku  \\\n",
              "id                                                                  \n",
              "45633           54.0      Women  8F6242793017047D373F29F270388BA9   \n",
              "139836          54.0      Women  8F6242793017047D373F29F270388BA9   \n",
              "168277          54.0      Women  8F6242793017047D373F29F270388BA9   \n",
              "102520          54.0      Women  8F6242793017047D373F29F270388BA9   \n",
              "140226          54.0      Women  8F6242793017047D373F29F270388BA9   \n",
              "\n",
              "        distribution_center_id  profit  \n",
              "id                                      \n",
              "45633                        9  23.706  \n",
              "139836                       9  23.706  \n",
              "168277                       9  23.706  \n",
              "102520                       9  23.706  \n",
              "140226                       9  23.706  "
            ],
            "text/html": [
              "\n",
              "  <div id=\"df-1d138eea-94d1-48c6-b721-eea8b2176451\">\n",
              "    <div class=\"colab-df-container\">\n",
              "      <div>\n",
              "<style scoped>\n",
              "    .dataframe tbody tr th:only-of-type {\n",
              "        vertical-align: middle;\n",
              "    }\n",
              "\n",
              "    .dataframe tbody tr th {\n",
              "        vertical-align: top;\n",
              "    }\n",
              "\n",
              "    .dataframe thead th {\n",
              "        text-align: right;\n",
              "    }\n",
              "</style>\n",
              "<table border=\"1\" class=\"dataframe\">\n",
              "  <thead>\n",
              "    <tr style=\"text-align: right;\">\n",
              "      <th></th>\n",
              "      <th>order_id</th>\n",
              "      <th>user_id</th>\n",
              "      <th>product_id</th>\n",
              "      <th>inventory_item_id</th>\n",
              "      <th>status</th>\n",
              "      <th>created_at</th>\n",
              "      <th>shipped_at</th>\n",
              "      <th>delivered_at</th>\n",
              "      <th>returned_at</th>\n",
              "      <th>sale_price</th>\n",
              "      <th>id_1</th>\n",
              "      <th>cost</th>\n",
              "      <th>category</th>\n",
              "      <th>name</th>\n",
              "      <th>brand</th>\n",
              "      <th>retail_price</th>\n",
              "      <th>department</th>\n",
              "      <th>sku</th>\n",
              "      <th>distribution_center_id</th>\n",
              "      <th>profit</th>\n",
              "    </tr>\n",
              "    <tr>\n",
              "      <th>id</th>\n",
              "      <th></th>\n",
              "      <th></th>\n",
              "      <th></th>\n",
              "      <th></th>\n",
              "      <th></th>\n",
              "      <th></th>\n",
              "      <th></th>\n",
              "      <th></th>\n",
              "      <th></th>\n",
              "      <th></th>\n",
              "      <th></th>\n",
              "      <th></th>\n",
              "      <th></th>\n",
              "      <th></th>\n",
              "      <th></th>\n",
              "      <th></th>\n",
              "      <th></th>\n",
              "      <th></th>\n",
              "      <th></th>\n",
              "      <th></th>\n",
              "    </tr>\n",
              "  </thead>\n",
              "  <tbody>\n",
              "    <tr>\n",
              "      <th>45633</th>\n",
              "      <td>31446</td>\n",
              "      <td>25310</td>\n",
              "      <td>8116</td>\n",
              "      <td>123137</td>\n",
              "      <td>Shipped</td>\n",
              "      <td>2023-02-23 03:35:53+00:00</td>\n",
              "      <td>2023-02-24 23:36:00+00:00</td>\n",
              "      <td>NaT</td>\n",
              "      <td>NaT</td>\n",
              "      <td>54.0</td>\n",
              "      <td>8116</td>\n",
              "      <td>30.294</td>\n",
              "      <td>Suits</td>\n",
              "      <td>Danny &amp; Nicole Women's Bolero Jacket Dress</td>\n",
              "      <td>Danny &amp; Nicole</td>\n",
              "      <td>54.0</td>\n",
              "      <td>Women</td>\n",
              "      <td>8F6242793017047D373F29F270388BA9</td>\n",
              "      <td>9</td>\n",
              "      <td>23.706</td>\n",
              "    </tr>\n",
              "    <tr>\n",
              "      <th>139836</th>\n",
              "      <td>96428</td>\n",
              "      <td>77625</td>\n",
              "      <td>8116</td>\n",
              "      <td>377647</td>\n",
              "      <td>Shipped</td>\n",
              "      <td>2021-08-10 06:29:46+00:00</td>\n",
              "      <td>2021-08-09 18:00:00+00:00</td>\n",
              "      <td>NaT</td>\n",
              "      <td>NaT</td>\n",
              "      <td>54.0</td>\n",
              "      <td>8116</td>\n",
              "      <td>30.294</td>\n",
              "      <td>Suits</td>\n",
              "      <td>Danny &amp; Nicole Women's Bolero Jacket Dress</td>\n",
              "      <td>Danny &amp; Nicole</td>\n",
              "      <td>54.0</td>\n",
              "      <td>Women</td>\n",
              "      <td>8F6242793017047D373F29F270388BA9</td>\n",
              "      <td>9</td>\n",
              "      <td>23.706</td>\n",
              "    </tr>\n",
              "    <tr>\n",
              "      <th>168277</th>\n",
              "      <td>115904</td>\n",
              "      <td>93245</td>\n",
              "      <td>8116</td>\n",
              "      <td>454160</td>\n",
              "      <td>Shipped</td>\n",
              "      <td>2022-11-02 11:35:08+00:00</td>\n",
              "      <td>2022-11-05 04:31:00+00:00</td>\n",
              "      <td>NaT</td>\n",
              "      <td>NaT</td>\n",
              "      <td>54.0</td>\n",
              "      <td>8116</td>\n",
              "      <td>30.294</td>\n",
              "      <td>Suits</td>\n",
              "      <td>Danny &amp; Nicole Women's Bolero Jacket Dress</td>\n",
              "      <td>Danny &amp; Nicole</td>\n",
              "      <td>54.0</td>\n",
              "      <td>Women</td>\n",
              "      <td>8F6242793017047D373F29F270388BA9</td>\n",
              "      <td>9</td>\n",
              "      <td>23.706</td>\n",
              "    </tr>\n",
              "    <tr>\n",
              "      <th>102520</th>\n",
              "      <td>70731</td>\n",
              "      <td>57062</td>\n",
              "      <td>8116</td>\n",
              "      <td>276647</td>\n",
              "      <td>Returned</td>\n",
              "      <td>2022-12-31 07:00:38+00:00</td>\n",
              "      <td>2022-12-31 09:56:00+00:00</td>\n",
              "      <td>2022-12-31 10:22:00+00:00</td>\n",
              "      <td>2023-01-03 04:31:00+00:00</td>\n",
              "      <td>54.0</td>\n",
              "      <td>8116</td>\n",
              "      <td>30.294</td>\n",
              "      <td>Suits</td>\n",
              "      <td>Danny &amp; Nicole Women's Bolero Jacket Dress</td>\n",
              "      <td>Danny &amp; Nicole</td>\n",
              "      <td>54.0</td>\n",
              "      <td>Women</td>\n",
              "      <td>8F6242793017047D373F29F270388BA9</td>\n",
              "      <td>9</td>\n",
              "      <td>23.706</td>\n",
              "    </tr>\n",
              "    <tr>\n",
              "      <th>140226</th>\n",
              "      <td>96702</td>\n",
              "      <td>77838</td>\n",
              "      <td>8116</td>\n",
              "      <td>378729</td>\n",
              "      <td>Returned</td>\n",
              "      <td>2023-04-18 10:48:36.089332+00:00</td>\n",
              "      <td>2023-04-18 22:06:19.089332+00:00</td>\n",
              "      <td>2023-04-19 02:22:19.089332+00:00</td>\n",
              "      <td>2023-04-20 18:27:19.089332+00:00</td>\n",
              "      <td>54.0</td>\n",
              "      <td>8116</td>\n",
              "      <td>30.294</td>\n",
              "      <td>Suits</td>\n",
              "      <td>Danny &amp; Nicole Women's Bolero Jacket Dress</td>\n",
              "      <td>Danny &amp; Nicole</td>\n",
              "      <td>54.0</td>\n",
              "      <td>Women</td>\n",
              "      <td>8F6242793017047D373F29F270388BA9</td>\n",
              "      <td>9</td>\n",
              "      <td>23.706</td>\n",
              "    </tr>\n",
              "  </tbody>\n",
              "</table>\n",
              "</div>\n",
              "      <button class=\"colab-df-convert\" onclick=\"convertToInteractive('df-1d138eea-94d1-48c6-b721-eea8b2176451')\"\n",
              "              title=\"Convert this dataframe to an interactive table.\"\n",
              "              style=\"display:none;\">\n",
              "        \n",
              "  <svg xmlns=\"http://www.w3.org/2000/svg\" height=\"24px\"viewBox=\"0 0 24 24\"\n",
              "       width=\"24px\">\n",
              "    <path d=\"M0 0h24v24H0V0z\" fill=\"none\"/>\n",
              "    <path d=\"M18.56 5.44l.94 2.06.94-2.06 2.06-.94-2.06-.94-.94-2.06-.94 2.06-2.06.94zm-11 1L8.5 8.5l.94-2.06 2.06-.94-2.06-.94L8.5 2.5l-.94 2.06-2.06.94zm10 10l.94 2.06.94-2.06 2.06-.94-2.06-.94-.94-2.06-.94 2.06-2.06.94z\"/><path d=\"M17.41 7.96l-1.37-1.37c-.4-.4-.92-.59-1.43-.59-.52 0-1.04.2-1.43.59L10.3 9.45l-7.72 7.72c-.78.78-.78 2.05 0 2.83L4 21.41c.39.39.9.59 1.41.59.51 0 1.02-.2 1.41-.59l7.78-7.78 2.81-2.81c.8-.78.8-2.07 0-2.86zM5.41 20L4 18.59l7.72-7.72 1.47 1.35L5.41 20z\"/>\n",
              "  </svg>\n",
              "      </button>\n",
              "      \n",
              "  <style>\n",
              "    .colab-df-container {\n",
              "      display:flex;\n",
              "      flex-wrap:wrap;\n",
              "      gap: 12px;\n",
              "    }\n",
              "\n",
              "    .colab-df-convert {\n",
              "      background-color: #E8F0FE;\n",
              "      border: none;\n",
              "      border-radius: 50%;\n",
              "      cursor: pointer;\n",
              "      display: none;\n",
              "      fill: #1967D2;\n",
              "      height: 32px;\n",
              "      padding: 0 0 0 0;\n",
              "      width: 32px;\n",
              "    }\n",
              "\n",
              "    .colab-df-convert:hover {\n",
              "      background-color: #E2EBFA;\n",
              "      box-shadow: 0px 1px 2px rgba(60, 64, 67, 0.3), 0px 1px 3px 1px rgba(60, 64, 67, 0.15);\n",
              "      fill: #174EA6;\n",
              "    }\n",
              "\n",
              "    [theme=dark] .colab-df-convert {\n",
              "      background-color: #3B4455;\n",
              "      fill: #D2E3FC;\n",
              "    }\n",
              "\n",
              "    [theme=dark] .colab-df-convert:hover {\n",
              "      background-color: #434B5C;\n",
              "      box-shadow: 0px 1px 3px 1px rgba(0, 0, 0, 0.15);\n",
              "      filter: drop-shadow(0px 1px 2px rgba(0, 0, 0, 0.3));\n",
              "      fill: #FFFFFF;\n",
              "    }\n",
              "  </style>\n",
              "\n",
              "      <script>\n",
              "        const buttonEl =\n",
              "          document.querySelector('#df-1d138eea-94d1-48c6-b721-eea8b2176451 button.colab-df-convert');\n",
              "        buttonEl.style.display =\n",
              "          google.colab.kernel.accessAllowed ? 'block' : 'none';\n",
              "\n",
              "        async function convertToInteractive(key) {\n",
              "          const element = document.querySelector('#df-1d138eea-94d1-48c6-b721-eea8b2176451');\n",
              "          const dataTable =\n",
              "            await google.colab.kernel.invokeFunction('convertToInteractive',\n",
              "                                                     [key], {});\n",
              "          if (!dataTable) return;\n",
              "\n",
              "          const docLinkHtml = 'Like what you see? Visit the ' +\n",
              "            '<a target=\"_blank\" href=https://colab.research.google.com/notebooks/data_table.ipynb>data table notebook</a>'\n",
              "            + ' to learn more about interactive tables.';\n",
              "          element.innerHTML = '';\n",
              "          dataTable['output_type'] = 'display_data';\n",
              "          await google.colab.output.renderOutput(dataTable, element);\n",
              "          const docLink = document.createElement('div');\n",
              "          docLink.innerHTML = docLinkHtml;\n",
              "          element.appendChild(docLink);\n",
              "        }\n",
              "      </script>\n",
              "    </div>\n",
              "  </div>\n",
              "  "
            ]
          },
          "metadata": {},
          "execution_count": 164
        }
      ]
    },
    {
      "cell_type": "code",
      "source": [
        "# Which brands are selling the most number of \"Suits\"?\n",
        "# More importantly, which are selling the least?\n",
        "suits.brand.value_counts().sort_values(ascending = False)"
      ],
      "metadata": {
        "colab": {
          "base_uri": "https://localhost:8080/"
        },
        "id": "ZH_-QBfwbRPg",
        "outputId": "67da7dfe-c020-45ec-ffcd-64b7288f7535"
      },
      "execution_count": null,
      "outputs": [
        {
          "output_type": "execute_result",
          "data": {
            "text/plain": [
              "Evan Picone         200\n",
              "Kasper              181\n",
              "Ice                 152\n",
              "Tahari              134\n",
              "Le Suit             121\n",
              "Suit Studio          80\n",
              "Nine West            70\n",
              "Anne Klein           37\n",
              "Lesuit               23\n",
              "Roamans              23\n",
              "Danny & Nicole       23\n",
              "Jones New York       15\n",
              "LabelShopper          7\n",
              "Jessica London        7\n",
              "Sutton Studio         6\n",
              "Allegra K             6\n",
              "The Best Dressed      2\n",
              "Jessica Howard        2\n",
              "Name: brand, dtype: int64"
            ]
          },
          "metadata": {},
          "execution_count": 165
        }
      ]
    },
    {
      "cell_type": "code",
      "source": [
        "# Create list of top 5 brands\n",
        "# There is a dropoff after the 5th highest selling brand for this category\n",
        "top5Brands = ['Evan Picone', 'Kasper', 'Ice', 'Tahari', 'Le Suit']"
      ],
      "metadata": {
        "id": "3bbj-fXpbRTA"
      },
      "execution_count": null,
      "outputs": []
    },
    {
      "cell_type": "code",
      "source": [
        "# How many products are we left with to cut after excluding all \"Suits\" products from the top 7 brands?\n",
        "cut = products[products['category'] == 'Suits']\n",
        "cutting = cut[~cut['brand'].isin(top5Brands)]\n",
        "cutting.shape"
      ],
      "metadata": {
        "colab": {
          "base_uri": "https://localhost:8080/"
        },
        "id": "Ib67TfzrbRb-",
        "outputId": "009e4767-8793-4095-a0d5-cee1d796cbeb"
      },
      "execution_count": null,
      "outputs": [
        {
          "output_type": "execute_result",
          "data": {
            "text/plain": [
              "(51, 9)"
            ]
          },
          "metadata": {},
          "execution_count": 167
        }
      ]
    },
    {
      "cell_type": "code",
      "source": [
        "# Running tally of the number of products we have cut already\n",
        "ProductsCut = ProductsCut.append(cutting)\n",
        "ProductsCut.shape"
      ],
      "metadata": {
        "colab": {
          "base_uri": "https://localhost:8080/"
        },
        "id": "PR3V5FSR1xAy",
        "outputId": "90a58ced-8768-4fca-d04f-dfb004f3760a"
      },
      "execution_count": null,
      "outputs": [
        {
          "output_type": "stream",
          "name": "stderr",
          "text": [
            "<ipython-input-168-def553d076f0>:2: FutureWarning: The frame.append method is deprecated and will be removed from pandas in a future version. Use pandas.concat instead.\n",
            "  ProductsCut = ProductsCut.append(cutting)\n"
          ]
        },
        {
          "output_type": "execute_result",
          "data": {
            "text/plain": [
              "(1050, 9)"
            ]
          },
          "metadata": {},
          "execution_count": 168
        }
      ]
    },
    {
      "cell_type": "markdown",
      "source": [
        "We can cut another 51 products from the 'Suits and Sport Coats' category. We are now up to 1050 products cut while still keeping our top brands from each category so far. "
      ],
      "metadata": {
        "id": "b7tLpViVf1OF"
      }
    },
    {
      "cell_type": "markdown",
      "source": [
        "Next, we have the \"Plus\" category. We will ignore this category because it directly targets a segment of the population that could bring us some issues if we decide to cut anything from this department.\n",
        "\n",
        "Instead, we will go on to the next category with the lowest revenue brought in. This category is \"Pants and Capris. We once again will be seeing if there is a major dropoff in sales by brand in order to cut the correct portion of this category."
      ],
      "metadata": {
        "id": "__4AWeTqbhEW"
      }
    },
    {
      "cell_type": "code",
      "source": [
        "# Filter to only look at products ordered from the category, \"Pants & Capris\"\n",
        "pantsCapris = order_items[order_items['category'] == 'Pants & Capris']\n",
        "pantsCapris.head()"
      ],
      "metadata": {
        "colab": {
          "base_uri": "https://localhost:8080/",
          "height": 700
        },
        "id": "HLlnookPbuc_",
        "outputId": "f0f86b41-46e3-4e50-f2da-a91e6691e587"
      },
      "execution_count": null,
      "outputs": [
        {
          "output_type": "execute_result",
          "data": {
            "text/plain": [
              "        order_id  user_id  product_id  inventory_item_id    status  \\\n",
              "id                                                                   \n",
              "104693     72251    58309        5411             282511   Shipped   \n",
              "92172      63567    51324        5411             248658  Returned   \n",
              "2506        1736     1358        5212               6772   Shipped   \n",
              "33053      22820    18367        5662              89260   Shipped   \n",
              "75087      51786    41788        5212             202482   Shipped   \n",
              "\n",
              "                      created_at                shipped_at  \\\n",
              "id                                                           \n",
              "104693 2023-02-26 11:18:14+00:00 2023-02-27 17:59:00+00:00   \n",
              "92172  2021-08-26 10:55:21+00:00 2021-08-27 18:14:00+00:00   \n",
              "2506   2022-02-07 05:58:20+00:00 2022-02-06 14:44:00+00:00   \n",
              "33053  2022-06-29 13:15:35+00:00 2022-06-30 19:57:00+00:00   \n",
              "75087  2022-02-04 00:06:08+00:00 2022-02-02 08:07:00+00:00   \n",
              "\n",
              "                    delivered_at               returned_at  sale_price  id_1  \\\n",
              "id                                                                             \n",
              "104693                       NaT                       NaT        14.0  5411   \n",
              "92172  2021-08-28 23:42:00+00:00 2021-08-31 14:16:00+00:00        14.0  5411   \n",
              "2506                         NaT                       NaT        15.0  5212   \n",
              "33053                        NaT                       NaT        15.0  5662   \n",
              "75087                        NaT                       NaT        15.0  5212   \n",
              "\n",
              "         cost        category  \\\n",
              "id                              \n",
              "104693  6.888  Pants & Capris   \n",
              "92172   6.888  Pants & Capris   \n",
              "2506    7.665  Pants & Capris   \n",
              "33053   8.265  Pants & Capris   \n",
              "75087   7.665  Pants & Capris   \n",
              "\n",
              "                                                     name           brand  \\\n",
              "id                                                                          \n",
              "104693        Democracy Women's Crop Rope Tie Detail Pant       Democracy   \n",
              "92172         Democracy Women's Crop Rope Tie Detail Pant       Democracy   \n",
              "2506    BENNETT MALIBU Atila Linen Wide-Leg Pants [BM-...  BENNETT MALIBU   \n",
              "33053   FINESSE Stretch City Pant W/ Crease [SP-916] Grey         FINESSE   \n",
              "75087   BENNETT MALIBU Atila Linen Wide-Leg Pants [BM-...  BENNETT MALIBU   \n",
              "\n",
              "        retail_price department                               sku  \\\n",
              "id                                                                  \n",
              "104693          14.0      Women  3BC71FAEBE42E1639EB6FDED38D714CD   \n",
              "92172           14.0      Women  3BC71FAEBE42E1639EB6FDED38D714CD   \n",
              "2506            15.0      Women  C5D215777C229704A7862DE577D40A73   \n",
              "33053           15.0      Women  887CAADC3642E304EDE659B734F79B00   \n",
              "75087           15.0      Women  C5D215777C229704A7862DE577D40A73   \n",
              "\n",
              "        distribution_center_id  profit  \n",
              "id                                      \n",
              "104693                       2   7.112  \n",
              "92172                        2   7.112  \n",
              "2506                         2   7.335  \n",
              "33053                        1   6.735  \n",
              "75087                        2   7.335  "
            ],
            "text/html": [
              "\n",
              "  <div id=\"df-9ff8a793-fa29-452b-8174-2e4eb6eb1c83\">\n",
              "    <div class=\"colab-df-container\">\n",
              "      <div>\n",
              "<style scoped>\n",
              "    .dataframe tbody tr th:only-of-type {\n",
              "        vertical-align: middle;\n",
              "    }\n",
              "\n",
              "    .dataframe tbody tr th {\n",
              "        vertical-align: top;\n",
              "    }\n",
              "\n",
              "    .dataframe thead th {\n",
              "        text-align: right;\n",
              "    }\n",
              "</style>\n",
              "<table border=\"1\" class=\"dataframe\">\n",
              "  <thead>\n",
              "    <tr style=\"text-align: right;\">\n",
              "      <th></th>\n",
              "      <th>order_id</th>\n",
              "      <th>user_id</th>\n",
              "      <th>product_id</th>\n",
              "      <th>inventory_item_id</th>\n",
              "      <th>status</th>\n",
              "      <th>created_at</th>\n",
              "      <th>shipped_at</th>\n",
              "      <th>delivered_at</th>\n",
              "      <th>returned_at</th>\n",
              "      <th>sale_price</th>\n",
              "      <th>id_1</th>\n",
              "      <th>cost</th>\n",
              "      <th>category</th>\n",
              "      <th>name</th>\n",
              "      <th>brand</th>\n",
              "      <th>retail_price</th>\n",
              "      <th>department</th>\n",
              "      <th>sku</th>\n",
              "      <th>distribution_center_id</th>\n",
              "      <th>profit</th>\n",
              "    </tr>\n",
              "    <tr>\n",
              "      <th>id</th>\n",
              "      <th></th>\n",
              "      <th></th>\n",
              "      <th></th>\n",
              "      <th></th>\n",
              "      <th></th>\n",
              "      <th></th>\n",
              "      <th></th>\n",
              "      <th></th>\n",
              "      <th></th>\n",
              "      <th></th>\n",
              "      <th></th>\n",
              "      <th></th>\n",
              "      <th></th>\n",
              "      <th></th>\n",
              "      <th></th>\n",
              "      <th></th>\n",
              "      <th></th>\n",
              "      <th></th>\n",
              "      <th></th>\n",
              "      <th></th>\n",
              "    </tr>\n",
              "  </thead>\n",
              "  <tbody>\n",
              "    <tr>\n",
              "      <th>104693</th>\n",
              "      <td>72251</td>\n",
              "      <td>58309</td>\n",
              "      <td>5411</td>\n",
              "      <td>282511</td>\n",
              "      <td>Shipped</td>\n",
              "      <td>2023-02-26 11:18:14+00:00</td>\n",
              "      <td>2023-02-27 17:59:00+00:00</td>\n",
              "      <td>NaT</td>\n",
              "      <td>NaT</td>\n",
              "      <td>14.0</td>\n",
              "      <td>5411</td>\n",
              "      <td>6.888</td>\n",
              "      <td>Pants &amp; Capris</td>\n",
              "      <td>Democracy Women's Crop Rope Tie Detail Pant</td>\n",
              "      <td>Democracy</td>\n",
              "      <td>14.0</td>\n",
              "      <td>Women</td>\n",
              "      <td>3BC71FAEBE42E1639EB6FDED38D714CD</td>\n",
              "      <td>2</td>\n",
              "      <td>7.112</td>\n",
              "    </tr>\n",
              "    <tr>\n",
              "      <th>92172</th>\n",
              "      <td>63567</td>\n",
              "      <td>51324</td>\n",
              "      <td>5411</td>\n",
              "      <td>248658</td>\n",
              "      <td>Returned</td>\n",
              "      <td>2021-08-26 10:55:21+00:00</td>\n",
              "      <td>2021-08-27 18:14:00+00:00</td>\n",
              "      <td>2021-08-28 23:42:00+00:00</td>\n",
              "      <td>2021-08-31 14:16:00+00:00</td>\n",
              "      <td>14.0</td>\n",
              "      <td>5411</td>\n",
              "      <td>6.888</td>\n",
              "      <td>Pants &amp; Capris</td>\n",
              "      <td>Democracy Women's Crop Rope Tie Detail Pant</td>\n",
              "      <td>Democracy</td>\n",
              "      <td>14.0</td>\n",
              "      <td>Women</td>\n",
              "      <td>3BC71FAEBE42E1639EB6FDED38D714CD</td>\n",
              "      <td>2</td>\n",
              "      <td>7.112</td>\n",
              "    </tr>\n",
              "    <tr>\n",
              "      <th>2506</th>\n",
              "      <td>1736</td>\n",
              "      <td>1358</td>\n",
              "      <td>5212</td>\n",
              "      <td>6772</td>\n",
              "      <td>Shipped</td>\n",
              "      <td>2022-02-07 05:58:20+00:00</td>\n",
              "      <td>2022-02-06 14:44:00+00:00</td>\n",
              "      <td>NaT</td>\n",
              "      <td>NaT</td>\n",
              "      <td>15.0</td>\n",
              "      <td>5212</td>\n",
              "      <td>7.665</td>\n",
              "      <td>Pants &amp; Capris</td>\n",
              "      <td>BENNETT MALIBU Atila Linen Wide-Leg Pants [BM-...</td>\n",
              "      <td>BENNETT MALIBU</td>\n",
              "      <td>15.0</td>\n",
              "      <td>Women</td>\n",
              "      <td>C5D215777C229704A7862DE577D40A73</td>\n",
              "      <td>2</td>\n",
              "      <td>7.335</td>\n",
              "    </tr>\n",
              "    <tr>\n",
              "      <th>33053</th>\n",
              "      <td>22820</td>\n",
              "      <td>18367</td>\n",
              "      <td>5662</td>\n",
              "      <td>89260</td>\n",
              "      <td>Shipped</td>\n",
              "      <td>2022-06-29 13:15:35+00:00</td>\n",
              "      <td>2022-06-30 19:57:00+00:00</td>\n",
              "      <td>NaT</td>\n",
              "      <td>NaT</td>\n",
              "      <td>15.0</td>\n",
              "      <td>5662</td>\n",
              "      <td>8.265</td>\n",
              "      <td>Pants &amp; Capris</td>\n",
              "      <td>FINESSE Stretch City Pant W/ Crease [SP-916] Grey</td>\n",
              "      <td>FINESSE</td>\n",
              "      <td>15.0</td>\n",
              "      <td>Women</td>\n",
              "      <td>887CAADC3642E304EDE659B734F79B00</td>\n",
              "      <td>1</td>\n",
              "      <td>6.735</td>\n",
              "    </tr>\n",
              "    <tr>\n",
              "      <th>75087</th>\n",
              "      <td>51786</td>\n",
              "      <td>41788</td>\n",
              "      <td>5212</td>\n",
              "      <td>202482</td>\n",
              "      <td>Shipped</td>\n",
              "      <td>2022-02-04 00:06:08+00:00</td>\n",
              "      <td>2022-02-02 08:07:00+00:00</td>\n",
              "      <td>NaT</td>\n",
              "      <td>NaT</td>\n",
              "      <td>15.0</td>\n",
              "      <td>5212</td>\n",
              "      <td>7.665</td>\n",
              "      <td>Pants &amp; Capris</td>\n",
              "      <td>BENNETT MALIBU Atila Linen Wide-Leg Pants [BM-...</td>\n",
              "      <td>BENNETT MALIBU</td>\n",
              "      <td>15.0</td>\n",
              "      <td>Women</td>\n",
              "      <td>C5D215777C229704A7862DE577D40A73</td>\n",
              "      <td>2</td>\n",
              "      <td>7.335</td>\n",
              "    </tr>\n",
              "  </tbody>\n",
              "</table>\n",
              "</div>\n",
              "      <button class=\"colab-df-convert\" onclick=\"convertToInteractive('df-9ff8a793-fa29-452b-8174-2e4eb6eb1c83')\"\n",
              "              title=\"Convert this dataframe to an interactive table.\"\n",
              "              style=\"display:none;\">\n",
              "        \n",
              "  <svg xmlns=\"http://www.w3.org/2000/svg\" height=\"24px\"viewBox=\"0 0 24 24\"\n",
              "       width=\"24px\">\n",
              "    <path d=\"M0 0h24v24H0V0z\" fill=\"none\"/>\n",
              "    <path d=\"M18.56 5.44l.94 2.06.94-2.06 2.06-.94-2.06-.94-.94-2.06-.94 2.06-2.06.94zm-11 1L8.5 8.5l.94-2.06 2.06-.94-2.06-.94L8.5 2.5l-.94 2.06-2.06.94zm10 10l.94 2.06.94-2.06 2.06-.94-2.06-.94-.94-2.06-.94 2.06-2.06.94z\"/><path d=\"M17.41 7.96l-1.37-1.37c-.4-.4-.92-.59-1.43-.59-.52 0-1.04.2-1.43.59L10.3 9.45l-7.72 7.72c-.78.78-.78 2.05 0 2.83L4 21.41c.39.39.9.59 1.41.59.51 0 1.02-.2 1.41-.59l7.78-7.78 2.81-2.81c.8-.78.8-2.07 0-2.86zM5.41 20L4 18.59l7.72-7.72 1.47 1.35L5.41 20z\"/>\n",
              "  </svg>\n",
              "      </button>\n",
              "      \n",
              "  <style>\n",
              "    .colab-df-container {\n",
              "      display:flex;\n",
              "      flex-wrap:wrap;\n",
              "      gap: 12px;\n",
              "    }\n",
              "\n",
              "    .colab-df-convert {\n",
              "      background-color: #E8F0FE;\n",
              "      border: none;\n",
              "      border-radius: 50%;\n",
              "      cursor: pointer;\n",
              "      display: none;\n",
              "      fill: #1967D2;\n",
              "      height: 32px;\n",
              "      padding: 0 0 0 0;\n",
              "      width: 32px;\n",
              "    }\n",
              "\n",
              "    .colab-df-convert:hover {\n",
              "      background-color: #E2EBFA;\n",
              "      box-shadow: 0px 1px 2px rgba(60, 64, 67, 0.3), 0px 1px 3px 1px rgba(60, 64, 67, 0.15);\n",
              "      fill: #174EA6;\n",
              "    }\n",
              "\n",
              "    [theme=dark] .colab-df-convert {\n",
              "      background-color: #3B4455;\n",
              "      fill: #D2E3FC;\n",
              "    }\n",
              "\n",
              "    [theme=dark] .colab-df-convert:hover {\n",
              "      background-color: #434B5C;\n",
              "      box-shadow: 0px 1px 3px 1px rgba(0, 0, 0, 0.15);\n",
              "      filter: drop-shadow(0px 1px 2px rgba(0, 0, 0, 0.3));\n",
              "      fill: #FFFFFF;\n",
              "    }\n",
              "  </style>\n",
              "\n",
              "      <script>\n",
              "        const buttonEl =\n",
              "          document.querySelector('#df-9ff8a793-fa29-452b-8174-2e4eb6eb1c83 button.colab-df-convert');\n",
              "        buttonEl.style.display =\n",
              "          google.colab.kernel.accessAllowed ? 'block' : 'none';\n",
              "\n",
              "        async function convertToInteractive(key) {\n",
              "          const element = document.querySelector('#df-9ff8a793-fa29-452b-8174-2e4eb6eb1c83');\n",
              "          const dataTable =\n",
              "            await google.colab.kernel.invokeFunction('convertToInteractive',\n",
              "                                                     [key], {});\n",
              "          if (!dataTable) return;\n",
              "\n",
              "          const docLinkHtml = 'Like what you see? Visit the ' +\n",
              "            '<a target=\"_blank\" href=https://colab.research.google.com/notebooks/data_table.ipynb>data table notebook</a>'\n",
              "            + ' to learn more about interactive tables.';\n",
              "          element.innerHTML = '';\n",
              "          dataTable['output_type'] = 'display_data';\n",
              "          await google.colab.output.renderOutput(dataTable, element);\n",
              "          const docLink = document.createElement('div');\n",
              "          docLink.innerHTML = docLinkHtml;\n",
              "          element.appendChild(docLink);\n",
              "        }\n",
              "      </script>\n",
              "    </div>\n",
              "  </div>\n",
              "  "
            ]
          },
          "metadata": {},
          "execution_count": 169
        }
      ]
    },
    {
      "cell_type": "code",
      "source": [
        "# Which brands are selling the most number of \"Pants & Capris\"?\n",
        "pantsCapris.brand.value_counts().sort_values(ascending = False).head(15)"
      ],
      "metadata": {
        "colab": {
          "base_uri": "https://localhost:8080/"
        },
        "id": "H4DtOV4IbufY",
        "outputId": "cc6d814d-a4ed-4c36-d8a1-a09547058be4"
      },
      "execution_count": null,
      "outputs": [
        {
          "output_type": "execute_result",
          "data": {
            "text/plain": [
              "Jones New York    214\n",
              "Allegra K         172\n",
              "Alfred Dunner     144\n",
              "Woman Within      104\n",
              "Dockers           104\n",
              "MANGO              96\n",
              "LOTUSTRADERS       81\n",
              "Anne Klein         76\n",
              "Lee                71\n",
              "Calvin Klein       70\n",
              "Briggs             68\n",
              "Rafaella           65\n",
              "Eddie Bauer        64\n",
              "Pendleton          53\n",
              "Sag Harbor         53\n",
              "Name: brand, dtype: int64"
            ]
          },
          "metadata": {},
          "execution_count": 170
        }
      ]
    },
    {
      "cell_type": "code",
      "source": [
        "# Create list of top 3 brands\n",
        "# There is a dropoff after the 3rd highest selling brand for this category\n",
        "top3Brands = ['Jones New York', 'Allegra K', 'Alfred Dunner']"
      ],
      "metadata": {
        "id": "aTBLROYSbuh1"
      },
      "execution_count": null,
      "outputs": []
    },
    {
      "cell_type": "code",
      "source": [
        "# How many products are we left with to cut after excluding all \"Pants & Capris\" products from the top 3 brands?\n",
        "cut = products[products['category'] == 'Pants & Capris']\n",
        "cutting = cut[~cut['brand'].isin(top3Brands)]\n",
        "cutting.shape"
      ],
      "metadata": {
        "colab": {
          "base_uri": "https://localhost:8080/"
        },
        "id": "BpP6wXbmbulQ",
        "outputId": "91e89cc2-cbb5-4005-c1f1-8b41deb1448a"
      },
      "execution_count": null,
      "outputs": [
        {
          "output_type": "execute_result",
          "data": {
            "text/plain": [
              "(515, 9)"
            ]
          },
          "metadata": {},
          "execution_count": 172
        }
      ]
    },
    {
      "cell_type": "code",
      "source": [
        "# Running tally of the number of products we have cut already\n",
        "ProductsCut = ProductsCut.append(cutting)\n",
        "ProductsCut.shape"
      ],
      "metadata": {
        "colab": {
          "base_uri": "https://localhost:8080/"
        },
        "id": "AfvfY_Br2FxC",
        "outputId": "6c724cd7-2739-486e-a6c7-2246bf9ac136"
      },
      "execution_count": null,
      "outputs": [
        {
          "output_type": "stream",
          "name": "stderr",
          "text": [
            "<ipython-input-173-def553d076f0>:2: FutureWarning: The frame.append method is deprecated and will be removed from pandas in a future version. Use pandas.concat instead.\n",
            "  ProductsCut = ProductsCut.append(cutting)\n"
          ]
        },
        {
          "output_type": "execute_result",
          "data": {
            "text/plain": [
              "(1565, 9)"
            ]
          },
          "metadata": {},
          "execution_count": 173
        }
      ]
    },
    {
      "cell_type": "markdown",
      "source": [
        "We are able to cut 515 products from this category which is great. This is because we have a lot of products in this category and the profit from this category is relatively low. We have now cut a total of 1565 products. We are going to need to make an even bigger cut here at some point.\n",
        "\n",
        "We will next focus on the category underwear."
      ],
      "metadata": {
        "id": "oJFzosdYisl-"
      }
    },
    {
      "cell_type": "code",
      "source": [
        "# Filter to only look at products ordered from the category, \"Underwear\"\n",
        "underwear = order_items[order_items['category'] == 'Underwear']\n",
        "underwear.head()"
      ],
      "metadata": {
        "colab": {
          "base_uri": "https://localhost:8080/",
          "height": 666
        },
        "id": "wYeQnxlYjEZx",
        "outputId": "4d34ca8e-6a66-4222-ed05-d2b04ea32886"
      },
      "execution_count": null,
      "outputs": [
        {
          "output_type": "execute_result",
          "data": {
            "text/plain": [
              "        order_id  user_id  product_id  inventory_item_id      status  \\\n",
              "id                                                                     \n",
              "28426      19637    15744       25558              76765     Shipped   \n",
              "38738      26714    21526       25558             104582    Complete   \n",
              "104449     72082    58159       25558             281846  Processing   \n",
              "171737    118299    95178       25558             463559  Processing   \n",
              "65719      45319    36484       26169             177293     Shipped   \n",
              "\n",
              "                             created_at                       shipped_at  \\\n",
              "id                                                                         \n",
              "28426         2022-02-02 11:39:36+00:00        2022-02-02 13:59:00+00:00   \n",
              "38738         2022-08-07 09:25:21+00:00        2022-08-09 20:34:00+00:00   \n",
              "104449        2023-02-05 02:39:47+00:00                              NaT   \n",
              "171737        2022-05-18 14:29:38+00:00                              NaT   \n",
              "65719  2023-04-13 21:57:10.636617+00:00 2023-04-14 15:17:40.636617+00:00   \n",
              "\n",
              "                    delivered_at returned_at  sale_price   id_1  cost  \\\n",
              "id                                                                      \n",
              "28426                        NaT         NaT         7.0  25558  3.29   \n",
              "38738  2022-08-14 00:08:00+00:00         NaT         7.0  25558  3.29   \n",
              "104449                       NaT         NaT         7.0  25558  3.29   \n",
              "171737                       NaT         NaT         7.0  25558  3.29   \n",
              "65719                        NaT         NaT        10.0  26169  4.52   \n",
              "\n",
              "         category                                    name           brand  \\\n",
              "id                                                                          \n",
              "28426   Underwear          Short Sleeve Mock Neck T-Shirt          Jockey   \n",
              "38738   Underwear          Short Sleeve Mock Neck T-Shirt          Jockey   \n",
              "104449  Underwear          Short Sleeve Mock Neck T-Shirt          Jockey   \n",
              "171737  Underwear          Short Sleeve Mock Neck T-Shirt          Jockey   \n",
              "65719   Underwear  Men's Elephant Thong by Donna Di Capri  Donna Di Capri   \n",
              "\n",
              "        retail_price department                               sku  \\\n",
              "id                                                                  \n",
              "28426            7.0        Men  7D571EF48D7C44EC949687E28ABCDF30   \n",
              "38738            7.0        Men  7D571EF48D7C44EC949687E28ABCDF30   \n",
              "104449           7.0        Men  7D571EF48D7C44EC949687E28ABCDF30   \n",
              "171737           7.0        Men  7D571EF48D7C44EC949687E28ABCDF30   \n",
              "65719           10.0        Men  4B8CDF66647DF5B1D9549039ECA7819E   \n",
              "\n",
              "        distribution_center_id  profit  \n",
              "id                                      \n",
              "28426                       10    3.71  \n",
              "38738                       10    3.71  \n",
              "104449                      10    3.71  \n",
              "171737                      10    3.71  \n",
              "65719                        4    5.48  "
            ],
            "text/html": [
              "\n",
              "  <div id=\"df-993f6f43-7044-426a-9be2-2cd252dacb75\">\n",
              "    <div class=\"colab-df-container\">\n",
              "      <div>\n",
              "<style scoped>\n",
              "    .dataframe tbody tr th:only-of-type {\n",
              "        vertical-align: middle;\n",
              "    }\n",
              "\n",
              "    .dataframe tbody tr th {\n",
              "        vertical-align: top;\n",
              "    }\n",
              "\n",
              "    .dataframe thead th {\n",
              "        text-align: right;\n",
              "    }\n",
              "</style>\n",
              "<table border=\"1\" class=\"dataframe\">\n",
              "  <thead>\n",
              "    <tr style=\"text-align: right;\">\n",
              "      <th></th>\n",
              "      <th>order_id</th>\n",
              "      <th>user_id</th>\n",
              "      <th>product_id</th>\n",
              "      <th>inventory_item_id</th>\n",
              "      <th>status</th>\n",
              "      <th>created_at</th>\n",
              "      <th>shipped_at</th>\n",
              "      <th>delivered_at</th>\n",
              "      <th>returned_at</th>\n",
              "      <th>sale_price</th>\n",
              "      <th>id_1</th>\n",
              "      <th>cost</th>\n",
              "      <th>category</th>\n",
              "      <th>name</th>\n",
              "      <th>brand</th>\n",
              "      <th>retail_price</th>\n",
              "      <th>department</th>\n",
              "      <th>sku</th>\n",
              "      <th>distribution_center_id</th>\n",
              "      <th>profit</th>\n",
              "    </tr>\n",
              "    <tr>\n",
              "      <th>id</th>\n",
              "      <th></th>\n",
              "      <th></th>\n",
              "      <th></th>\n",
              "      <th></th>\n",
              "      <th></th>\n",
              "      <th></th>\n",
              "      <th></th>\n",
              "      <th></th>\n",
              "      <th></th>\n",
              "      <th></th>\n",
              "      <th></th>\n",
              "      <th></th>\n",
              "      <th></th>\n",
              "      <th></th>\n",
              "      <th></th>\n",
              "      <th></th>\n",
              "      <th></th>\n",
              "      <th></th>\n",
              "      <th></th>\n",
              "      <th></th>\n",
              "    </tr>\n",
              "  </thead>\n",
              "  <tbody>\n",
              "    <tr>\n",
              "      <th>28426</th>\n",
              "      <td>19637</td>\n",
              "      <td>15744</td>\n",
              "      <td>25558</td>\n",
              "      <td>76765</td>\n",
              "      <td>Shipped</td>\n",
              "      <td>2022-02-02 11:39:36+00:00</td>\n",
              "      <td>2022-02-02 13:59:00+00:00</td>\n",
              "      <td>NaT</td>\n",
              "      <td>NaT</td>\n",
              "      <td>7.0</td>\n",
              "      <td>25558</td>\n",
              "      <td>3.29</td>\n",
              "      <td>Underwear</td>\n",
              "      <td>Short Sleeve Mock Neck T-Shirt</td>\n",
              "      <td>Jockey</td>\n",
              "      <td>7.0</td>\n",
              "      <td>Men</td>\n",
              "      <td>7D571EF48D7C44EC949687E28ABCDF30</td>\n",
              "      <td>10</td>\n",
              "      <td>3.71</td>\n",
              "    </tr>\n",
              "    <tr>\n",
              "      <th>38738</th>\n",
              "      <td>26714</td>\n",
              "      <td>21526</td>\n",
              "      <td>25558</td>\n",
              "      <td>104582</td>\n",
              "      <td>Complete</td>\n",
              "      <td>2022-08-07 09:25:21+00:00</td>\n",
              "      <td>2022-08-09 20:34:00+00:00</td>\n",
              "      <td>2022-08-14 00:08:00+00:00</td>\n",
              "      <td>NaT</td>\n",
              "      <td>7.0</td>\n",
              "      <td>25558</td>\n",
              "      <td>3.29</td>\n",
              "      <td>Underwear</td>\n",
              "      <td>Short Sleeve Mock Neck T-Shirt</td>\n",
              "      <td>Jockey</td>\n",
              "      <td>7.0</td>\n",
              "      <td>Men</td>\n",
              "      <td>7D571EF48D7C44EC949687E28ABCDF30</td>\n",
              "      <td>10</td>\n",
              "      <td>3.71</td>\n",
              "    </tr>\n",
              "    <tr>\n",
              "      <th>104449</th>\n",
              "      <td>72082</td>\n",
              "      <td>58159</td>\n",
              "      <td>25558</td>\n",
              "      <td>281846</td>\n",
              "      <td>Processing</td>\n",
              "      <td>2023-02-05 02:39:47+00:00</td>\n",
              "      <td>NaT</td>\n",
              "      <td>NaT</td>\n",
              "      <td>NaT</td>\n",
              "      <td>7.0</td>\n",
              "      <td>25558</td>\n",
              "      <td>3.29</td>\n",
              "      <td>Underwear</td>\n",
              "      <td>Short Sleeve Mock Neck T-Shirt</td>\n",
              "      <td>Jockey</td>\n",
              "      <td>7.0</td>\n",
              "      <td>Men</td>\n",
              "      <td>7D571EF48D7C44EC949687E28ABCDF30</td>\n",
              "      <td>10</td>\n",
              "      <td>3.71</td>\n",
              "    </tr>\n",
              "    <tr>\n",
              "      <th>171737</th>\n",
              "      <td>118299</td>\n",
              "      <td>95178</td>\n",
              "      <td>25558</td>\n",
              "      <td>463559</td>\n",
              "      <td>Processing</td>\n",
              "      <td>2022-05-18 14:29:38+00:00</td>\n",
              "      <td>NaT</td>\n",
              "      <td>NaT</td>\n",
              "      <td>NaT</td>\n",
              "      <td>7.0</td>\n",
              "      <td>25558</td>\n",
              "      <td>3.29</td>\n",
              "      <td>Underwear</td>\n",
              "      <td>Short Sleeve Mock Neck T-Shirt</td>\n",
              "      <td>Jockey</td>\n",
              "      <td>7.0</td>\n",
              "      <td>Men</td>\n",
              "      <td>7D571EF48D7C44EC949687E28ABCDF30</td>\n",
              "      <td>10</td>\n",
              "      <td>3.71</td>\n",
              "    </tr>\n",
              "    <tr>\n",
              "      <th>65719</th>\n",
              "      <td>45319</td>\n",
              "      <td>36484</td>\n",
              "      <td>26169</td>\n",
              "      <td>177293</td>\n",
              "      <td>Shipped</td>\n",
              "      <td>2023-04-13 21:57:10.636617+00:00</td>\n",
              "      <td>2023-04-14 15:17:40.636617+00:00</td>\n",
              "      <td>NaT</td>\n",
              "      <td>NaT</td>\n",
              "      <td>10.0</td>\n",
              "      <td>26169</td>\n",
              "      <td>4.52</td>\n",
              "      <td>Underwear</td>\n",
              "      <td>Men's Elephant Thong by Donna Di Capri</td>\n",
              "      <td>Donna Di Capri</td>\n",
              "      <td>10.0</td>\n",
              "      <td>Men</td>\n",
              "      <td>4B8CDF66647DF5B1D9549039ECA7819E</td>\n",
              "      <td>4</td>\n",
              "      <td>5.48</td>\n",
              "    </tr>\n",
              "  </tbody>\n",
              "</table>\n",
              "</div>\n",
              "      <button class=\"colab-df-convert\" onclick=\"convertToInteractive('df-993f6f43-7044-426a-9be2-2cd252dacb75')\"\n",
              "              title=\"Convert this dataframe to an interactive table.\"\n",
              "              style=\"display:none;\">\n",
              "        \n",
              "  <svg xmlns=\"http://www.w3.org/2000/svg\" height=\"24px\"viewBox=\"0 0 24 24\"\n",
              "       width=\"24px\">\n",
              "    <path d=\"M0 0h24v24H0V0z\" fill=\"none\"/>\n",
              "    <path d=\"M18.56 5.44l.94 2.06.94-2.06 2.06-.94-2.06-.94-.94-2.06-.94 2.06-2.06.94zm-11 1L8.5 8.5l.94-2.06 2.06-.94-2.06-.94L8.5 2.5l-.94 2.06-2.06.94zm10 10l.94 2.06.94-2.06 2.06-.94-2.06-.94-.94-2.06-.94 2.06-2.06.94z\"/><path d=\"M17.41 7.96l-1.37-1.37c-.4-.4-.92-.59-1.43-.59-.52 0-1.04.2-1.43.59L10.3 9.45l-7.72 7.72c-.78.78-.78 2.05 0 2.83L4 21.41c.39.39.9.59 1.41.59.51 0 1.02-.2 1.41-.59l7.78-7.78 2.81-2.81c.8-.78.8-2.07 0-2.86zM5.41 20L4 18.59l7.72-7.72 1.47 1.35L5.41 20z\"/>\n",
              "  </svg>\n",
              "      </button>\n",
              "      \n",
              "  <style>\n",
              "    .colab-df-container {\n",
              "      display:flex;\n",
              "      flex-wrap:wrap;\n",
              "      gap: 12px;\n",
              "    }\n",
              "\n",
              "    .colab-df-convert {\n",
              "      background-color: #E8F0FE;\n",
              "      border: none;\n",
              "      border-radius: 50%;\n",
              "      cursor: pointer;\n",
              "      display: none;\n",
              "      fill: #1967D2;\n",
              "      height: 32px;\n",
              "      padding: 0 0 0 0;\n",
              "      width: 32px;\n",
              "    }\n",
              "\n",
              "    .colab-df-convert:hover {\n",
              "      background-color: #E2EBFA;\n",
              "      box-shadow: 0px 1px 2px rgba(60, 64, 67, 0.3), 0px 1px 3px 1px rgba(60, 64, 67, 0.15);\n",
              "      fill: #174EA6;\n",
              "    }\n",
              "\n",
              "    [theme=dark] .colab-df-convert {\n",
              "      background-color: #3B4455;\n",
              "      fill: #D2E3FC;\n",
              "    }\n",
              "\n",
              "    [theme=dark] .colab-df-convert:hover {\n",
              "      background-color: #434B5C;\n",
              "      box-shadow: 0px 1px 3px 1px rgba(0, 0, 0, 0.15);\n",
              "      filter: drop-shadow(0px 1px 2px rgba(0, 0, 0, 0.3));\n",
              "      fill: #FFFFFF;\n",
              "    }\n",
              "  </style>\n",
              "\n",
              "      <script>\n",
              "        const buttonEl =\n",
              "          document.querySelector('#df-993f6f43-7044-426a-9be2-2cd252dacb75 button.colab-df-convert');\n",
              "        buttonEl.style.display =\n",
              "          google.colab.kernel.accessAllowed ? 'block' : 'none';\n",
              "\n",
              "        async function convertToInteractive(key) {\n",
              "          const element = document.querySelector('#df-993f6f43-7044-426a-9be2-2cd252dacb75');\n",
              "          const dataTable =\n",
              "            await google.colab.kernel.invokeFunction('convertToInteractive',\n",
              "                                                     [key], {});\n",
              "          if (!dataTable) return;\n",
              "\n",
              "          const docLinkHtml = 'Like what you see? Visit the ' +\n",
              "            '<a target=\"_blank\" href=https://colab.research.google.com/notebooks/data_table.ipynb>data table notebook</a>'\n",
              "            + ' to learn more about interactive tables.';\n",
              "          element.innerHTML = '';\n",
              "          dataTable['output_type'] = 'display_data';\n",
              "          await google.colab.output.renderOutput(dataTable, element);\n",
              "          const docLink = document.createElement('div');\n",
              "          docLink.innerHTML = docLinkHtml;\n",
              "          element.appendChild(docLink);\n",
              "        }\n",
              "      </script>\n",
              "    </div>\n",
              "  </div>\n",
              "  "
            ]
          },
          "metadata": {},
          "execution_count": 174
        }
      ]
    },
    {
      "cell_type": "code",
      "source": [
        "# Which brands are selling the most number of \"Underwear\"?\n",
        "underwear.brand.value_counts().sort_values(ascending = False).head(15)"
      ],
      "metadata": {
        "colab": {
          "base_uri": "https://localhost:8080/"
        },
        "id": "hvMcDRp5jElf",
        "outputId": "7f9ce4a6-a0d8-4007-9ab3-140995215ca7"
      },
      "execution_count": null,
      "outputs": [
        {
          "output_type": "execute_result",
          "data": {
            "text/plain": [
              "Calvin Klein         704\n",
              "Hanes                637\n",
              "Fruit of the Loom    426\n",
              "Jockey               369\n",
              "Diesel               342\n",
              "2(x)ist              318\n",
              "HUGO BOSS            281\n",
              "Duofold              279\n",
              "C-IN2                249\n",
              "Emporio Armani       184\n",
              "Tommy Hilfiger       165\n",
              "Papi                 150\n",
              "Ed Hardy             148\n",
              "Underworks           129\n",
              "Dockers              124\n",
              "Name: brand, dtype: int64"
            ]
          },
          "metadata": {},
          "execution_count": 175
        }
      ]
    },
    {
      "cell_type": "code",
      "source": [
        "# Create list of top 2 brands\n",
        "# There is a relatively high dropoff after the 2nd highest selling brand for this category\n",
        "top2Brands = ['Calvin Klein', 'Hanes']"
      ],
      "metadata": {
        "id": "EBwIzTDIjEwK"
      },
      "execution_count": null,
      "outputs": []
    },
    {
      "cell_type": "code",
      "source": [
        "# How many products are we left with to cut after excluding all \"Socks & Hosiery\" products from the top 7 brands?\n",
        "cut = products[products['category'] == 'Underwear']\n",
        "cutting = cut[~cut['brand'].isin(top2Brands)]\n",
        "cutting.shape"
      ],
      "metadata": {
        "colab": {
          "base_uri": "https://localhost:8080/"
        },
        "id": "6O4HjTFyjhGE",
        "outputId": "2dcca6bd-9cf6-4a45-c63e-3c1b9ae78796"
      },
      "execution_count": null,
      "outputs": [
        {
          "output_type": "execute_result",
          "data": {
            "text/plain": [
              "(898, 9)"
            ]
          },
          "metadata": {},
          "execution_count": 177
        }
      ]
    },
    {
      "cell_type": "code",
      "source": [
        "# Running tally of the number of products we have cut already\n",
        "ProductsCut = ProductsCut.append(cutting)\n",
        "ProductsCut.shape"
      ],
      "metadata": {
        "colab": {
          "base_uri": "https://localhost:8080/"
        },
        "id": "ToOQeuJg2USU",
        "outputId": "b0db301c-4934-4dd5-e1d2-904ce439067f"
      },
      "execution_count": null,
      "outputs": [
        {
          "output_type": "stream",
          "name": "stderr",
          "text": [
            "<ipython-input-178-def553d076f0>:2: FutureWarning: The frame.append method is deprecated and will be removed from pandas in a future version. Use pandas.concat instead.\n",
            "  ProductsCut = ProductsCut.append(cutting)\n"
          ]
        },
        {
          "output_type": "execute_result",
          "data": {
            "text/plain": [
              "(2463, 9)"
            ]
          },
          "metadata": {},
          "execution_count": 178
        }
      ]
    },
    {
      "cell_type": "markdown",
      "source": [
        "We can cut 898 products from the Underwear category.\n",
        "\n",
        "This brings our total to 2463."
      ],
      "metadata": {
        "id": "APMZSvexk_qv"
      }
    },
    {
      "cell_type": "markdown",
      "source": [
        "We are going to skip the category \"Maternity\" because once again this targets a specif group of people and we do not want to cut the number of thier products and go somewhere else where they have more options. Additionally, maternity only has 898 products. \n",
        "\n",
        "Intimates, however, has 2363 products (which is the most out of any category) and does not have a high revenue value (14th highest). Let's move to intimates next."
      ],
      "metadata": {
        "id": "wi-g3eG-jhaB"
      }
    },
    {
      "cell_type": "code",
      "source": [
        "# Filter to only look at products ordered from the category, \"Intimates\"\n",
        "intimates = order_items[order_items['category'] == 'Intimates']\n",
        "intimates.head()"
      ],
      "metadata": {
        "colab": {
          "base_uri": "https://localhost:8080/",
          "height": 735
        },
        "id": "AZnmSLZZkMeq",
        "outputId": "941d81ae-5a55-4f55-d5fe-3d06ab4686e1"
      },
      "execution_count": null,
      "outputs": [
        {
          "output_type": "execute_result",
          "data": {
            "text/plain": [
              "        order_id  user_id  product_id  inventory_item_id      status  \\\n",
              "id                                                                     \n",
              "73308      50542    40764       12602             197703     Shipped   \n",
              "154731    106621    85721       12602             417835    Complete   \n",
              "167946    115680    93062       12602             453281    Complete   \n",
              "153408    105717    85024       12602             414273    Returned   \n",
              "34552      23841    19192       12602              93325  Processing   \n",
              "\n",
              "                      created_at                shipped_at  \\\n",
              "id                                                           \n",
              "73308  2019-11-01 23:21:22+00:00 2019-11-04 06:28:00+00:00   \n",
              "154731 2019-12-06 14:17:08+00:00 2019-12-03 21:53:00+00:00   \n",
              "167946 2023-03-21 02:53:46+00:00 2023-03-22 19:43:00+00:00   \n",
              "153408 2023-01-18 17:09:20+00:00 2023-01-19 04:45:00+00:00   \n",
              "34552  2020-08-07 05:53:44+00:00                       NaT   \n",
              "\n",
              "                    delivered_at               returned_at  sale_price   id_1  \\\n",
              "id                                                                              \n",
              "73308                        NaT                       NaT        3.75  12602   \n",
              "154731 2019-12-06 00:27:00+00:00                       NaT        3.75  12602   \n",
              "167946 2023-03-23 10:21:00+00:00                       NaT        3.75  12602   \n",
              "153408 2023-01-21 20:22:00+00:00 2023-01-23 01:08:00+00:00        3.75  12602   \n",
              "34552                        NaT                       NaT        3.75  12602   \n",
              "\n",
              "          cost   category                                         name  \\\n",
              "id                                                                       \n",
              "73308   2.1375  Intimates  BASIC INVISIBLE CLEAR BRA STRAP BY DESIGNSK   \n",
              "154731  2.1375  Intimates  BASIC INVISIBLE CLEAR BRA STRAP BY DESIGNSK   \n",
              "167946  2.1375  Intimates  BASIC INVISIBLE CLEAR BRA STRAP BY DESIGNSK   \n",
              "153408  2.1375  Intimates  BASIC INVISIBLE CLEAR BRA STRAP BY DESIGNSK   \n",
              "34552   2.1375  Intimates  BASIC INVISIBLE CLEAR BRA STRAP BY DESIGNSK   \n",
              "\n",
              "           brand  retail_price department                               sku  \\\n",
              "id                                                                            \n",
              "73308   DesignSK          3.75      Women  FD8979ADA2FD5BAB05E9C5F035A5C4C7   \n",
              "154731  DesignSK          3.75      Women  FD8979ADA2FD5BAB05E9C5F035A5C4C7   \n",
              "167946  DesignSK          3.75      Women  FD8979ADA2FD5BAB05E9C5F035A5C4C7   \n",
              "153408  DesignSK          3.75      Women  FD8979ADA2FD5BAB05E9C5F035A5C4C7   \n",
              "34552   DesignSK          3.75      Women  FD8979ADA2FD5BAB05E9C5F035A5C4C7   \n",
              "\n",
              "        distribution_center_id  profit  \n",
              "id                                      \n",
              "73308                        1  1.6125  \n",
              "154731                       1  1.6125  \n",
              "167946                       1  1.6125  \n",
              "153408                       1  1.6125  \n",
              "34552                        1  1.6125  "
            ],
            "text/html": [
              "\n",
              "  <div id=\"df-023090af-a7ee-4bad-ac12-cf6b64639635\">\n",
              "    <div class=\"colab-df-container\">\n",
              "      <div>\n",
              "<style scoped>\n",
              "    .dataframe tbody tr th:only-of-type {\n",
              "        vertical-align: middle;\n",
              "    }\n",
              "\n",
              "    .dataframe tbody tr th {\n",
              "        vertical-align: top;\n",
              "    }\n",
              "\n",
              "    .dataframe thead th {\n",
              "        text-align: right;\n",
              "    }\n",
              "</style>\n",
              "<table border=\"1\" class=\"dataframe\">\n",
              "  <thead>\n",
              "    <tr style=\"text-align: right;\">\n",
              "      <th></th>\n",
              "      <th>order_id</th>\n",
              "      <th>user_id</th>\n",
              "      <th>product_id</th>\n",
              "      <th>inventory_item_id</th>\n",
              "      <th>status</th>\n",
              "      <th>created_at</th>\n",
              "      <th>shipped_at</th>\n",
              "      <th>delivered_at</th>\n",
              "      <th>returned_at</th>\n",
              "      <th>sale_price</th>\n",
              "      <th>id_1</th>\n",
              "      <th>cost</th>\n",
              "      <th>category</th>\n",
              "      <th>name</th>\n",
              "      <th>brand</th>\n",
              "      <th>retail_price</th>\n",
              "      <th>department</th>\n",
              "      <th>sku</th>\n",
              "      <th>distribution_center_id</th>\n",
              "      <th>profit</th>\n",
              "    </tr>\n",
              "    <tr>\n",
              "      <th>id</th>\n",
              "      <th></th>\n",
              "      <th></th>\n",
              "      <th></th>\n",
              "      <th></th>\n",
              "      <th></th>\n",
              "      <th></th>\n",
              "      <th></th>\n",
              "      <th></th>\n",
              "      <th></th>\n",
              "      <th></th>\n",
              "      <th></th>\n",
              "      <th></th>\n",
              "      <th></th>\n",
              "      <th></th>\n",
              "      <th></th>\n",
              "      <th></th>\n",
              "      <th></th>\n",
              "      <th></th>\n",
              "      <th></th>\n",
              "      <th></th>\n",
              "    </tr>\n",
              "  </thead>\n",
              "  <tbody>\n",
              "    <tr>\n",
              "      <th>73308</th>\n",
              "      <td>50542</td>\n",
              "      <td>40764</td>\n",
              "      <td>12602</td>\n",
              "      <td>197703</td>\n",
              "      <td>Shipped</td>\n",
              "      <td>2019-11-01 23:21:22+00:00</td>\n",
              "      <td>2019-11-04 06:28:00+00:00</td>\n",
              "      <td>NaT</td>\n",
              "      <td>NaT</td>\n",
              "      <td>3.75</td>\n",
              "      <td>12602</td>\n",
              "      <td>2.1375</td>\n",
              "      <td>Intimates</td>\n",
              "      <td>BASIC INVISIBLE CLEAR BRA STRAP BY DESIGNSK</td>\n",
              "      <td>DesignSK</td>\n",
              "      <td>3.75</td>\n",
              "      <td>Women</td>\n",
              "      <td>FD8979ADA2FD5BAB05E9C5F035A5C4C7</td>\n",
              "      <td>1</td>\n",
              "      <td>1.6125</td>\n",
              "    </tr>\n",
              "    <tr>\n",
              "      <th>154731</th>\n",
              "      <td>106621</td>\n",
              "      <td>85721</td>\n",
              "      <td>12602</td>\n",
              "      <td>417835</td>\n",
              "      <td>Complete</td>\n",
              "      <td>2019-12-06 14:17:08+00:00</td>\n",
              "      <td>2019-12-03 21:53:00+00:00</td>\n",
              "      <td>2019-12-06 00:27:00+00:00</td>\n",
              "      <td>NaT</td>\n",
              "      <td>3.75</td>\n",
              "      <td>12602</td>\n",
              "      <td>2.1375</td>\n",
              "      <td>Intimates</td>\n",
              "      <td>BASIC INVISIBLE CLEAR BRA STRAP BY DESIGNSK</td>\n",
              "      <td>DesignSK</td>\n",
              "      <td>3.75</td>\n",
              "      <td>Women</td>\n",
              "      <td>FD8979ADA2FD5BAB05E9C5F035A5C4C7</td>\n",
              "      <td>1</td>\n",
              "      <td>1.6125</td>\n",
              "    </tr>\n",
              "    <tr>\n",
              "      <th>167946</th>\n",
              "      <td>115680</td>\n",
              "      <td>93062</td>\n",
              "      <td>12602</td>\n",
              "      <td>453281</td>\n",
              "      <td>Complete</td>\n",
              "      <td>2023-03-21 02:53:46+00:00</td>\n",
              "      <td>2023-03-22 19:43:00+00:00</td>\n",
              "      <td>2023-03-23 10:21:00+00:00</td>\n",
              "      <td>NaT</td>\n",
              "      <td>3.75</td>\n",
              "      <td>12602</td>\n",
              "      <td>2.1375</td>\n",
              "      <td>Intimates</td>\n",
              "      <td>BASIC INVISIBLE CLEAR BRA STRAP BY DESIGNSK</td>\n",
              "      <td>DesignSK</td>\n",
              "      <td>3.75</td>\n",
              "      <td>Women</td>\n",
              "      <td>FD8979ADA2FD5BAB05E9C5F035A5C4C7</td>\n",
              "      <td>1</td>\n",
              "      <td>1.6125</td>\n",
              "    </tr>\n",
              "    <tr>\n",
              "      <th>153408</th>\n",
              "      <td>105717</td>\n",
              "      <td>85024</td>\n",
              "      <td>12602</td>\n",
              "      <td>414273</td>\n",
              "      <td>Returned</td>\n",
              "      <td>2023-01-18 17:09:20+00:00</td>\n",
              "      <td>2023-01-19 04:45:00+00:00</td>\n",
              "      <td>2023-01-21 20:22:00+00:00</td>\n",
              "      <td>2023-01-23 01:08:00+00:00</td>\n",
              "      <td>3.75</td>\n",
              "      <td>12602</td>\n",
              "      <td>2.1375</td>\n",
              "      <td>Intimates</td>\n",
              "      <td>BASIC INVISIBLE CLEAR BRA STRAP BY DESIGNSK</td>\n",
              "      <td>DesignSK</td>\n",
              "      <td>3.75</td>\n",
              "      <td>Women</td>\n",
              "      <td>FD8979ADA2FD5BAB05E9C5F035A5C4C7</td>\n",
              "      <td>1</td>\n",
              "      <td>1.6125</td>\n",
              "    </tr>\n",
              "    <tr>\n",
              "      <th>34552</th>\n",
              "      <td>23841</td>\n",
              "      <td>19192</td>\n",
              "      <td>12602</td>\n",
              "      <td>93325</td>\n",
              "      <td>Processing</td>\n",
              "      <td>2020-08-07 05:53:44+00:00</td>\n",
              "      <td>NaT</td>\n",
              "      <td>NaT</td>\n",
              "      <td>NaT</td>\n",
              "      <td>3.75</td>\n",
              "      <td>12602</td>\n",
              "      <td>2.1375</td>\n",
              "      <td>Intimates</td>\n",
              "      <td>BASIC INVISIBLE CLEAR BRA STRAP BY DESIGNSK</td>\n",
              "      <td>DesignSK</td>\n",
              "      <td>3.75</td>\n",
              "      <td>Women</td>\n",
              "      <td>FD8979ADA2FD5BAB05E9C5F035A5C4C7</td>\n",
              "      <td>1</td>\n",
              "      <td>1.6125</td>\n",
              "    </tr>\n",
              "  </tbody>\n",
              "</table>\n",
              "</div>\n",
              "      <button class=\"colab-df-convert\" onclick=\"convertToInteractive('df-023090af-a7ee-4bad-ac12-cf6b64639635')\"\n",
              "              title=\"Convert this dataframe to an interactive table.\"\n",
              "              style=\"display:none;\">\n",
              "        \n",
              "  <svg xmlns=\"http://www.w3.org/2000/svg\" height=\"24px\"viewBox=\"0 0 24 24\"\n",
              "       width=\"24px\">\n",
              "    <path d=\"M0 0h24v24H0V0z\" fill=\"none\"/>\n",
              "    <path d=\"M18.56 5.44l.94 2.06.94-2.06 2.06-.94-2.06-.94-.94-2.06-.94 2.06-2.06.94zm-11 1L8.5 8.5l.94-2.06 2.06-.94-2.06-.94L8.5 2.5l-.94 2.06-2.06.94zm10 10l.94 2.06.94-2.06 2.06-.94-2.06-.94-.94-2.06-.94 2.06-2.06.94z\"/><path d=\"M17.41 7.96l-1.37-1.37c-.4-.4-.92-.59-1.43-.59-.52 0-1.04.2-1.43.59L10.3 9.45l-7.72 7.72c-.78.78-.78 2.05 0 2.83L4 21.41c.39.39.9.59 1.41.59.51 0 1.02-.2 1.41-.59l7.78-7.78 2.81-2.81c.8-.78.8-2.07 0-2.86zM5.41 20L4 18.59l7.72-7.72 1.47 1.35L5.41 20z\"/>\n",
              "  </svg>\n",
              "      </button>\n",
              "      \n",
              "  <style>\n",
              "    .colab-df-container {\n",
              "      display:flex;\n",
              "      flex-wrap:wrap;\n",
              "      gap: 12px;\n",
              "    }\n",
              "\n",
              "    .colab-df-convert {\n",
              "      background-color: #E8F0FE;\n",
              "      border: none;\n",
              "      border-radius: 50%;\n",
              "      cursor: pointer;\n",
              "      display: none;\n",
              "      fill: #1967D2;\n",
              "      height: 32px;\n",
              "      padding: 0 0 0 0;\n",
              "      width: 32px;\n",
              "    }\n",
              "\n",
              "    .colab-df-convert:hover {\n",
              "      background-color: #E2EBFA;\n",
              "      box-shadow: 0px 1px 2px rgba(60, 64, 67, 0.3), 0px 1px 3px 1px rgba(60, 64, 67, 0.15);\n",
              "      fill: #174EA6;\n",
              "    }\n",
              "\n",
              "    [theme=dark] .colab-df-convert {\n",
              "      background-color: #3B4455;\n",
              "      fill: #D2E3FC;\n",
              "    }\n",
              "\n",
              "    [theme=dark] .colab-df-convert:hover {\n",
              "      background-color: #434B5C;\n",
              "      box-shadow: 0px 1px 3px 1px rgba(0, 0, 0, 0.15);\n",
              "      filter: drop-shadow(0px 1px 2px rgba(0, 0, 0, 0.3));\n",
              "      fill: #FFFFFF;\n",
              "    }\n",
              "  </style>\n",
              "\n",
              "      <script>\n",
              "        const buttonEl =\n",
              "          document.querySelector('#df-023090af-a7ee-4bad-ac12-cf6b64639635 button.colab-df-convert');\n",
              "        buttonEl.style.display =\n",
              "          google.colab.kernel.accessAllowed ? 'block' : 'none';\n",
              "\n",
              "        async function convertToInteractive(key) {\n",
              "          const element = document.querySelector('#df-023090af-a7ee-4bad-ac12-cf6b64639635');\n",
              "          const dataTable =\n",
              "            await google.colab.kernel.invokeFunction('convertToInteractive',\n",
              "                                                     [key], {});\n",
              "          if (!dataTable) return;\n",
              "\n",
              "          const docLinkHtml = 'Like what you see? Visit the ' +\n",
              "            '<a target=\"_blank\" href=https://colab.research.google.com/notebooks/data_table.ipynb>data table notebook</a>'\n",
              "            + ' to learn more about interactive tables.';\n",
              "          element.innerHTML = '';\n",
              "          dataTable['output_type'] = 'display_data';\n",
              "          await google.colab.output.renderOutput(dataTable, element);\n",
              "          const docLink = document.createElement('div');\n",
              "          docLink.innerHTML = docLinkHtml;\n",
              "          element.appendChild(docLink);\n",
              "        }\n",
              "      </script>\n",
              "    </div>\n",
              "  </div>\n",
              "  "
            ]
          },
          "metadata": {},
          "execution_count": 179
        }
      ]
    },
    {
      "cell_type": "code",
      "source": [
        "# Which brands are selling the most number of \"Intimates\"?\n",
        "intimates.brand.value_counts().sort_values(ascending = False).head(15)"
      ],
      "metadata": {
        "colab": {
          "base_uri": "https://localhost:8080/"
        },
        "id": "iulgaysekMhP",
        "outputId": "bc2fa939-f008-4bd5-c686-be069ec8ac42"
      },
      "execution_count": null,
      "outputs": [
        {
          "output_type": "execute_result",
          "data": {
            "text/plain": [
              "Bali                        419\n",
              "Hanes                       379\n",
              "Maidenform                  370\n",
              "Laura                       359\n",
              "Wacoal                      297\n",
              "SEX NIGHT                   286\n",
              "Ilusion                     279\n",
              "Vanity Fair                 277\n",
              "Calvin Klein                238\n",
              "Barely There                236\n",
              "Flexees                     229\n",
              "Frederick's of Hollywood    221\n",
              "Bslingerie                  211\n",
              "Fruit of the Loom           208\n",
              "Fashion Forms               199\n",
              "Name: brand, dtype: int64"
            ]
          },
          "metadata": {},
          "execution_count": 180
        }
      ]
    },
    {
      "cell_type": "code",
      "source": [
        "# Create list of top 12 brands\n",
        "# There is a relatively high dropoff after the 12th highest selling brand for this category\n",
        "top12Brands = ['Laura', 'Vanity Fair', 'Wacoal', 'Ilusion', 'SEX NIGHT', 'Calvin Klein', \"Frederick's of Hollywood\", \n",
        "              'Flexees', 'Barely There', 'Bslingerie', 'Fashion Forms', 'Cosabella']"
      ],
      "metadata": {
        "id": "-kJWB9elqEve"
      },
      "execution_count": null,
      "outputs": []
    },
    {
      "cell_type": "code",
      "source": [
        "# How many products are we left with to cut after excluding all \"Socks & Hosiery\" products from the top 7 brands?\n",
        "cut = products[products['category'] == 'Underwear']\n",
        "cutting = cut[~cut['brand'].isin(top12Brands)]\n",
        "cutting.shape"
      ],
      "metadata": {
        "colab": {
          "base_uri": "https://localhost:8080/"
        },
        "id": "a0sw92sUqE_T",
        "outputId": "3cc66d8b-0567-454d-d59e-179b58f3aa09"
      },
      "execution_count": null,
      "outputs": [
        {
          "output_type": "execute_result",
          "data": {
            "text/plain": [
              "(992, 9)"
            ]
          },
          "metadata": {},
          "execution_count": 182
        }
      ]
    },
    {
      "cell_type": "code",
      "source": [
        "# Running tally of the number of products we have cut already\n",
        "ProductsCut = ProductsCut.append(cutting)\n",
        "ProductsCut.shape"
      ],
      "metadata": {
        "colab": {
          "base_uri": "https://localhost:8080/"
        },
        "id": "cQjnkujv2jTH",
        "outputId": "d113a003-c1e4-426c-8b17-ba2d01da3bd2"
      },
      "execution_count": null,
      "outputs": [
        {
          "output_type": "stream",
          "name": "stderr",
          "text": [
            "<ipython-input-183-def553d076f0>:2: FutureWarning: The frame.append method is deprecated and will be removed from pandas in a future version. Use pandas.concat instead.\n",
            "  ProductsCut = ProductsCut.append(cutting)\n"
          ]
        },
        {
          "output_type": "execute_result",
          "data": {
            "text/plain": [
              "(3455, 9)"
            ]
          },
          "metadata": {},
          "execution_count": 183
        }
      ]
    },
    {
      "cell_type": "markdown",
      "source": [
        "We can cut 992 products from this category. We are now up to 3455 products that we have cut so far."
      ],
      "metadata": {
        "id": "q8o0h3qhlxgl"
      }
    },
    {
      "cell_type": "markdown",
      "source": [
        "Next, we are going to go on to \"Tops & Tees\". This category has the 3rd highest number of products, and is only the 13th highest in terms of revenue value. This is a good ratio relative to the other categories."
      ],
      "metadata": {
        "id": "lrgTM8wrm5tM"
      }
    },
    {
      "cell_type": "code",
      "source": [
        "# Filter to only look at products ordered from the category, \"Tops & Tees\"\n",
        "topsTees = order_items[order_items['category'] == 'Tops & Tees']\n",
        "topsTees.head()"
      ],
      "metadata": {
        "colab": {
          "base_uri": "https://localhost:8080/",
          "height": 735
        },
        "id": "9f2afg-BkMkF",
        "outputId": "a4491c02-ea05-4670-c715-c5df6dde67f7"
      },
      "execution_count": null,
      "outputs": [
        {
          "output_type": "execute_result",
          "data": {
            "text/plain": [
              "        order_id  user_id  product_id  inventory_item_id   status  \\\n",
              "id                                                                  \n",
              "12385       8568     6871       16949              33370  Shipped   \n",
              "84853      58520    47237       16949             228925  Shipped   \n",
              "111022     76553    61716       16949             299748  Shipped   \n",
              "123679     85292    68707       16949             334042  Shipped   \n",
              "140549     96913    78005       16949             379616  Shipped   \n",
              "\n",
              "                      created_at                shipped_at delivered_at  \\\n",
              "id                                                                        \n",
              "12385  2023-02-14 16:57:38+00:00 2023-02-15 02:32:00+00:00          NaT   \n",
              "84853  2023-03-07 03:43:15+00:00 2023-03-08 02:26:00+00:00          NaT   \n",
              "111022 2021-10-21 15:03:43+00:00 2021-10-21 21:46:00+00:00          NaT   \n",
              "123679 2021-05-05 14:32:12+00:00 2021-05-05 06:34:00+00:00          NaT   \n",
              "140549 2022-05-21 03:58:18+00:00 2022-05-22 07:00:00+00:00          NaT   \n",
              "\n",
              "       returned_at  sale_price   id_1  cost     category  \\\n",
              "id                                                         \n",
              "12385          NaT         5.0  16949  2.57  Tops & Tees   \n",
              "84853          NaT         5.0  16949  2.57  Tops & Tees   \n",
              "111022         NaT         5.0  16949  2.57  Tops & Tees   \n",
              "123679         NaT         5.0  16949  2.57  Tops & Tees   \n",
              "140549         NaT         5.0  16949  2.57  Tops & Tees   \n",
              "\n",
              "                                                     name     brand  \\\n",
              "id                                                                    \n",
              "12385   Seinfeld Happy Festivus For the Rest of Us Lig...  Seinfeld   \n",
              "84853   Seinfeld Happy Festivus For the Rest of Us Lig...  Seinfeld   \n",
              "111022  Seinfeld Happy Festivus For the Rest of Us Lig...  Seinfeld   \n",
              "123679  Seinfeld Happy Festivus For the Rest of Us Lig...  Seinfeld   \n",
              "140549  Seinfeld Happy Festivus For the Rest of Us Lig...  Seinfeld   \n",
              "\n",
              "        retail_price department                               sku  \\\n",
              "id                                                                  \n",
              "12385            5.0        Men  2485D846DC142C8056986D6B551F5486   \n",
              "84853            5.0        Men  2485D846DC142C8056986D6B551F5486   \n",
              "111022           5.0        Men  2485D846DC142C8056986D6B551F5486   \n",
              "123679           5.0        Men  2485D846DC142C8056986D6B551F5486   \n",
              "140549           5.0        Men  2485D846DC142C8056986D6B551F5486   \n",
              "\n",
              "        distribution_center_id  profit  \n",
              "id                                      \n",
              "12385                        7    2.43  \n",
              "84853                        7    2.43  \n",
              "111022                       7    2.43  \n",
              "123679                       7    2.43  \n",
              "140549                       7    2.43  "
            ],
            "text/html": [
              "\n",
              "  <div id=\"df-636f13c4-591d-41e9-b6ce-4ad4e6542b43\">\n",
              "    <div class=\"colab-df-container\">\n",
              "      <div>\n",
              "<style scoped>\n",
              "    .dataframe tbody tr th:only-of-type {\n",
              "        vertical-align: middle;\n",
              "    }\n",
              "\n",
              "    .dataframe tbody tr th {\n",
              "        vertical-align: top;\n",
              "    }\n",
              "\n",
              "    .dataframe thead th {\n",
              "        text-align: right;\n",
              "    }\n",
              "</style>\n",
              "<table border=\"1\" class=\"dataframe\">\n",
              "  <thead>\n",
              "    <tr style=\"text-align: right;\">\n",
              "      <th></th>\n",
              "      <th>order_id</th>\n",
              "      <th>user_id</th>\n",
              "      <th>product_id</th>\n",
              "      <th>inventory_item_id</th>\n",
              "      <th>status</th>\n",
              "      <th>created_at</th>\n",
              "      <th>shipped_at</th>\n",
              "      <th>delivered_at</th>\n",
              "      <th>returned_at</th>\n",
              "      <th>sale_price</th>\n",
              "      <th>id_1</th>\n",
              "      <th>cost</th>\n",
              "      <th>category</th>\n",
              "      <th>name</th>\n",
              "      <th>brand</th>\n",
              "      <th>retail_price</th>\n",
              "      <th>department</th>\n",
              "      <th>sku</th>\n",
              "      <th>distribution_center_id</th>\n",
              "      <th>profit</th>\n",
              "    </tr>\n",
              "    <tr>\n",
              "      <th>id</th>\n",
              "      <th></th>\n",
              "      <th></th>\n",
              "      <th></th>\n",
              "      <th></th>\n",
              "      <th></th>\n",
              "      <th></th>\n",
              "      <th></th>\n",
              "      <th></th>\n",
              "      <th></th>\n",
              "      <th></th>\n",
              "      <th></th>\n",
              "      <th></th>\n",
              "      <th></th>\n",
              "      <th></th>\n",
              "      <th></th>\n",
              "      <th></th>\n",
              "      <th></th>\n",
              "      <th></th>\n",
              "      <th></th>\n",
              "      <th></th>\n",
              "    </tr>\n",
              "  </thead>\n",
              "  <tbody>\n",
              "    <tr>\n",
              "      <th>12385</th>\n",
              "      <td>8568</td>\n",
              "      <td>6871</td>\n",
              "      <td>16949</td>\n",
              "      <td>33370</td>\n",
              "      <td>Shipped</td>\n",
              "      <td>2023-02-14 16:57:38+00:00</td>\n",
              "      <td>2023-02-15 02:32:00+00:00</td>\n",
              "      <td>NaT</td>\n",
              "      <td>NaT</td>\n",
              "      <td>5.0</td>\n",
              "      <td>16949</td>\n",
              "      <td>2.57</td>\n",
              "      <td>Tops &amp; Tees</td>\n",
              "      <td>Seinfeld Happy Festivus For the Rest of Us Lig...</td>\n",
              "      <td>Seinfeld</td>\n",
              "      <td>5.0</td>\n",
              "      <td>Men</td>\n",
              "      <td>2485D846DC142C8056986D6B551F5486</td>\n",
              "      <td>7</td>\n",
              "      <td>2.43</td>\n",
              "    </tr>\n",
              "    <tr>\n",
              "      <th>84853</th>\n",
              "      <td>58520</td>\n",
              "      <td>47237</td>\n",
              "      <td>16949</td>\n",
              "      <td>228925</td>\n",
              "      <td>Shipped</td>\n",
              "      <td>2023-03-07 03:43:15+00:00</td>\n",
              "      <td>2023-03-08 02:26:00+00:00</td>\n",
              "      <td>NaT</td>\n",
              "      <td>NaT</td>\n",
              "      <td>5.0</td>\n",
              "      <td>16949</td>\n",
              "      <td>2.57</td>\n",
              "      <td>Tops &amp; Tees</td>\n",
              "      <td>Seinfeld Happy Festivus For the Rest of Us Lig...</td>\n",
              "      <td>Seinfeld</td>\n",
              "      <td>5.0</td>\n",
              "      <td>Men</td>\n",
              "      <td>2485D846DC142C8056986D6B551F5486</td>\n",
              "      <td>7</td>\n",
              "      <td>2.43</td>\n",
              "    </tr>\n",
              "    <tr>\n",
              "      <th>111022</th>\n",
              "      <td>76553</td>\n",
              "      <td>61716</td>\n",
              "      <td>16949</td>\n",
              "      <td>299748</td>\n",
              "      <td>Shipped</td>\n",
              "      <td>2021-10-21 15:03:43+00:00</td>\n",
              "      <td>2021-10-21 21:46:00+00:00</td>\n",
              "      <td>NaT</td>\n",
              "      <td>NaT</td>\n",
              "      <td>5.0</td>\n",
              "      <td>16949</td>\n",
              "      <td>2.57</td>\n",
              "      <td>Tops &amp; Tees</td>\n",
              "      <td>Seinfeld Happy Festivus For the Rest of Us Lig...</td>\n",
              "      <td>Seinfeld</td>\n",
              "      <td>5.0</td>\n",
              "      <td>Men</td>\n",
              "      <td>2485D846DC142C8056986D6B551F5486</td>\n",
              "      <td>7</td>\n",
              "      <td>2.43</td>\n",
              "    </tr>\n",
              "    <tr>\n",
              "      <th>123679</th>\n",
              "      <td>85292</td>\n",
              "      <td>68707</td>\n",
              "      <td>16949</td>\n",
              "      <td>334042</td>\n",
              "      <td>Shipped</td>\n",
              "      <td>2021-05-05 14:32:12+00:00</td>\n",
              "      <td>2021-05-05 06:34:00+00:00</td>\n",
              "      <td>NaT</td>\n",
              "      <td>NaT</td>\n",
              "      <td>5.0</td>\n",
              "      <td>16949</td>\n",
              "      <td>2.57</td>\n",
              "      <td>Tops &amp; Tees</td>\n",
              "      <td>Seinfeld Happy Festivus For the Rest of Us Lig...</td>\n",
              "      <td>Seinfeld</td>\n",
              "      <td>5.0</td>\n",
              "      <td>Men</td>\n",
              "      <td>2485D846DC142C8056986D6B551F5486</td>\n",
              "      <td>7</td>\n",
              "      <td>2.43</td>\n",
              "    </tr>\n",
              "    <tr>\n",
              "      <th>140549</th>\n",
              "      <td>96913</td>\n",
              "      <td>78005</td>\n",
              "      <td>16949</td>\n",
              "      <td>379616</td>\n",
              "      <td>Shipped</td>\n",
              "      <td>2022-05-21 03:58:18+00:00</td>\n",
              "      <td>2022-05-22 07:00:00+00:00</td>\n",
              "      <td>NaT</td>\n",
              "      <td>NaT</td>\n",
              "      <td>5.0</td>\n",
              "      <td>16949</td>\n",
              "      <td>2.57</td>\n",
              "      <td>Tops &amp; Tees</td>\n",
              "      <td>Seinfeld Happy Festivus For the Rest of Us Lig...</td>\n",
              "      <td>Seinfeld</td>\n",
              "      <td>5.0</td>\n",
              "      <td>Men</td>\n",
              "      <td>2485D846DC142C8056986D6B551F5486</td>\n",
              "      <td>7</td>\n",
              "      <td>2.43</td>\n",
              "    </tr>\n",
              "  </tbody>\n",
              "</table>\n",
              "</div>\n",
              "      <button class=\"colab-df-convert\" onclick=\"convertToInteractive('df-636f13c4-591d-41e9-b6ce-4ad4e6542b43')\"\n",
              "              title=\"Convert this dataframe to an interactive table.\"\n",
              "              style=\"display:none;\">\n",
              "        \n",
              "  <svg xmlns=\"http://www.w3.org/2000/svg\" height=\"24px\"viewBox=\"0 0 24 24\"\n",
              "       width=\"24px\">\n",
              "    <path d=\"M0 0h24v24H0V0z\" fill=\"none\"/>\n",
              "    <path d=\"M18.56 5.44l.94 2.06.94-2.06 2.06-.94-2.06-.94-.94-2.06-.94 2.06-2.06.94zm-11 1L8.5 8.5l.94-2.06 2.06-.94-2.06-.94L8.5 2.5l-.94 2.06-2.06.94zm10 10l.94 2.06.94-2.06 2.06-.94-2.06-.94-.94-2.06-.94 2.06-2.06.94z\"/><path d=\"M17.41 7.96l-1.37-1.37c-.4-.4-.92-.59-1.43-.59-.52 0-1.04.2-1.43.59L10.3 9.45l-7.72 7.72c-.78.78-.78 2.05 0 2.83L4 21.41c.39.39.9.59 1.41.59.51 0 1.02-.2 1.41-.59l7.78-7.78 2.81-2.81c.8-.78.8-2.07 0-2.86zM5.41 20L4 18.59l7.72-7.72 1.47 1.35L5.41 20z\"/>\n",
              "  </svg>\n",
              "      </button>\n",
              "      \n",
              "  <style>\n",
              "    .colab-df-container {\n",
              "      display:flex;\n",
              "      flex-wrap:wrap;\n",
              "      gap: 12px;\n",
              "    }\n",
              "\n",
              "    .colab-df-convert {\n",
              "      background-color: #E8F0FE;\n",
              "      border: none;\n",
              "      border-radius: 50%;\n",
              "      cursor: pointer;\n",
              "      display: none;\n",
              "      fill: #1967D2;\n",
              "      height: 32px;\n",
              "      padding: 0 0 0 0;\n",
              "      width: 32px;\n",
              "    }\n",
              "\n",
              "    .colab-df-convert:hover {\n",
              "      background-color: #E2EBFA;\n",
              "      box-shadow: 0px 1px 2px rgba(60, 64, 67, 0.3), 0px 1px 3px 1px rgba(60, 64, 67, 0.15);\n",
              "      fill: #174EA6;\n",
              "    }\n",
              "\n",
              "    [theme=dark] .colab-df-convert {\n",
              "      background-color: #3B4455;\n",
              "      fill: #D2E3FC;\n",
              "    }\n",
              "\n",
              "    [theme=dark] .colab-df-convert:hover {\n",
              "      background-color: #434B5C;\n",
              "      box-shadow: 0px 1px 3px 1px rgba(0, 0, 0, 0.15);\n",
              "      filter: drop-shadow(0px 1px 2px rgba(0, 0, 0, 0.3));\n",
              "      fill: #FFFFFF;\n",
              "    }\n",
              "  </style>\n",
              "\n",
              "      <script>\n",
              "        const buttonEl =\n",
              "          document.querySelector('#df-636f13c4-591d-41e9-b6ce-4ad4e6542b43 button.colab-df-convert');\n",
              "        buttonEl.style.display =\n",
              "          google.colab.kernel.accessAllowed ? 'block' : 'none';\n",
              "\n",
              "        async function convertToInteractive(key) {\n",
              "          const element = document.querySelector('#df-636f13c4-591d-41e9-b6ce-4ad4e6542b43');\n",
              "          const dataTable =\n",
              "            await google.colab.kernel.invokeFunction('convertToInteractive',\n",
              "                                                     [key], {});\n",
              "          if (!dataTable) return;\n",
              "\n",
              "          const docLinkHtml = 'Like what you see? Visit the ' +\n",
              "            '<a target=\"_blank\" href=https://colab.research.google.com/notebooks/data_table.ipynb>data table notebook</a>'\n",
              "            + ' to learn more about interactive tables.';\n",
              "          element.innerHTML = '';\n",
              "          dataTable['output_type'] = 'display_data';\n",
              "          await google.colab.output.renderOutput(dataTable, element);\n",
              "          const docLink = document.createElement('div');\n",
              "          docLink.innerHTML = docLinkHtml;\n",
              "          element.appendChild(docLink);\n",
              "        }\n",
              "      </script>\n",
              "    </div>\n",
              "  </div>\n",
              "  "
            ]
          },
          "metadata": {},
          "execution_count": 184
        }
      ]
    },
    {
      "cell_type": "code",
      "source": [
        "# Which brands are selling the most number of \"Tops & Tees\"?\n",
        "topsTees.brand.value_counts().sort_values(ascending = False).head(15)"
      ],
      "metadata": {
        "colab": {
          "base_uri": "https://localhost:8080/"
        },
        "id": "CblC4RnwnMBY",
        "outputId": "9aa1c336-78b9-4850-9d45-8f6a0f561434"
      },
      "execution_count": null,
      "outputs": [
        {
          "output_type": "execute_result",
          "data": {
            "text/plain": [
              "Allegra K             545\n",
              "Carhartt              414\n",
              "Volcom                307\n",
              "Patty                 256\n",
              "U.S. Polo Assn.       253\n",
              "Van Heusen            244\n",
              "Harley-Davidson       227\n",
              "Hurley                209\n",
              "DC                    206\n",
              "Tommy Hilfiger        204\n",
              "Lucky Brand           192\n",
              "Ralph Lauren          186\n",
              "Columbia              183\n",
              "Hanes                 155\n",
              "Calvin Klein Jeans    147\n",
              "Name: brand, dtype: int64"
            ]
          },
          "metadata": {},
          "execution_count": 185
        }
      ]
    },
    {
      "cell_type": "code",
      "source": [
        "# Create list of top 12 brands\n",
        "# There is a dropoff after the 12th highest selling brand for this category\n",
        "# This is not the biggest dropoff, but we do not want to cut too many at this point.\n",
        "top12BrandsTT = ['Allegra K', 'Carhartt', 'Volcom', 'Van Heusen', 'Patty', 'Harley-Davidson', \n",
        "                'Tommy Hilfiger', 'U.S. Polo Assn.', 'Lucky Brand', 'DC', 'Hurley', 'Columbia']\n"
      ],
      "metadata": {
        "id": "ZXmv3GXxnME6"
      },
      "execution_count": null,
      "outputs": []
    },
    {
      "cell_type": "code",
      "source": [
        "# How many products are we left with to cut after excluding all \"Socks & Hosiery\" products from the top 7 brands?\n",
        "cut = products[products['category'] == 'Tops & Tees']\n",
        "cutting = cut[~cut['brand'].isin(top12BrandsTT)]\n",
        "cutting.shape"
      ],
      "metadata": {
        "colab": {
          "base_uri": "https://localhost:8080/"
        },
        "id": "krSwRfr0kMnx",
        "outputId": "3feffa2d-641c-4108-9092-e0a1718c46ed"
      },
      "execution_count": null,
      "outputs": [
        {
          "output_type": "execute_result",
          "data": {
            "text/plain": [
              "(1352, 9)"
            ]
          },
          "metadata": {},
          "execution_count": 187
        }
      ]
    },
    {
      "cell_type": "code",
      "source": [
        "# Running tally of the number of products we have cut already\n",
        "ProductsCut = ProductsCut.append(cutting)\n",
        "ProductsCut.shape"
      ],
      "metadata": {
        "colab": {
          "base_uri": "https://localhost:8080/"
        },
        "id": "ZJX1OVjO2wUj",
        "outputId": "4eb1a5c9-9e0a-492a-9a5a-83d627a8e67f"
      },
      "execution_count": null,
      "outputs": [
        {
          "output_type": "stream",
          "name": "stderr",
          "text": [
            "<ipython-input-188-def553d076f0>:2: FutureWarning: The frame.append method is deprecated and will be removed from pandas in a future version. Use pandas.concat instead.\n",
            "  ProductsCut = ProductsCut.append(cutting)\n"
          ]
        },
        {
          "output_type": "execute_result",
          "data": {
            "text/plain": [
              "(4807, 9)"
            ]
          },
          "metadata": {},
          "execution_count": 188
        }
      ]
    },
    {
      "cell_type": "markdown",
      "source": [
        "We can cut 1352 products from the Tops & Tees category. We are now up to 4807 products that we have cut. We have 1017 products left to cut."
      ],
      "metadata": {
        "id": "T0oLwkt_rVy6"
      }
    },
    {
      "cell_type": "markdown",
      "source": [
        "Next we will move on to accessories. "
      ],
      "metadata": {
        "id": "n4dyk-E3r4rF"
      }
    },
    {
      "cell_type": "code",
      "source": [
        "# Filter to only look at products ordered from the category, \"Accessories\"\n",
        "accessories = order_items[order_items['category'] == 'Accessories']\n",
        "accessories.head()"
      ],
      "metadata": {
        "colab": {
          "base_uri": "https://localhost:8080/",
          "height": 735
        },
        "id": "4riymRfur35G",
        "outputId": "ea21616a-bfb7-4e3b-bfb1-97171f1ba347"
      },
      "execution_count": null,
      "outputs": [
        {
          "output_type": "execute_result",
          "data": {
            "text/plain": [
              "        order_id  user_id  product_id  inventory_item_id      status  \\\n",
              "id                                                                     \n",
              "50969      35094    28254       13606             137521     Shipped   \n",
              "87165      60084    48474       13606             235155     Shipped   \n",
              "47448      32694    26305       13606             128000    Complete   \n",
              "128831     88851    71563       13606             347943    Complete   \n",
              "74967      51711    41729       13606             202142  Processing   \n",
              "\n",
              "                      created_at                shipped_at  \\\n",
              "id                                                           \n",
              "50969  2021-07-21 10:46:58+00:00 2021-07-20 04:02:00+00:00   \n",
              "87165  2023-04-02 01:51:01+00:00 2023-04-02 18:09:00+00:00   \n",
              "47448  2023-01-27 11:19:49+00:00 2023-01-26 23:32:00+00:00   \n",
              "128831 2021-08-01 06:29:22+00:00 2021-08-02 01:36:00+00:00   \n",
              "74967  2020-12-17 15:28:29+00:00                       NaT   \n",
              "\n",
              "                    delivered_at returned_at  sale_price   id_1    cost  \\\n",
              "id                                                                        \n",
              "50969                        NaT         NaT         2.5  13606  1.1075   \n",
              "87165                        NaT         NaT         2.5  13606  1.1075   \n",
              "47448  2023-01-30 00:55:00+00:00         NaT         2.5  13606  1.1075   \n",
              "128831 2021-08-04 08:45:00+00:00         NaT         2.5  13606  1.1075   \n",
              "74967                        NaT         NaT         2.5  13606  1.1075   \n",
              "\n",
              "           category                                     name  \\\n",
              "id                                                             \n",
              "50969   Accessories  Elegant PASHMINA SCARF WRAP SHAWL STOLE   \n",
              "87165   Accessories  Elegant PASHMINA SCARF WRAP SHAWL STOLE   \n",
              "47448   Accessories  Elegant PASHMINA SCARF WRAP SHAWL STOLE   \n",
              "128831  Accessories  Elegant PASHMINA SCARF WRAP SHAWL STOLE   \n",
              "74967   Accessories  Elegant PASHMINA SCARF WRAP SHAWL STOLE   \n",
              "\n",
              "                   brand  retail_price department  \\\n",
              "id                                                  \n",
              "50969   Scarf_tradinginc           2.5      Women   \n",
              "87165   Scarf_tradinginc           2.5      Women   \n",
              "47448   Scarf_tradinginc           2.5      Women   \n",
              "128831  Scarf_tradinginc           2.5      Women   \n",
              "74967   Scarf_tradinginc           2.5      Women   \n",
              "\n",
              "                                     sku  distribution_center_id  profit  \n",
              "id                                                                        \n",
              "50969   4ACBEDBE977480D19B7B682D4878CAE2                       3  1.3925  \n",
              "87165   4ACBEDBE977480D19B7B682D4878CAE2                       3  1.3925  \n",
              "47448   4ACBEDBE977480D19B7B682D4878CAE2                       3  1.3925  \n",
              "128831  4ACBEDBE977480D19B7B682D4878CAE2                       3  1.3925  \n",
              "74967   4ACBEDBE977480D19B7B682D4878CAE2                       3  1.3925  "
            ],
            "text/html": [
              "\n",
              "  <div id=\"df-5446b6b5-9066-43ea-8cfb-1fe546d920f6\">\n",
              "    <div class=\"colab-df-container\">\n",
              "      <div>\n",
              "<style scoped>\n",
              "    .dataframe tbody tr th:only-of-type {\n",
              "        vertical-align: middle;\n",
              "    }\n",
              "\n",
              "    .dataframe tbody tr th {\n",
              "        vertical-align: top;\n",
              "    }\n",
              "\n",
              "    .dataframe thead th {\n",
              "        text-align: right;\n",
              "    }\n",
              "</style>\n",
              "<table border=\"1\" class=\"dataframe\">\n",
              "  <thead>\n",
              "    <tr style=\"text-align: right;\">\n",
              "      <th></th>\n",
              "      <th>order_id</th>\n",
              "      <th>user_id</th>\n",
              "      <th>product_id</th>\n",
              "      <th>inventory_item_id</th>\n",
              "      <th>status</th>\n",
              "      <th>created_at</th>\n",
              "      <th>shipped_at</th>\n",
              "      <th>delivered_at</th>\n",
              "      <th>returned_at</th>\n",
              "      <th>sale_price</th>\n",
              "      <th>id_1</th>\n",
              "      <th>cost</th>\n",
              "      <th>category</th>\n",
              "      <th>name</th>\n",
              "      <th>brand</th>\n",
              "      <th>retail_price</th>\n",
              "      <th>department</th>\n",
              "      <th>sku</th>\n",
              "      <th>distribution_center_id</th>\n",
              "      <th>profit</th>\n",
              "    </tr>\n",
              "    <tr>\n",
              "      <th>id</th>\n",
              "      <th></th>\n",
              "      <th></th>\n",
              "      <th></th>\n",
              "      <th></th>\n",
              "      <th></th>\n",
              "      <th></th>\n",
              "      <th></th>\n",
              "      <th></th>\n",
              "      <th></th>\n",
              "      <th></th>\n",
              "      <th></th>\n",
              "      <th></th>\n",
              "      <th></th>\n",
              "      <th></th>\n",
              "      <th></th>\n",
              "      <th></th>\n",
              "      <th></th>\n",
              "      <th></th>\n",
              "      <th></th>\n",
              "      <th></th>\n",
              "    </tr>\n",
              "  </thead>\n",
              "  <tbody>\n",
              "    <tr>\n",
              "      <th>50969</th>\n",
              "      <td>35094</td>\n",
              "      <td>28254</td>\n",
              "      <td>13606</td>\n",
              "      <td>137521</td>\n",
              "      <td>Shipped</td>\n",
              "      <td>2021-07-21 10:46:58+00:00</td>\n",
              "      <td>2021-07-20 04:02:00+00:00</td>\n",
              "      <td>NaT</td>\n",
              "      <td>NaT</td>\n",
              "      <td>2.5</td>\n",
              "      <td>13606</td>\n",
              "      <td>1.1075</td>\n",
              "      <td>Accessories</td>\n",
              "      <td>Elegant PASHMINA SCARF WRAP SHAWL STOLE</td>\n",
              "      <td>Scarf_tradinginc</td>\n",
              "      <td>2.5</td>\n",
              "      <td>Women</td>\n",
              "      <td>4ACBEDBE977480D19B7B682D4878CAE2</td>\n",
              "      <td>3</td>\n",
              "      <td>1.3925</td>\n",
              "    </tr>\n",
              "    <tr>\n",
              "      <th>87165</th>\n",
              "      <td>60084</td>\n",
              "      <td>48474</td>\n",
              "      <td>13606</td>\n",
              "      <td>235155</td>\n",
              "      <td>Shipped</td>\n",
              "      <td>2023-04-02 01:51:01+00:00</td>\n",
              "      <td>2023-04-02 18:09:00+00:00</td>\n",
              "      <td>NaT</td>\n",
              "      <td>NaT</td>\n",
              "      <td>2.5</td>\n",
              "      <td>13606</td>\n",
              "      <td>1.1075</td>\n",
              "      <td>Accessories</td>\n",
              "      <td>Elegant PASHMINA SCARF WRAP SHAWL STOLE</td>\n",
              "      <td>Scarf_tradinginc</td>\n",
              "      <td>2.5</td>\n",
              "      <td>Women</td>\n",
              "      <td>4ACBEDBE977480D19B7B682D4878CAE2</td>\n",
              "      <td>3</td>\n",
              "      <td>1.3925</td>\n",
              "    </tr>\n",
              "    <tr>\n",
              "      <th>47448</th>\n",
              "      <td>32694</td>\n",
              "      <td>26305</td>\n",
              "      <td>13606</td>\n",
              "      <td>128000</td>\n",
              "      <td>Complete</td>\n",
              "      <td>2023-01-27 11:19:49+00:00</td>\n",
              "      <td>2023-01-26 23:32:00+00:00</td>\n",
              "      <td>2023-01-30 00:55:00+00:00</td>\n",
              "      <td>NaT</td>\n",
              "      <td>2.5</td>\n",
              "      <td>13606</td>\n",
              "      <td>1.1075</td>\n",
              "      <td>Accessories</td>\n",
              "      <td>Elegant PASHMINA SCARF WRAP SHAWL STOLE</td>\n",
              "      <td>Scarf_tradinginc</td>\n",
              "      <td>2.5</td>\n",
              "      <td>Women</td>\n",
              "      <td>4ACBEDBE977480D19B7B682D4878CAE2</td>\n",
              "      <td>3</td>\n",
              "      <td>1.3925</td>\n",
              "    </tr>\n",
              "    <tr>\n",
              "      <th>128831</th>\n",
              "      <td>88851</td>\n",
              "      <td>71563</td>\n",
              "      <td>13606</td>\n",
              "      <td>347943</td>\n",
              "      <td>Complete</td>\n",
              "      <td>2021-08-01 06:29:22+00:00</td>\n",
              "      <td>2021-08-02 01:36:00+00:00</td>\n",
              "      <td>2021-08-04 08:45:00+00:00</td>\n",
              "      <td>NaT</td>\n",
              "      <td>2.5</td>\n",
              "      <td>13606</td>\n",
              "      <td>1.1075</td>\n",
              "      <td>Accessories</td>\n",
              "      <td>Elegant PASHMINA SCARF WRAP SHAWL STOLE</td>\n",
              "      <td>Scarf_tradinginc</td>\n",
              "      <td>2.5</td>\n",
              "      <td>Women</td>\n",
              "      <td>4ACBEDBE977480D19B7B682D4878CAE2</td>\n",
              "      <td>3</td>\n",
              "      <td>1.3925</td>\n",
              "    </tr>\n",
              "    <tr>\n",
              "      <th>74967</th>\n",
              "      <td>51711</td>\n",
              "      <td>41729</td>\n",
              "      <td>13606</td>\n",
              "      <td>202142</td>\n",
              "      <td>Processing</td>\n",
              "      <td>2020-12-17 15:28:29+00:00</td>\n",
              "      <td>NaT</td>\n",
              "      <td>NaT</td>\n",
              "      <td>NaT</td>\n",
              "      <td>2.5</td>\n",
              "      <td>13606</td>\n",
              "      <td>1.1075</td>\n",
              "      <td>Accessories</td>\n",
              "      <td>Elegant PASHMINA SCARF WRAP SHAWL STOLE</td>\n",
              "      <td>Scarf_tradinginc</td>\n",
              "      <td>2.5</td>\n",
              "      <td>Women</td>\n",
              "      <td>4ACBEDBE977480D19B7B682D4878CAE2</td>\n",
              "      <td>3</td>\n",
              "      <td>1.3925</td>\n",
              "    </tr>\n",
              "  </tbody>\n",
              "</table>\n",
              "</div>\n",
              "      <button class=\"colab-df-convert\" onclick=\"convertToInteractive('df-5446b6b5-9066-43ea-8cfb-1fe546d920f6')\"\n",
              "              title=\"Convert this dataframe to an interactive table.\"\n",
              "              style=\"display:none;\">\n",
              "        \n",
              "  <svg xmlns=\"http://www.w3.org/2000/svg\" height=\"24px\"viewBox=\"0 0 24 24\"\n",
              "       width=\"24px\">\n",
              "    <path d=\"M0 0h24v24H0V0z\" fill=\"none\"/>\n",
              "    <path d=\"M18.56 5.44l.94 2.06.94-2.06 2.06-.94-2.06-.94-.94-2.06-.94 2.06-2.06.94zm-11 1L8.5 8.5l.94-2.06 2.06-.94-2.06-.94L8.5 2.5l-.94 2.06-2.06.94zm10 10l.94 2.06.94-2.06 2.06-.94-2.06-.94-.94-2.06-.94 2.06-2.06.94z\"/><path d=\"M17.41 7.96l-1.37-1.37c-.4-.4-.92-.59-1.43-.59-.52 0-1.04.2-1.43.59L10.3 9.45l-7.72 7.72c-.78.78-.78 2.05 0 2.83L4 21.41c.39.39.9.59 1.41.59.51 0 1.02-.2 1.41-.59l7.78-7.78 2.81-2.81c.8-.78.8-2.07 0-2.86zM5.41 20L4 18.59l7.72-7.72 1.47 1.35L5.41 20z\"/>\n",
              "  </svg>\n",
              "      </button>\n",
              "      \n",
              "  <style>\n",
              "    .colab-df-container {\n",
              "      display:flex;\n",
              "      flex-wrap:wrap;\n",
              "      gap: 12px;\n",
              "    }\n",
              "\n",
              "    .colab-df-convert {\n",
              "      background-color: #E8F0FE;\n",
              "      border: none;\n",
              "      border-radius: 50%;\n",
              "      cursor: pointer;\n",
              "      display: none;\n",
              "      fill: #1967D2;\n",
              "      height: 32px;\n",
              "      padding: 0 0 0 0;\n",
              "      width: 32px;\n",
              "    }\n",
              "\n",
              "    .colab-df-convert:hover {\n",
              "      background-color: #E2EBFA;\n",
              "      box-shadow: 0px 1px 2px rgba(60, 64, 67, 0.3), 0px 1px 3px 1px rgba(60, 64, 67, 0.15);\n",
              "      fill: #174EA6;\n",
              "    }\n",
              "\n",
              "    [theme=dark] .colab-df-convert {\n",
              "      background-color: #3B4455;\n",
              "      fill: #D2E3FC;\n",
              "    }\n",
              "\n",
              "    [theme=dark] .colab-df-convert:hover {\n",
              "      background-color: #434B5C;\n",
              "      box-shadow: 0px 1px 3px 1px rgba(0, 0, 0, 0.15);\n",
              "      filter: drop-shadow(0px 1px 2px rgba(0, 0, 0, 0.3));\n",
              "      fill: #FFFFFF;\n",
              "    }\n",
              "  </style>\n",
              "\n",
              "      <script>\n",
              "        const buttonEl =\n",
              "          document.querySelector('#df-5446b6b5-9066-43ea-8cfb-1fe546d920f6 button.colab-df-convert');\n",
              "        buttonEl.style.display =\n",
              "          google.colab.kernel.accessAllowed ? 'block' : 'none';\n",
              "\n",
              "        async function convertToInteractive(key) {\n",
              "          const element = document.querySelector('#df-5446b6b5-9066-43ea-8cfb-1fe546d920f6');\n",
              "          const dataTable =\n",
              "            await google.colab.kernel.invokeFunction('convertToInteractive',\n",
              "                                                     [key], {});\n",
              "          if (!dataTable) return;\n",
              "\n",
              "          const docLinkHtml = 'Like what you see? Visit the ' +\n",
              "            '<a target=\"_blank\" href=https://colab.research.google.com/notebooks/data_table.ipynb>data table notebook</a>'\n",
              "            + ' to learn more about interactive tables.';\n",
              "          element.innerHTML = '';\n",
              "          dataTable['output_type'] = 'display_data';\n",
              "          await google.colab.output.renderOutput(dataTable, element);\n",
              "          const docLink = document.createElement('div');\n",
              "          docLink.innerHTML = docLinkHtml;\n",
              "          element.appendChild(docLink);\n",
              "        }\n",
              "      </script>\n",
              "    </div>\n",
              "  </div>\n",
              "  "
            ]
          },
          "metadata": {},
          "execution_count": 189
        }
      ]
    },
    {
      "cell_type": "code",
      "source": [
        "# Which brands are selling the most number of \"Accessories\"?\n",
        "accessories.brand.value_counts().sort_values(ascending = False).head(15)"
      ],
      "metadata": {
        "colab": {
          "base_uri": "https://localhost:8080/"
        },
        "id": "vClcrYXdsPni",
        "outputId": "e3207a7b-e852-436e-a818-bcca10d9f48f"
      },
      "execution_count": null,
      "outputs": [
        {
          "output_type": "execute_result",
          "data": {
            "text/plain": [
              "Ray-Ban                  617\n",
              "Oakley                   431\n",
              "Carhartt                 285\n",
              "TrendsBlue               223\n",
              "Isotoner                 208\n",
              "TheTieBar                194\n",
              "boxed-gifts              153\n",
              "Outdoor Research         131\n",
              "Kenneth Cole REACTION    127\n",
              "Columbia                 119\n",
              "Kangol                   103\n",
              "WARMEN                   102\n",
              "Luxury Divas             100\n",
              "Carrera                   99\n",
              "Levi's                    98\n",
              "Name: brand, dtype: int64"
            ]
          },
          "metadata": {},
          "execution_count": 190
        }
      ]
    },
    {
      "cell_type": "code",
      "source": [
        "# Create list of top brands\n",
        "# There is a dropoff after the 2nd highest selling brand for this category, but...\n",
        "# We will keep products for more brands in this category so that we do not drop too many products.\n",
        "topAccessoriesBrands = ['Ray-Ban', 'Oakley', 'Carhartt', 'Isotoner', 'TrendsBlue', 'TheTieBar', 'boxed-gifts',\n",
        "                        'Outdoor Research', 'Columbia', 'Kenneth Cole REACTION', 'Luxury Divas', \"Levi's\", 'Kangol',\n",
        "                        'WARMEN', 'Harley-Davidson', 'TUMI', 'Tommy Hilfiger', 'HOBO', 'DG Eyewear']\n"
      ],
      "metadata": {
        "id": "70iOyNLQsPqs"
      },
      "execution_count": null,
      "outputs": []
    },
    {
      "cell_type": "code",
      "source": [
        "# How many products are we left with to cut after excluding all \"Accessories\" products from the top 19 brands?\n",
        "cut = products[products['category'] == 'Accessories']\n",
        "cutting = cut[~cut['brand'].isin(topAccessoriesBrands)]\n",
        "cutting.shape"
      ],
      "metadata": {
        "colab": {
          "base_uri": "https://localhost:8080/"
        },
        "id": "plQFqsMBsPuC",
        "outputId": "94ec1bd0-0e51-468e-ab7c-5c655f5905be"
      },
      "execution_count": null,
      "outputs": [
        {
          "output_type": "execute_result",
          "data": {
            "text/plain": [
              "(1024, 9)"
            ]
          },
          "metadata": {},
          "execution_count": 192
        }
      ]
    },
    {
      "cell_type": "code",
      "source": [
        "# Running tally of the number of products we have cut already\n",
        "ProductsCut = ProductsCut.append(cutting)\n",
        "ProductsCut.shape"
      ],
      "metadata": {
        "colab": {
          "base_uri": "https://localhost:8080/"
        },
        "id": "_fTUWz863FRa",
        "outputId": "5e856ad9-b28f-4347-deef-1d1719482964"
      },
      "execution_count": null,
      "outputs": [
        {
          "output_type": "stream",
          "name": "stderr",
          "text": [
            "<ipython-input-193-def553d076f0>:2: FutureWarning: The frame.append method is deprecated and will be removed from pandas in a future version. Use pandas.concat instead.\n",
            "  ProductsCut = ProductsCut.append(cutting)\n"
          ]
        },
        {
          "output_type": "execute_result",
          "data": {
            "text/plain": [
              "(5831, 9)"
            ]
          },
          "metadata": {},
          "execution_count": 193
        }
      ]
    },
    {
      "cell_type": "markdown",
      "source": [
        "We have officially cut 5,831 products which is 20.024% of our original product total."
      ],
      "metadata": {
        "id": "S8pG1yNFxZLR"
      }
    },
    {
      "cell_type": "code",
      "source": [
        "# Final list of products we have cut\n",
        "NameOfProductsCut = ProductsCut['name']\n",
        "NameOfProductsCut.head()"
      ],
      "metadata": {
        "colab": {
          "base_uri": "https://localhost:8080/"
        },
        "id": "SpZ3Rl9Owtca",
        "outputId": "d89e0705-cabe-4188-fbde-65d28af64018"
      },
      "execution_count": null,
      "outputs": [
        {
          "output_type": "execute_result",
          "data": {
            "text/plain": [
              "id\n",
              "8037    Jostar Short Sleeve Solid Stretchy Capri Pants...\n",
              "8036    Womens Top Stitch Jacket and Pant Set by City ...\n",
              "8035    Ulla Popken Plus Size 3-Piece Duster and Pants...\n",
              "8039        Ulla Popken Plus Size Floral 3-Piece Pant Set\n",
              "8051    Women's Embroidered Career Set by BBW Boutique...\n",
              "Name: name, dtype: object"
            ]
          },
          "metadata": {},
          "execution_count": 194
        }
      ]
    },
    {
      "cell_type": "markdown",
      "source": [
        "# Part 2"
      ],
      "metadata": {
        "id": "60m-R77z5icO"
      }
    },
    {
      "cell_type": "markdown",
      "source": [
        "### User Purchases"
      ],
      "metadata": {
        "id": "ggJs1Vpo8Pca"
      }
    },
    {
      "cell_type": "code",
      "source": [
        "# Pulling info on how many times people ordered a certain number of items\n",
        "sql = '''\n",
        "SELECT \n",
        "  user_id,\n",
        "  count(*) order_count \n",
        "FROM `bigquery-public-data.thelook_ecommerce.orders` \n",
        "where status not in ('Returned','Cancelled')\n",
        "group by 1\n",
        "'''\n",
        "\n",
        "user_order_count = pd.io.gbq.read_gbq(sql,project_id=project_id,\n",
        "                                      index_col='user_id')"
      ],
      "metadata": {
        "id": "c18AgoPb3bM-"
      },
      "execution_count": null,
      "outputs": []
    },
    {
      "cell_type": "code",
      "source": [
        "# Number of users with either 1, 2, 3, or 4 purchases\n",
        "user_order_count.value_counts()"
      ],
      "metadata": {
        "colab": {
          "base_uri": "https://localhost:8080/"
        },
        "id": "GJkXZfsp7rmH",
        "outputId": "dfbcdd0a-12ca-4dc9-e343-106adbaf6195"
      },
      "execution_count": null,
      "outputs": [
        {
          "output_type": "execute_result",
          "data": {
            "text/plain": [
              "order_count\n",
              "1              45948\n",
              "2              14276\n",
              "3               4229\n",
              "4               1549\n",
              "dtype: int64"
            ]
          },
          "metadata": {},
          "execution_count": 196
        }
      ]
    },
    {
      "cell_type": "code",
      "source": [
        "# One hot encoding\n",
        "user_orders = pd.get_dummies(user_order_count['order_count'],prefix='orders')"
      ],
      "metadata": {
        "id": "MUaOJCRs7rom"
      },
      "execution_count": null,
      "outputs": []
    },
    {
      "cell_type": "markdown",
      "source": [
        "### User Product Purchase History"
      ],
      "metadata": {
        "id": "KL9ovsQs8wDS"
      }
    },
    {
      "cell_type": "code",
      "source": [
        "# How many times each user purchased a certain category\n",
        "sql = '''\n",
        "SELECT\n",
        "  user_id,\n",
        "  p.category,\n",
        "  COUNT(*) purchase_count\n",
        "FROM\n",
        "  `bigquery-public-data.thelook_ecommerce.order_items` oi\n",
        "JOIN\n",
        "  `bigquery-public-data.thelook_ecommerce.products` p\n",
        "ON\n",
        "  oi.product_id = p.id\n",
        "WHERE\n",
        "  status NOT IN ('Returned','Cancelled')\n",
        "GROUP BY 1,2\n",
        "'''\n",
        "\n",
        "user_purchase_by_category = pd.io.gbq.read_gbq(sql,project_id=project_id,\n",
        "                                      index_col='user_id')"
      ],
      "metadata": {
        "id": "JdCVP0DE7rq4"
      },
      "execution_count": null,
      "outputs": []
    },
    {
      "cell_type": "code",
      "source": [
        "# Previewing the data\n",
        "user_purchase_by_category.head()"
      ],
      "metadata": {
        "colab": {
          "base_uri": "https://localhost:8080/",
          "height": 237
        },
        "id": "8oi_lOiE7rtH",
        "outputId": "d4370f88-d102-4b9a-ed8f-c630bb75e8e2"
      },
      "execution_count": null,
      "outputs": [
        {
          "output_type": "execute_result",
          "data": {
            "text/plain": [
              "              category  purchase_count\n",
              "user_id                               \n",
              "23751    Clothing Sets               1\n",
              "38858    Clothing Sets               1\n",
              "55032    Clothing Sets               1\n",
              "66986    Clothing Sets               1\n",
              "61487    Clothing Sets               1"
            ],
            "text/html": [
              "\n",
              "  <div id=\"df-f8bf8c80-5d2c-4f0a-b29d-da07346adabe\">\n",
              "    <div class=\"colab-df-container\">\n",
              "      <div>\n",
              "<style scoped>\n",
              "    .dataframe tbody tr th:only-of-type {\n",
              "        vertical-align: middle;\n",
              "    }\n",
              "\n",
              "    .dataframe tbody tr th {\n",
              "        vertical-align: top;\n",
              "    }\n",
              "\n",
              "    .dataframe thead th {\n",
              "        text-align: right;\n",
              "    }\n",
              "</style>\n",
              "<table border=\"1\" class=\"dataframe\">\n",
              "  <thead>\n",
              "    <tr style=\"text-align: right;\">\n",
              "      <th></th>\n",
              "      <th>category</th>\n",
              "      <th>purchase_count</th>\n",
              "    </tr>\n",
              "    <tr>\n",
              "      <th>user_id</th>\n",
              "      <th></th>\n",
              "      <th></th>\n",
              "    </tr>\n",
              "  </thead>\n",
              "  <tbody>\n",
              "    <tr>\n",
              "      <th>23751</th>\n",
              "      <td>Clothing Sets</td>\n",
              "      <td>1</td>\n",
              "    </tr>\n",
              "    <tr>\n",
              "      <th>38858</th>\n",
              "      <td>Clothing Sets</td>\n",
              "      <td>1</td>\n",
              "    </tr>\n",
              "    <tr>\n",
              "      <th>55032</th>\n",
              "      <td>Clothing Sets</td>\n",
              "      <td>1</td>\n",
              "    </tr>\n",
              "    <tr>\n",
              "      <th>66986</th>\n",
              "      <td>Clothing Sets</td>\n",
              "      <td>1</td>\n",
              "    </tr>\n",
              "    <tr>\n",
              "      <th>61487</th>\n",
              "      <td>Clothing Sets</td>\n",
              "      <td>1</td>\n",
              "    </tr>\n",
              "  </tbody>\n",
              "</table>\n",
              "</div>\n",
              "      <button class=\"colab-df-convert\" onclick=\"convertToInteractive('df-f8bf8c80-5d2c-4f0a-b29d-da07346adabe')\"\n",
              "              title=\"Convert this dataframe to an interactive table.\"\n",
              "              style=\"display:none;\">\n",
              "        \n",
              "  <svg xmlns=\"http://www.w3.org/2000/svg\" height=\"24px\"viewBox=\"0 0 24 24\"\n",
              "       width=\"24px\">\n",
              "    <path d=\"M0 0h24v24H0V0z\" fill=\"none\"/>\n",
              "    <path d=\"M18.56 5.44l.94 2.06.94-2.06 2.06-.94-2.06-.94-.94-2.06-.94 2.06-2.06.94zm-11 1L8.5 8.5l.94-2.06 2.06-.94-2.06-.94L8.5 2.5l-.94 2.06-2.06.94zm10 10l.94 2.06.94-2.06 2.06-.94-2.06-.94-.94-2.06-.94 2.06-2.06.94z\"/><path d=\"M17.41 7.96l-1.37-1.37c-.4-.4-.92-.59-1.43-.59-.52 0-1.04.2-1.43.59L10.3 9.45l-7.72 7.72c-.78.78-.78 2.05 0 2.83L4 21.41c.39.39.9.59 1.41.59.51 0 1.02-.2 1.41-.59l7.78-7.78 2.81-2.81c.8-.78.8-2.07 0-2.86zM5.41 20L4 18.59l7.72-7.72 1.47 1.35L5.41 20z\"/>\n",
              "  </svg>\n",
              "      </button>\n",
              "      \n",
              "  <style>\n",
              "    .colab-df-container {\n",
              "      display:flex;\n",
              "      flex-wrap:wrap;\n",
              "      gap: 12px;\n",
              "    }\n",
              "\n",
              "    .colab-df-convert {\n",
              "      background-color: #E8F0FE;\n",
              "      border: none;\n",
              "      border-radius: 50%;\n",
              "      cursor: pointer;\n",
              "      display: none;\n",
              "      fill: #1967D2;\n",
              "      height: 32px;\n",
              "      padding: 0 0 0 0;\n",
              "      width: 32px;\n",
              "    }\n",
              "\n",
              "    .colab-df-convert:hover {\n",
              "      background-color: #E2EBFA;\n",
              "      box-shadow: 0px 1px 2px rgba(60, 64, 67, 0.3), 0px 1px 3px 1px rgba(60, 64, 67, 0.15);\n",
              "      fill: #174EA6;\n",
              "    }\n",
              "\n",
              "    [theme=dark] .colab-df-convert {\n",
              "      background-color: #3B4455;\n",
              "      fill: #D2E3FC;\n",
              "    }\n",
              "\n",
              "    [theme=dark] .colab-df-convert:hover {\n",
              "      background-color: #434B5C;\n",
              "      box-shadow: 0px 1px 3px 1px rgba(0, 0, 0, 0.15);\n",
              "      filter: drop-shadow(0px 1px 2px rgba(0, 0, 0, 0.3));\n",
              "      fill: #FFFFFF;\n",
              "    }\n",
              "  </style>\n",
              "\n",
              "      <script>\n",
              "        const buttonEl =\n",
              "          document.querySelector('#df-f8bf8c80-5d2c-4f0a-b29d-da07346adabe button.colab-df-convert');\n",
              "        buttonEl.style.display =\n",
              "          google.colab.kernel.accessAllowed ? 'block' : 'none';\n",
              "\n",
              "        async function convertToInteractive(key) {\n",
              "          const element = document.querySelector('#df-f8bf8c80-5d2c-4f0a-b29d-da07346adabe');\n",
              "          const dataTable =\n",
              "            await google.colab.kernel.invokeFunction('convertToInteractive',\n",
              "                                                     [key], {});\n",
              "          if (!dataTable) return;\n",
              "\n",
              "          const docLinkHtml = 'Like what you see? Visit the ' +\n",
              "            '<a target=\"_blank\" href=https://colab.research.google.com/notebooks/data_table.ipynb>data table notebook</a>'\n",
              "            + ' to learn more about interactive tables.';\n",
              "          element.innerHTML = '';\n",
              "          dataTable['output_type'] = 'display_data';\n",
              "          await google.colab.output.renderOutput(dataTable, element);\n",
              "          const docLink = document.createElement('div');\n",
              "          docLink.innerHTML = docLinkHtml;\n",
              "          element.appendChild(docLink);\n",
              "        }\n",
              "      </script>\n",
              "    </div>\n",
              "  </div>\n",
              "  "
            ]
          },
          "metadata": {},
          "execution_count": 199
        }
      ]
    },
    {
      "cell_type": "code",
      "source": [
        "# One hot encoding\n",
        "user_categories = pd.get_dummies(user_purchase_by_category['category'],prefix='cat').groupby('user_id').max()"
      ],
      "metadata": {
        "id": "x2nmz8GD7rv8"
      },
      "execution_count": null,
      "outputs": []
    },
    {
      "cell_type": "markdown",
      "source": [
        "### User Demographics"
      ],
      "metadata": {
        "id": "MLQT_1F49_ha"
      }
    },
    {
      "cell_type": "code",
      "source": [
        "# Selecting all user data\n",
        "sql = '''\n",
        "SELECT\n",
        "  *\n",
        "FROM\n",
        "  `bigquery-public-data.thelook_ecommerce.users`\n",
        "'''\n",
        "\n",
        "user_demo = pd.io.gbq.read_gbq(sql,project_id=project_id,\n",
        "                                      index_col='id')"
      ],
      "metadata": {
        "id": "XocX3Jxz7r1V"
      },
      "execution_count": null,
      "outputs": []
    },
    {
      "cell_type": "code",
      "source": [
        "# Previewing the data\n",
        "user_demo.head()"
      ],
      "metadata": {
        "colab": {
          "base_uri": "https://localhost:8080/",
          "height": 388
        },
        "id": "OvnrEcsb7r3f",
        "outputId": "43d5df71-578f-48e8-9094-d45964942f5b"
      },
      "execution_count": null,
      "outputs": [
        {
          "output_type": "execute_result",
          "data": {
            "text/plain": [
              "      first_name last_name                       email  age gender state  \\\n",
              "id                                                                         \n",
              "3192      Regina    Conner    reginaconner@example.com   17      F  Acre   \n",
              "4916       Kevin     Smith      kevinsmith@example.net   29      M  Acre   \n",
              "6455      Laurie      Lara      laurielara@example.net   34      F  Acre   \n",
              "31241      Bobby    Graham     bobbygraham@example.com   13      M  Acre   \n",
              "34270     Rodney  Martinez  rodneymartinez@example.com   33      M  Acre   \n",
              "\n",
              "                   street_address postal_code        city country  latitude  \\\n",
              "id                                                                            \n",
              "3192    0857 Arnold Way Suite 617   69917-400  Rio Branco  Brasil -9.945568   \n",
              "4916             716 Antonio Dale   69917-400  Rio Branco  Brasil -9.945568   \n",
              "6455             7449 Flores Loaf   69917-400  Rio Branco  Brasil -9.945568   \n",
              "31241          8016 Holder Points   69917-400  Rio Branco  Brasil -9.945568   \n",
              "34270  844 Kerry Village Apt. 091   69917-400  Rio Branco  Brasil -9.945568   \n",
              "\n",
              "       longitude traffic_source                created_at  \n",
              "id                                                         \n",
              "3192   -67.83561         Search 2019-11-09 12:09:00+00:00  \n",
              "4916   -67.83561         Search 2022-02-07 02:04:00+00:00  \n",
              "6455   -67.83561        Organic 2020-04-26 05:23:00+00:00  \n",
              "31241  -67.83561         Search 2021-10-30 02:44:00+00:00  \n",
              "34270  -67.83561        Organic 2019-07-06 17:00:00+00:00  "
            ],
            "text/html": [
              "\n",
              "  <div id=\"df-b8b9a25c-d49d-4294-8efc-d0d52f3682c8\">\n",
              "    <div class=\"colab-df-container\">\n",
              "      <div>\n",
              "<style scoped>\n",
              "    .dataframe tbody tr th:only-of-type {\n",
              "        vertical-align: middle;\n",
              "    }\n",
              "\n",
              "    .dataframe tbody tr th {\n",
              "        vertical-align: top;\n",
              "    }\n",
              "\n",
              "    .dataframe thead th {\n",
              "        text-align: right;\n",
              "    }\n",
              "</style>\n",
              "<table border=\"1\" class=\"dataframe\">\n",
              "  <thead>\n",
              "    <tr style=\"text-align: right;\">\n",
              "      <th></th>\n",
              "      <th>first_name</th>\n",
              "      <th>last_name</th>\n",
              "      <th>email</th>\n",
              "      <th>age</th>\n",
              "      <th>gender</th>\n",
              "      <th>state</th>\n",
              "      <th>street_address</th>\n",
              "      <th>postal_code</th>\n",
              "      <th>city</th>\n",
              "      <th>country</th>\n",
              "      <th>latitude</th>\n",
              "      <th>longitude</th>\n",
              "      <th>traffic_source</th>\n",
              "      <th>created_at</th>\n",
              "    </tr>\n",
              "    <tr>\n",
              "      <th>id</th>\n",
              "      <th></th>\n",
              "      <th></th>\n",
              "      <th></th>\n",
              "      <th></th>\n",
              "      <th></th>\n",
              "      <th></th>\n",
              "      <th></th>\n",
              "      <th></th>\n",
              "      <th></th>\n",
              "      <th></th>\n",
              "      <th></th>\n",
              "      <th></th>\n",
              "      <th></th>\n",
              "      <th></th>\n",
              "    </tr>\n",
              "  </thead>\n",
              "  <tbody>\n",
              "    <tr>\n",
              "      <th>3192</th>\n",
              "      <td>Regina</td>\n",
              "      <td>Conner</td>\n",
              "      <td>reginaconner@example.com</td>\n",
              "      <td>17</td>\n",
              "      <td>F</td>\n",
              "      <td>Acre</td>\n",
              "      <td>0857 Arnold Way Suite 617</td>\n",
              "      <td>69917-400</td>\n",
              "      <td>Rio Branco</td>\n",
              "      <td>Brasil</td>\n",
              "      <td>-9.945568</td>\n",
              "      <td>-67.83561</td>\n",
              "      <td>Search</td>\n",
              "      <td>2019-11-09 12:09:00+00:00</td>\n",
              "    </tr>\n",
              "    <tr>\n",
              "      <th>4916</th>\n",
              "      <td>Kevin</td>\n",
              "      <td>Smith</td>\n",
              "      <td>kevinsmith@example.net</td>\n",
              "      <td>29</td>\n",
              "      <td>M</td>\n",
              "      <td>Acre</td>\n",
              "      <td>716 Antonio Dale</td>\n",
              "      <td>69917-400</td>\n",
              "      <td>Rio Branco</td>\n",
              "      <td>Brasil</td>\n",
              "      <td>-9.945568</td>\n",
              "      <td>-67.83561</td>\n",
              "      <td>Search</td>\n",
              "      <td>2022-02-07 02:04:00+00:00</td>\n",
              "    </tr>\n",
              "    <tr>\n",
              "      <th>6455</th>\n",
              "      <td>Laurie</td>\n",
              "      <td>Lara</td>\n",
              "      <td>laurielara@example.net</td>\n",
              "      <td>34</td>\n",
              "      <td>F</td>\n",
              "      <td>Acre</td>\n",
              "      <td>7449 Flores Loaf</td>\n",
              "      <td>69917-400</td>\n",
              "      <td>Rio Branco</td>\n",
              "      <td>Brasil</td>\n",
              "      <td>-9.945568</td>\n",
              "      <td>-67.83561</td>\n",
              "      <td>Organic</td>\n",
              "      <td>2020-04-26 05:23:00+00:00</td>\n",
              "    </tr>\n",
              "    <tr>\n",
              "      <th>31241</th>\n",
              "      <td>Bobby</td>\n",
              "      <td>Graham</td>\n",
              "      <td>bobbygraham@example.com</td>\n",
              "      <td>13</td>\n",
              "      <td>M</td>\n",
              "      <td>Acre</td>\n",
              "      <td>8016 Holder Points</td>\n",
              "      <td>69917-400</td>\n",
              "      <td>Rio Branco</td>\n",
              "      <td>Brasil</td>\n",
              "      <td>-9.945568</td>\n",
              "      <td>-67.83561</td>\n",
              "      <td>Search</td>\n",
              "      <td>2021-10-30 02:44:00+00:00</td>\n",
              "    </tr>\n",
              "    <tr>\n",
              "      <th>34270</th>\n",
              "      <td>Rodney</td>\n",
              "      <td>Martinez</td>\n",
              "      <td>rodneymartinez@example.com</td>\n",
              "      <td>33</td>\n",
              "      <td>M</td>\n",
              "      <td>Acre</td>\n",
              "      <td>844 Kerry Village Apt. 091</td>\n",
              "      <td>69917-400</td>\n",
              "      <td>Rio Branco</td>\n",
              "      <td>Brasil</td>\n",
              "      <td>-9.945568</td>\n",
              "      <td>-67.83561</td>\n",
              "      <td>Organic</td>\n",
              "      <td>2019-07-06 17:00:00+00:00</td>\n",
              "    </tr>\n",
              "  </tbody>\n",
              "</table>\n",
              "</div>\n",
              "      <button class=\"colab-df-convert\" onclick=\"convertToInteractive('df-b8b9a25c-d49d-4294-8efc-d0d52f3682c8')\"\n",
              "              title=\"Convert this dataframe to an interactive table.\"\n",
              "              style=\"display:none;\">\n",
              "        \n",
              "  <svg xmlns=\"http://www.w3.org/2000/svg\" height=\"24px\"viewBox=\"0 0 24 24\"\n",
              "       width=\"24px\">\n",
              "    <path d=\"M0 0h24v24H0V0z\" fill=\"none\"/>\n",
              "    <path d=\"M18.56 5.44l.94 2.06.94-2.06 2.06-.94-2.06-.94-.94-2.06-.94 2.06-2.06.94zm-11 1L8.5 8.5l.94-2.06 2.06-.94-2.06-.94L8.5 2.5l-.94 2.06-2.06.94zm10 10l.94 2.06.94-2.06 2.06-.94-2.06-.94-.94-2.06-.94 2.06-2.06.94z\"/><path d=\"M17.41 7.96l-1.37-1.37c-.4-.4-.92-.59-1.43-.59-.52 0-1.04.2-1.43.59L10.3 9.45l-7.72 7.72c-.78.78-.78 2.05 0 2.83L4 21.41c.39.39.9.59 1.41.59.51 0 1.02-.2 1.41-.59l7.78-7.78 2.81-2.81c.8-.78.8-2.07 0-2.86zM5.41 20L4 18.59l7.72-7.72 1.47 1.35L5.41 20z\"/>\n",
              "  </svg>\n",
              "      </button>\n",
              "      \n",
              "  <style>\n",
              "    .colab-df-container {\n",
              "      display:flex;\n",
              "      flex-wrap:wrap;\n",
              "      gap: 12px;\n",
              "    }\n",
              "\n",
              "    .colab-df-convert {\n",
              "      background-color: #E8F0FE;\n",
              "      border: none;\n",
              "      border-radius: 50%;\n",
              "      cursor: pointer;\n",
              "      display: none;\n",
              "      fill: #1967D2;\n",
              "      height: 32px;\n",
              "      padding: 0 0 0 0;\n",
              "      width: 32px;\n",
              "    }\n",
              "\n",
              "    .colab-df-convert:hover {\n",
              "      background-color: #E2EBFA;\n",
              "      box-shadow: 0px 1px 2px rgba(60, 64, 67, 0.3), 0px 1px 3px 1px rgba(60, 64, 67, 0.15);\n",
              "      fill: #174EA6;\n",
              "    }\n",
              "\n",
              "    [theme=dark] .colab-df-convert {\n",
              "      background-color: #3B4455;\n",
              "      fill: #D2E3FC;\n",
              "    }\n",
              "\n",
              "    [theme=dark] .colab-df-convert:hover {\n",
              "      background-color: #434B5C;\n",
              "      box-shadow: 0px 1px 3px 1px rgba(0, 0, 0, 0.15);\n",
              "      filter: drop-shadow(0px 1px 2px rgba(0, 0, 0, 0.3));\n",
              "      fill: #FFFFFF;\n",
              "    }\n",
              "  </style>\n",
              "\n",
              "      <script>\n",
              "        const buttonEl =\n",
              "          document.querySelector('#df-b8b9a25c-d49d-4294-8efc-d0d52f3682c8 button.colab-df-convert');\n",
              "        buttonEl.style.display =\n",
              "          google.colab.kernel.accessAllowed ? 'block' : 'none';\n",
              "\n",
              "        async function convertToInteractive(key) {\n",
              "          const element = document.querySelector('#df-b8b9a25c-d49d-4294-8efc-d0d52f3682c8');\n",
              "          const dataTable =\n",
              "            await google.colab.kernel.invokeFunction('convertToInteractive',\n",
              "                                                     [key], {});\n",
              "          if (!dataTable) return;\n",
              "\n",
              "          const docLinkHtml = 'Like what you see? Visit the ' +\n",
              "            '<a target=\"_blank\" href=https://colab.research.google.com/notebooks/data_table.ipynb>data table notebook</a>'\n",
              "            + ' to learn more about interactive tables.';\n",
              "          element.innerHTML = '';\n",
              "          dataTable['output_type'] = 'display_data';\n",
              "          await google.colab.output.renderOutput(dataTable, element);\n",
              "          const docLink = document.createElement('div');\n",
              "          docLink.innerHTML = docLinkHtml;\n",
              "          element.appendChild(docLink);\n",
              "        }\n",
              "      </script>\n",
              "    </div>\n",
              "  </div>\n",
              "  "
            ]
          },
          "metadata": {},
          "execution_count": 202
        }
      ]
    },
    {
      "cell_type": "code",
      "source": [
        "# One hot encoding\n",
        "user_country = pd.get_dummies(user_demo['country'],prefix='country')"
      ],
      "metadata": {
        "id": "-VYtdOOt7r51"
      },
      "execution_count": null,
      "outputs": []
    },
    {
      "cell_type": "code",
      "source": [
        "# One hot encoding\n",
        "user_gender = pd.get_dummies(user_demo['gender'],prefix='sex')"
      ],
      "metadata": {
        "id": "JMh0Jgie7r8P"
      },
      "execution_count": null,
      "outputs": []
    },
    {
      "cell_type": "code",
      "source": [
        "# One hot encoding\n",
        "user_age = pd.get_dummies(pd.qcut(user_demo['age'], q = 5, labels = range(5)),prefix='age')"
      ],
      "metadata": {
        "id": "rRmWzPJn7r-w"
      },
      "execution_count": null,
      "outputs": []
    },
    {
      "cell_type": "code",
      "source": [
        "# One hot encoding\n",
        "user_traffic = pd.get_dummies(user_demo['traffic_source'],prefix='traffic')"
      ],
      "metadata": {
        "id": "o1aHiMaZ7sBV"
      },
      "execution_count": null,
      "outputs": []
    },
    {
      "cell_type": "markdown",
      "source": [
        "### Web Traffic"
      ],
      "metadata": {
        "id": "R8g7Rl1d-NnK"
      }
    },
    {
      "cell_type": "code",
      "source": [
        "# Get a count of each event and total number of events per user\n",
        "sql = '''\n",
        "SELECT\n",
        "  user_id,\n",
        "  SUM(CASE WHEN event_type = 'purchase' THEN 1 ELSE 0 END) num_purchase,\n",
        "  SUM(CASE WHEN event_type = 'cart' THEN 1 ELSE 0 END) num_cart,\n",
        "  SUM(CASE WHEN event_type = 'product' THEN 1 ELSE 0 END) num_product,\n",
        "  COUNT(*) all_events\n",
        "FROM\n",
        "  `bigquery-public-data.thelook_ecommerce.events`\n",
        "WHERE\n",
        "  user_id IS NOT NULL\n",
        "GROUP BY\n",
        "  1\n",
        "'''\n",
        "\n",
        "user_web = pd.io.gbq.read_gbq(sql,project_id=project_id,\n",
        "                                      index_col='user_id')"
      ],
      "metadata": {
        "id": "p_Tuuogs7sDr"
      },
      "execution_count": null,
      "outputs": []
    },
    {
      "cell_type": "code",
      "source": [
        "# Previewing the data\n",
        "user_web.head()"
      ],
      "metadata": {
        "colab": {
          "base_uri": "https://localhost:8080/",
          "height": 237
        },
        "id": "0QTDx5kT7sHV",
        "outputId": "2a56e980-b67a-4669-be92-4cb050ba1289"
      },
      "execution_count": null,
      "outputs": [
        {
          "output_type": "execute_result",
          "data": {
            "text/plain": [
              "         num_purchase  num_cart  num_product  all_events\n",
              "user_id                                                 \n",
              "14657               7        15           15          54\n",
              "81207               7        13           13          47\n",
              "57384               7        21           21          71\n",
              "53715               7        19           19          67\n",
              "5823                9        25           25          85"
            ],
            "text/html": [
              "\n",
              "  <div id=\"df-1b3ed264-7709-4f66-9215-9f27bc871df3\">\n",
              "    <div class=\"colab-df-container\">\n",
              "      <div>\n",
              "<style scoped>\n",
              "    .dataframe tbody tr th:only-of-type {\n",
              "        vertical-align: middle;\n",
              "    }\n",
              "\n",
              "    .dataframe tbody tr th {\n",
              "        vertical-align: top;\n",
              "    }\n",
              "\n",
              "    .dataframe thead th {\n",
              "        text-align: right;\n",
              "    }\n",
              "</style>\n",
              "<table border=\"1\" class=\"dataframe\">\n",
              "  <thead>\n",
              "    <tr style=\"text-align: right;\">\n",
              "      <th></th>\n",
              "      <th>num_purchase</th>\n",
              "      <th>num_cart</th>\n",
              "      <th>num_product</th>\n",
              "      <th>all_events</th>\n",
              "    </tr>\n",
              "    <tr>\n",
              "      <th>user_id</th>\n",
              "      <th></th>\n",
              "      <th></th>\n",
              "      <th></th>\n",
              "      <th></th>\n",
              "    </tr>\n",
              "  </thead>\n",
              "  <tbody>\n",
              "    <tr>\n",
              "      <th>14657</th>\n",
              "      <td>7</td>\n",
              "      <td>15</td>\n",
              "      <td>15</td>\n",
              "      <td>54</td>\n",
              "    </tr>\n",
              "    <tr>\n",
              "      <th>81207</th>\n",
              "      <td>7</td>\n",
              "      <td>13</td>\n",
              "      <td>13</td>\n",
              "      <td>47</td>\n",
              "    </tr>\n",
              "    <tr>\n",
              "      <th>57384</th>\n",
              "      <td>7</td>\n",
              "      <td>21</td>\n",
              "      <td>21</td>\n",
              "      <td>71</td>\n",
              "    </tr>\n",
              "    <tr>\n",
              "      <th>53715</th>\n",
              "      <td>7</td>\n",
              "      <td>19</td>\n",
              "      <td>19</td>\n",
              "      <td>67</td>\n",
              "    </tr>\n",
              "    <tr>\n",
              "      <th>5823</th>\n",
              "      <td>9</td>\n",
              "      <td>25</td>\n",
              "      <td>25</td>\n",
              "      <td>85</td>\n",
              "    </tr>\n",
              "  </tbody>\n",
              "</table>\n",
              "</div>\n",
              "      <button class=\"colab-df-convert\" onclick=\"convertToInteractive('df-1b3ed264-7709-4f66-9215-9f27bc871df3')\"\n",
              "              title=\"Convert this dataframe to an interactive table.\"\n",
              "              style=\"display:none;\">\n",
              "        \n",
              "  <svg xmlns=\"http://www.w3.org/2000/svg\" height=\"24px\"viewBox=\"0 0 24 24\"\n",
              "       width=\"24px\">\n",
              "    <path d=\"M0 0h24v24H0V0z\" fill=\"none\"/>\n",
              "    <path d=\"M18.56 5.44l.94 2.06.94-2.06 2.06-.94-2.06-.94-.94-2.06-.94 2.06-2.06.94zm-11 1L8.5 8.5l.94-2.06 2.06-.94-2.06-.94L8.5 2.5l-.94 2.06-2.06.94zm10 10l.94 2.06.94-2.06 2.06-.94-2.06-.94-.94-2.06-.94 2.06-2.06.94z\"/><path d=\"M17.41 7.96l-1.37-1.37c-.4-.4-.92-.59-1.43-.59-.52 0-1.04.2-1.43.59L10.3 9.45l-7.72 7.72c-.78.78-.78 2.05 0 2.83L4 21.41c.39.39.9.59 1.41.59.51 0 1.02-.2 1.41-.59l7.78-7.78 2.81-2.81c.8-.78.8-2.07 0-2.86zM5.41 20L4 18.59l7.72-7.72 1.47 1.35L5.41 20z\"/>\n",
              "  </svg>\n",
              "      </button>\n",
              "      \n",
              "  <style>\n",
              "    .colab-df-container {\n",
              "      display:flex;\n",
              "      flex-wrap:wrap;\n",
              "      gap: 12px;\n",
              "    }\n",
              "\n",
              "    .colab-df-convert {\n",
              "      background-color: #E8F0FE;\n",
              "      border: none;\n",
              "      border-radius: 50%;\n",
              "      cursor: pointer;\n",
              "      display: none;\n",
              "      fill: #1967D2;\n",
              "      height: 32px;\n",
              "      padding: 0 0 0 0;\n",
              "      width: 32px;\n",
              "    }\n",
              "\n",
              "    .colab-df-convert:hover {\n",
              "      background-color: #E2EBFA;\n",
              "      box-shadow: 0px 1px 2px rgba(60, 64, 67, 0.3), 0px 1px 3px 1px rgba(60, 64, 67, 0.15);\n",
              "      fill: #174EA6;\n",
              "    }\n",
              "\n",
              "    [theme=dark] .colab-df-convert {\n",
              "      background-color: #3B4455;\n",
              "      fill: #D2E3FC;\n",
              "    }\n",
              "\n",
              "    [theme=dark] .colab-df-convert:hover {\n",
              "      background-color: #434B5C;\n",
              "      box-shadow: 0px 1px 3px 1px rgba(0, 0, 0, 0.15);\n",
              "      filter: drop-shadow(0px 1px 2px rgba(0, 0, 0, 0.3));\n",
              "      fill: #FFFFFF;\n",
              "    }\n",
              "  </style>\n",
              "\n",
              "      <script>\n",
              "        const buttonEl =\n",
              "          document.querySelector('#df-1b3ed264-7709-4f66-9215-9f27bc871df3 button.colab-df-convert');\n",
              "        buttonEl.style.display =\n",
              "          google.colab.kernel.accessAllowed ? 'block' : 'none';\n",
              "\n",
              "        async function convertToInteractive(key) {\n",
              "          const element = document.querySelector('#df-1b3ed264-7709-4f66-9215-9f27bc871df3');\n",
              "          const dataTable =\n",
              "            await google.colab.kernel.invokeFunction('convertToInteractive',\n",
              "                                                     [key], {});\n",
              "          if (!dataTable) return;\n",
              "\n",
              "          const docLinkHtml = 'Like what you see? Visit the ' +\n",
              "            '<a target=\"_blank\" href=https://colab.research.google.com/notebooks/data_table.ipynb>data table notebook</a>'\n",
              "            + ' to learn more about interactive tables.';\n",
              "          element.innerHTML = '';\n",
              "          dataTable['output_type'] = 'display_data';\n",
              "          await google.colab.output.renderOutput(dataTable, element);\n",
              "          const docLink = document.createElement('div');\n",
              "          docLink.innerHTML = docLinkHtml;\n",
              "          element.appendChild(docLink);\n",
              "        }\n",
              "      </script>\n",
              "    </div>\n",
              "  </div>\n",
              "  "
            ]
          },
          "metadata": {},
          "execution_count": 208
        }
      ]
    },
    {
      "cell_type": "code",
      "source": [
        "# Get a count of how many events per purchase\n",
        "user_web['event_per_purchase'] = round(user_web['all_events']/user_web['num_purchase'])\n",
        "user_web['event_per_purchase'].value_counts().sort_index()"
      ],
      "metadata": {
        "colab": {
          "base_uri": "https://localhost:8080/"
        },
        "id": "r_lAMbqB-U9f",
        "outputId": "d1976bff-56b2-4b10-c062-ac2b23c3a4f5"
      },
      "execution_count": null,
      "outputs": [
        {
          "output_type": "execute_result",
          "data": {
            "text/plain": [
              "5.0     47672\n",
              "6.0      8939\n",
              "7.0     11400\n",
              "8.0      1332\n",
              "9.0      1952\n",
              "10.0     3837\n",
              "11.0     1940\n",
              "12.0      132\n",
              "13.0     2577\n",
              "Name: event_per_purchase, dtype: Int64"
            ]
          },
          "metadata": {},
          "execution_count": 209
        }
      ]
    },
    {
      "cell_type": "code",
      "source": [
        "# One hot encoding\n",
        "user_events_per_purchase = pd.get_dummies(pd.qcut(user_web['event_per_purchase'],q=4,labels=range(2),duplicates='drop'),prefix='events_per_purchase')"
      ],
      "metadata": {
        "id": "CX6lkag4-XT6"
      },
      "execution_count": null,
      "outputs": []
    },
    {
      "cell_type": "code",
      "source": [
        "# Get a count of average cart sizes\n",
        "user_web['avg_cart_size'] = round(user_web['num_cart']/user_web['num_purchase'])\n",
        "user_web['avg_cart_size'].value_counts()"
      ],
      "metadata": {
        "colab": {
          "base_uri": "https://localhost:8080/"
        },
        "id": "HuJgxozm-aCl",
        "outputId": "136a33bb-8d04-45f6-b1dd-961b6730d3ed"
      },
      "execution_count": null,
      "outputs": [
        {
          "output_type": "execute_result",
          "data": {
            "text/plain": [
              "1.0    49007\n",
              "2.0    21692\n",
              "3.0     6373\n",
              "4.0     2709\n",
              "Name: avg_cart_size, dtype: Int64"
            ]
          },
          "metadata": {},
          "execution_count": 211
        }
      ]
    },
    {
      "cell_type": "code",
      "source": [
        "# One hot encoding\n",
        "user_avg_cart_size = pd.get_dummies((user_web['avg_cart_size']),prefix = 'avg_cart_size')"
      ],
      "metadata": {
        "id": "uShHxNiX-eop"
      },
      "execution_count": null,
      "outputs": []
    },
    {
      "cell_type": "markdown",
      "source": [
        "### Combine Data"
      ],
      "metadata": {
        "id": "wLGz8f_S-kEa"
      }
    },
    {
      "cell_type": "code",
      "source": [
        "# Creating a list of dataframes\n",
        "dfs = [user_orders,\n",
        "       user_categories,\n",
        "       user_country,\n",
        "       user_gender,\n",
        "       user_age,\n",
        "       user_traffic,\n",
        "       user_events_per_purchase,\n",
        "       user_avg_cart_size]\n",
        "for df in dfs:\n",
        "  print(df.shape)"
      ],
      "metadata": {
        "colab": {
          "base_uri": "https://localhost:8080/"
        },
        "id": "nepGHLUx-fOA",
        "outputId": "b90ef180-aa02-4e6a-b28b-e6288659c5d1"
      },
      "execution_count": null,
      "outputs": [
        {
          "output_type": "stream",
          "name": "stdout",
          "text": [
            "(66002, 4)\n",
            "(66002, 26)\n",
            "(100000, 15)\n",
            "(100000, 2)\n",
            "(100000, 5)\n",
            "(100000, 5)\n",
            "(79781, 2)\n",
            "(79781, 4)\n"
          ]
        }
      ]
    },
    {
      "cell_type": "code",
      "source": [
        "# Joining all data\n",
        "user_all = user_country.join(user_categories,how='left').\\\n",
        "join(user_orders,how='left').\\\n",
        "join(user_gender).join(user_age).join(user_traffic).\\\n",
        "join(user_events_per_purchase,how='left').\\\n",
        "join(user_avg_cart_size,how='left')"
      ],
      "metadata": {
        "id": "5v1RWYcH-mS7"
      },
      "execution_count": null,
      "outputs": []
    },
    {
      "cell_type": "code",
      "source": [
        "# shape of new dataframe\n",
        "user_all.shape"
      ],
      "metadata": {
        "colab": {
          "base_uri": "https://localhost:8080/"
        },
        "id": "1ppZC9yi-o9S",
        "outputId": "e7f3c826-960a-4cce-d65d-c2d995c56cbe"
      },
      "execution_count": null,
      "outputs": [
        {
          "output_type": "execute_result",
          "data": {
            "text/plain": [
              "(100000, 63)"
            ]
          },
          "metadata": {},
          "execution_count": 215
        }
      ]
    },
    {
      "cell_type": "code",
      "source": [
        "# means of new dataframe\n",
        "user_all.mean().head()"
      ],
      "metadata": {
        "colab": {
          "base_uri": "https://localhost:8080/"
        },
        "id": "A7R8M8Xx-rGR",
        "outputId": "6273d3f5-51c1-4d19-d03f-991cc700a874"
      },
      "execution_count": null,
      "outputs": [
        {
          "output_type": "execute_result",
          "data": {
            "text/plain": [
              "country_Australia    0.02210\n",
              "country_Austria      0.00001\n",
              "country_Belgium      0.01248\n",
              "country_Brasil       0.14608\n",
              "country_China        0.33830\n",
              "dtype: float64"
            ]
          },
          "metadata": {},
          "execution_count": 216
        }
      ]
    },
    {
      "cell_type": "code",
      "source": [
        "# Removing NAs\n",
        "user_all.dropna(inplace=True)"
      ],
      "metadata": {
        "id": "Ys73ja8B-tFj"
      },
      "execution_count": null,
      "outputs": []
    },
    {
      "cell_type": "code",
      "source": [
        "# New dataframe's shape\n",
        "user_all.shape"
      ],
      "metadata": {
        "colab": {
          "base_uri": "https://localhost:8080/"
        },
        "id": "5yKf-BN7-v3K",
        "outputId": "c1a59284-088a-471f-e6d3-6724e2f3d604"
      },
      "execution_count": null,
      "outputs": [
        {
          "output_type": "execute_result",
          "data": {
            "text/plain": [
              "(66002, 63)"
            ]
          },
          "metadata": {},
          "execution_count": 218
        }
      ]
    },
    {
      "cell_type": "markdown",
      "source": [
        "### Determine Optimal Number of Clusters"
      ],
      "metadata": {
        "id": "eNKvJV4lHlDF"
      }
    },
    {
      "cell_type": "code",
      "source": [
        "# Lets find the optimal number of clusters\n",
        "from sklearn.cluster import KMeans\n",
        "import matplotlib.pyplot as plt\n",
        "\n",
        "sse = {}\n",
        "for k in range(1, 10):\n",
        "    kmeans = KMeans(n_clusters=k, max_iter=1000).fit(user_all)\n",
        "    sse[k] = kmeans.inertia_\n",
        "plt.figure()\n",
        "plt.plot(list(sse.keys()), list(sse.values()))\n",
        "plt.xlabel(\"Number of cluster\")\n",
        "plt.ylabel(\"SSE\")\n",
        "plt.show()"
      ],
      "metadata": {
        "colab": {
          "base_uri": "https://localhost:8080/",
          "height": 781
        },
        "id": "ZaewPbzz-33R",
        "outputId": "fd13c8fc-4957-40b3-c2bc-e17e560c9e1d"
      },
      "execution_count": null,
      "outputs": [
        {
          "output_type": "stream",
          "name": "stderr",
          "text": [
            "/usr/local/lib/python3.9/dist-packages/sklearn/cluster/_kmeans.py:870: FutureWarning: The default value of `n_init` will change from 10 to 'auto' in 1.4. Set the value of `n_init` explicitly to suppress the warning\n",
            "  warnings.warn(\n",
            "/usr/local/lib/python3.9/dist-packages/sklearn/cluster/_kmeans.py:870: FutureWarning: The default value of `n_init` will change from 10 to 'auto' in 1.4. Set the value of `n_init` explicitly to suppress the warning\n",
            "  warnings.warn(\n",
            "/usr/local/lib/python3.9/dist-packages/sklearn/cluster/_kmeans.py:870: FutureWarning: The default value of `n_init` will change from 10 to 'auto' in 1.4. Set the value of `n_init` explicitly to suppress the warning\n",
            "  warnings.warn(\n",
            "/usr/local/lib/python3.9/dist-packages/sklearn/cluster/_kmeans.py:870: FutureWarning: The default value of `n_init` will change from 10 to 'auto' in 1.4. Set the value of `n_init` explicitly to suppress the warning\n",
            "  warnings.warn(\n",
            "/usr/local/lib/python3.9/dist-packages/sklearn/cluster/_kmeans.py:870: FutureWarning: The default value of `n_init` will change from 10 to 'auto' in 1.4. Set the value of `n_init` explicitly to suppress the warning\n",
            "  warnings.warn(\n",
            "/usr/local/lib/python3.9/dist-packages/sklearn/cluster/_kmeans.py:870: FutureWarning: The default value of `n_init` will change from 10 to 'auto' in 1.4. Set the value of `n_init` explicitly to suppress the warning\n",
            "  warnings.warn(\n",
            "/usr/local/lib/python3.9/dist-packages/sklearn/cluster/_kmeans.py:870: FutureWarning: The default value of `n_init` will change from 10 to 'auto' in 1.4. Set the value of `n_init` explicitly to suppress the warning\n",
            "  warnings.warn(\n",
            "/usr/local/lib/python3.9/dist-packages/sklearn/cluster/_kmeans.py:870: FutureWarning: The default value of `n_init` will change from 10 to 'auto' in 1.4. Set the value of `n_init` explicitly to suppress the warning\n",
            "  warnings.warn(\n",
            "/usr/local/lib/python3.9/dist-packages/sklearn/cluster/_kmeans.py:870: FutureWarning: The default value of `n_init` will change from 10 to 'auto' in 1.4. Set the value of `n_init` explicitly to suppress the warning\n",
            "  warnings.warn(\n"
          ]
        },
        {
          "output_type": "display_data",
          "data": {
            "text/plain": [
              "<Figure size 640x480 with 1 Axes>"
            ],
            "image/png": "[encoded data removed]"
          },
          "metadata": {}
        }
      ]
    },
    {
      "cell_type": "code",
      "source": [
        "# The breaking point seems to be either 3 or 5. Lets go with 3.\n",
        "kmeans = KMeans(n_clusters=3, max_iter=1000).fit(user_all)\n",
        "user_all[\"clusters\"] = kmeans.labels_"
      ],
      "metadata": {
        "colab": {
          "base_uri": "https://localhost:8080/"
        },
        "id": "eOWRDLBx-4Yr",
        "outputId": "2475cb2a-ed77-4926-edca-8c033dcee1b1"
      },
      "execution_count": null,
      "outputs": [
        {
          "output_type": "stream",
          "name": "stderr",
          "text": [
            "/usr/local/lib/python3.9/dist-packages/sklearn/cluster/_kmeans.py:870: FutureWarning: The default value of `n_init` will change from 10 to 'auto' in 1.4. Set the value of `n_init` explicitly to suppress the warning\n",
            "  warnings.warn(\n"
          ]
        }
      ]
    },
    {
      "cell_type": "markdown",
      "source": [
        "### Examine Cluster Characteristics"
      ],
      "metadata": {
        "id": "4SLluLaQ--b4"
      }
    },
    {
      "cell_type": "code",
      "source": [
        "# Means for each cluster\n",
        "cluster_means = user_all.groupby('clusters').mean()"
      ],
      "metadata": {
        "id": "A3uPWCW1-7q7"
      },
      "execution_count": null,
      "outputs": []
    },
    {
      "cell_type": "code",
      "source": [
        "# Display means\n",
        "cluster_means"
      ],
      "metadata": {
        "colab": {
          "base_uri": "https://localhost:8080/",
          "height": 268
        },
        "id": "NWAkXt-6_DjY",
        "outputId": "4e82756e-7919-43df-a9bf-8ed8fa179243"
      },
      "execution_count": null,
      "outputs": [
        {
          "output_type": "execute_result",
          "data": {
            "text/plain": [
              "          country_Australia  country_Austria  country_Belgium  country_Brasil  \\\n",
              "clusters                                                                        \n",
              "0                  0.021192          0.00000         0.013198        0.146078   \n",
              "1                  0.022786          0.00000         0.013208        0.148208   \n",
              "2                  0.022215          0.00003         0.012673        0.145996   \n",
              "\n",
              "          country_China  country_Colombia  country_España  country_France  \\\n",
              "clusters                                                                    \n",
              "0              0.345324          0.000075         0.00000        0.045551   \n",
              "1              0.337148          0.000101         0.00005        0.049151   \n",
              "2              0.340070          0.000304         0.00003        0.047500   \n",
              "\n",
              "          country_Germany  country_Japan  ...  traffic_Email  \\\n",
              "clusters                                  ...                  \n",
              "0                0.042685       0.024811  ...       0.050830   \n",
              "1                0.040833       0.026214  ...       0.047941   \n",
              "2                0.041787       0.023431  ...       0.047956   \n",
              "\n",
              "          traffic_Facebook  traffic_Organic  traffic_Search  \\\n",
              "clusters                                                      \n",
              "0                 0.060558         0.152413        0.697738   \n",
              "1                 0.062056         0.150174        0.698291   \n",
              "2                 0.061875         0.151922        0.696308   \n",
              "\n",
              "          events_per_purchase_0  events_per_purchase_1  avg_cart_size_1.0  \\\n",
              "clusters                                                                    \n",
              "0                      0.610106               0.389894           0.000000   \n",
              "1                      1.000000               0.000000           1.000000   \n",
              "2                      0.846102               0.153898           0.601124   \n",
              "\n",
              "          avg_cart_size_2.0  avg_cart_size_3.0  avg_cart_size_4.0  \n",
              "clusters                                                           \n",
              "0                  0.711840           0.212066           0.076094  \n",
              "1                  0.000000           0.000000           0.000000  \n",
              "2                  0.283209           0.084972           0.030694  \n",
              "\n",
              "[3 rows x 63 columns]"
            ],
            "text/html": [
              "\n",
              "  <div id=\"df-3f3bce86-f418-41fa-818a-c2a03f360ec9\">\n",
              "    <div class=\"colab-df-container\">\n",
              "      <div>\n",
              "<style scoped>\n",
              "    .dataframe tbody tr th:only-of-type {\n",
              "        vertical-align: middle;\n",
              "    }\n",
              "\n",
              "    .dataframe tbody tr th {\n",
              "        vertical-align: top;\n",
              "    }\n",
              "\n",
              "    .dataframe thead th {\n",
              "        text-align: right;\n",
              "    }\n",
              "</style>\n",
              "<table border=\"1\" class=\"dataframe\">\n",
              "  <thead>\n",
              "    <tr style=\"text-align: right;\">\n",
              "      <th></th>\n",
              "      <th>country_Australia</th>\n",
              "      <th>country_Austria</th>\n",
              "      <th>country_Belgium</th>\n",
              "      <th>country_Brasil</th>\n",
              "      <th>country_China</th>\n",
              "      <th>country_Colombia</th>\n",
              "      <th>country_España</th>\n",
              "      <th>country_France</th>\n",
              "      <th>country_Germany</th>\n",
              "      <th>country_Japan</th>\n",
              "      <th>...</th>\n",
              "      <th>traffic_Email</th>\n",
              "      <th>traffic_Facebook</th>\n",
              "      <th>traffic_Organic</th>\n",
              "      <th>traffic_Search</th>\n",
              "      <th>events_per_purchase_0</th>\n",
              "      <th>events_per_purchase_1</th>\n",
              "      <th>avg_cart_size_1.0</th>\n",
              "      <th>avg_cart_size_2.0</th>\n",
              "      <th>avg_cart_size_3.0</th>\n",
              "      <th>avg_cart_size_4.0</th>\n",
              "    </tr>\n",
              "    <tr>\n",
              "      <th>clusters</th>\n",
              "      <th></th>\n",
              "      <th></th>\n",
              "      <th></th>\n",
              "      <th></th>\n",
              "      <th></th>\n",
              "      <th></th>\n",
              "      <th></th>\n",
              "      <th></th>\n",
              "      <th></th>\n",
              "      <th></th>\n",
              "      <th></th>\n",
              "      <th></th>\n",
              "      <th></th>\n",
              "      <th></th>\n",
              "      <th></th>\n",
              "      <th></th>\n",
              "      <th></th>\n",
              "      <th></th>\n",
              "      <th></th>\n",
              "      <th></th>\n",
              "      <th></th>\n",
              "    </tr>\n",
              "  </thead>\n",
              "  <tbody>\n",
              "    <tr>\n",
              "      <th>0</th>\n",
              "      <td>0.021192</td>\n",
              "      <td>0.00000</td>\n",
              "      <td>0.013198</td>\n",
              "      <td>0.146078</td>\n",
              "      <td>0.345324</td>\n",
              "      <td>0.000075</td>\n",
              "      <td>0.00000</td>\n",
              "      <td>0.045551</td>\n",
              "      <td>0.042685</td>\n",
              "      <td>0.024811</td>\n",
              "      <td>...</td>\n",
              "      <td>0.050830</td>\n",
              "      <td>0.060558</td>\n",
              "      <td>0.152413</td>\n",
              "      <td>0.697738</td>\n",
              "      <td>0.610106</td>\n",
              "      <td>0.389894</td>\n",
              "      <td>0.000000</td>\n",
              "      <td>0.711840</td>\n",
              "      <td>0.212066</td>\n",
              "      <td>0.076094</td>\n",
              "    </tr>\n",
              "    <tr>\n",
              "      <th>1</th>\n",
              "      <td>0.022786</td>\n",
              "      <td>0.00000</td>\n",
              "      <td>0.013208</td>\n",
              "      <td>0.148208</td>\n",
              "      <td>0.337148</td>\n",
              "      <td>0.000101</td>\n",
              "      <td>0.00005</td>\n",
              "      <td>0.049151</td>\n",
              "      <td>0.040833</td>\n",
              "      <td>0.026214</td>\n",
              "      <td>...</td>\n",
              "      <td>0.047941</td>\n",
              "      <td>0.062056</td>\n",
              "      <td>0.150174</td>\n",
              "      <td>0.698291</td>\n",
              "      <td>1.000000</td>\n",
              "      <td>0.000000</td>\n",
              "      <td>1.000000</td>\n",
              "      <td>0.000000</td>\n",
              "      <td>0.000000</td>\n",
              "      <td>0.000000</td>\n",
              "    </tr>\n",
              "    <tr>\n",
              "      <th>2</th>\n",
              "      <td>0.022215</td>\n",
              "      <td>0.00003</td>\n",
              "      <td>0.012673</td>\n",
              "      <td>0.145996</td>\n",
              "      <td>0.340070</td>\n",
              "      <td>0.000304</td>\n",
              "      <td>0.00003</td>\n",
              "      <td>0.047500</td>\n",
              "      <td>0.041787</td>\n",
              "      <td>0.023431</td>\n",
              "      <td>...</td>\n",
              "      <td>0.047956</td>\n",
              "      <td>0.061875</td>\n",
              "      <td>0.151922</td>\n",
              "      <td>0.696308</td>\n",
              "      <td>0.846102</td>\n",
              "      <td>0.153898</td>\n",
              "      <td>0.601124</td>\n",
              "      <td>0.283209</td>\n",
              "      <td>0.084972</td>\n",
              "      <td>0.030694</td>\n",
              "    </tr>\n",
              "  </tbody>\n",
              "</table>\n",
              "<p>3 rows × 63 columns</p>\n",
              "</div>\n",
              "      <button class=\"colab-df-convert\" onclick=\"convertToInteractive('df-3f3bce86-f418-41fa-818a-c2a03f360ec9')\"\n",
              "              title=\"Convert this dataframe to an interactive table.\"\n",
              "              style=\"display:none;\">\n",
              "        \n",
              "  <svg xmlns=\"http://www.w3.org/2000/svg\" height=\"24px\"viewBox=\"0 0 24 24\"\n",
              "       width=\"24px\">\n",
              "    <path d=\"M0 0h24v24H0V0z\" fill=\"none\"/>\n",
              "    <path d=\"M18.56 5.44l.94 2.06.94-2.06 2.06-.94-2.06-.94-.94-2.06-.94 2.06-2.06.94zm-11 1L8.5 8.5l.94-2.06 2.06-.94-2.06-.94L8.5 2.5l-.94 2.06-2.06.94zm10 10l.94 2.06.94-2.06 2.06-.94-2.06-.94-.94-2.06-.94 2.06-2.06.94z\"/><path d=\"M17.41 7.96l-1.37-1.37c-.4-.4-.92-.59-1.43-.59-.52 0-1.04.2-1.43.59L10.3 9.45l-7.72 7.72c-.78.78-.78 2.05 0 2.83L4 21.41c.39.39.9.59 1.41.59.51 0 1.02-.2 1.41-.59l7.78-7.78 2.81-2.81c.8-.78.8-2.07 0-2.86zM5.41 20L4 18.59l7.72-7.72 1.47 1.35L5.41 20z\"/>\n",
              "  </svg>\n",
              "      </button>\n",
              "      \n",
              "  <style>\n",
              "    .colab-df-container {\n",
              "      display:flex;\n",
              "      flex-wrap:wrap;\n",
              "      gap: 12px;\n",
              "    }\n",
              "\n",
              "    .colab-df-convert {\n",
              "      background-color: #E8F0FE;\n",
              "      border: none;\n",
              "      border-radius: 50%;\n",
              "      cursor: pointer;\n",
              "      display: none;\n",
              "      fill: #1967D2;\n",
              "      height: 32px;\n",
              "      padding: 0 0 0 0;\n",
              "      width: 32px;\n",
              "    }\n",
              "\n",
              "    .colab-df-convert:hover {\n",
              "      background-color: #E2EBFA;\n",
              "      box-shadow: 0px 1px 2px rgba(60, 64, 67, 0.3), 0px 1px 3px 1px rgba(60, 64, 67, 0.15);\n",
              "      fill: #174EA6;\n",
              "    }\n",
              "\n",
              "    [theme=dark] .colab-df-convert {\n",
              "      background-color: #3B4455;\n",
              "      fill: #D2E3FC;\n",
              "    }\n",
              "\n",
              "    [theme=dark] .colab-df-convert:hover {\n",
              "      background-color: #434B5C;\n",
              "      box-shadow: 0px 1px 3px 1px rgba(0, 0, 0, 0.15);\n",
              "      filter: drop-shadow(0px 1px 2px rgba(0, 0, 0, 0.3));\n",
              "      fill: #FFFFFF;\n",
              "    }\n",
              "  </style>\n",
              "\n",
              "      <script>\n",
              "        const buttonEl =\n",
              "          document.querySelector('#df-3f3bce86-f418-41fa-818a-c2a03f360ec9 button.colab-df-convert');\n",
              "        buttonEl.style.display =\n",
              "          google.colab.kernel.accessAllowed ? 'block' : 'none';\n",
              "\n",
              "        async function convertToInteractive(key) {\n",
              "          const element = document.querySelector('#df-3f3bce86-f418-41fa-818a-c2a03f360ec9');\n",
              "          const dataTable =\n",
              "            await google.colab.kernel.invokeFunction('convertToInteractive',\n",
              "                                                     [key], {});\n",
              "          if (!dataTable) return;\n",
              "\n",
              "          const docLinkHtml = 'Like what you see? Visit the ' +\n",
              "            '<a target=\"_blank\" href=https://colab.research.google.com/notebooks/data_table.ipynb>data table notebook</a>'\n",
              "            + ' to learn more about interactive tables.';\n",
              "          element.innerHTML = '';\n",
              "          dataTable['output_type'] = 'display_data';\n",
              "          await google.colab.output.renderOutput(dataTable, element);\n",
              "          const docLink = document.createElement('div');\n",
              "          docLink.innerHTML = docLinkHtml;\n",
              "          element.appendChild(docLink);\n",
              "        }\n",
              "      </script>\n",
              "    </div>\n",
              "  </div>\n",
              "  "
            ]
          },
          "metadata": {},
          "execution_count": 231
        }
      ]
    },
    {
      "cell_type": "code",
      "source": [
        "# Display means as list\n",
        "user_all.mean().head()"
      ],
      "metadata": {
        "colab": {
          "base_uri": "https://localhost:8080/"
        },
        "id": "zSl2Kl_q_JNU",
        "outputId": "8559b20b-d87d-46bc-ae40-f69c647cb3c6"
      },
      "execution_count": null,
      "outputs": [
        {
          "output_type": "execute_result",
          "data": {
            "text/plain": [
              "country_Australia    0.022181\n",
              "country_Austria      0.000015\n",
              "country_Belgium      0.012939\n",
              "country_Brasil       0.146677\n",
              "country_China        0.340247\n",
              "dtype: float64"
            ]
          },
          "metadata": {},
          "execution_count": 232
        }
      ]
    },
    {
      "cell_type": "code",
      "source": [
        "# Finding the percent difference between the cluster means and all means\n",
        "percent_diff = cluster_means/user_all.mean()-1\n",
        "percent_diff = percent_diff.T"
      ],
      "metadata": {
        "id": "kv7hiL-n_LMK"
      },
      "execution_count": null,
      "outputs": []
    },
    {
      "cell_type": "code",
      "source": [
        "# Show values to help us label each group\n",
        "print(percent_diff.to_string())"
      ],
      "metadata": {
        "colab": {
          "base_uri": "https://localhost:8080/"
        },
        "id": "lih8Vdnn_N9n",
        "outputId": "b832f27f-c48f-4b7f-8e19-7c10e0fbf0f6"
      },
      "execution_count": null,
      "outputs": [
        {
          "output_type": "stream",
          "name": "stdout",
          "text": [
            "clusters                                  0         1         2\n",
            "age_0                              0.006448 -0.004049 -0.000157\n",
            "age_1                             -0.004348 -0.014704  0.010616\n",
            "age_2                             -0.005013  0.005684 -0.001407\n",
            "age_3                              0.033757  0.011123 -0.020309\n",
            "age_4                             -0.033870  0.002256  0.012289\n",
            "avg_cart_size_1.0                 -1.000000  0.666002  0.001475\n",
            "avg_cart_size_2.0                  1.504684 -1.000000 -0.003498\n",
            "avg_cart_size_3.0                  1.495864 -1.000000  0.000056\n",
            "avg_cart_size_4.0                  1.487531 -1.000000  0.003414\n",
            "cat_Accessories                    0.269320 -0.408098  0.137494\n",
            "cat_Active                         0.354912 -0.444518  0.124959\n",
            "cat_Blazers & Jackets              1.983055  0.333200 -1.000000\n",
            "cat_Clothing Sets                  2.020844  0.307940 -1.000000\n",
            "cat_Dresses                        1.909676  0.382250 -1.000000\n",
            "cat_Fashion Hoodies & Sweatshirts  0.304859 -0.416900  0.128480\n",
            "cat_Intimates                      1.851050  0.421439 -1.000000\n",
            "cat_Jeans                          0.184455 -0.428664  0.184091\n",
            "cat_Jumpsuits & Rompers            2.075196  0.271609 -1.000000\n",
            "cat_Leggings                       1.897399  0.390457 -1.000000\n",
            "cat_Maternity                      2.024025  0.305814 -1.000000\n",
            "cat_Outerwear & Coats              0.132886 -0.503315  0.249876\n",
            "cat_Pants                         -1.000000 -1.000000  1.005835\n",
            "cat_Pants & Capris                 1.950288  0.355103 -1.000000\n",
            "cat_Plus                           1.925892  0.371411 -1.000000\n",
            "cat_Shorts                         0.259577 -0.412615  0.144144\n",
            "cat_Skirts                         2.097202  0.256899 -1.000000\n",
            "cat_Sleep & Lounge                 0.265839 -0.425844  0.149595\n",
            "cat_Socks                         -1.000000 -1.000000  1.005835\n",
            "cat_Socks & Hosiery                1.967512  0.343590 -1.000000\n",
            "cat_Suits                          2.148800  0.222408 -1.000000\n",
            "cat_Suits & Sport Coats           -1.000000 -1.000000  1.005835\n",
            "cat_Sweaters                       0.147270 -0.469043  0.223419\n",
            "cat_Swim                           0.274013 -0.381513  0.119577\n",
            "cat_Tops & Tees                    0.094035 -0.499740  0.263377\n",
            "cat_Underwear                     -1.000000 -1.000000  1.005835\n",
            "clusters                                NaN       NaN       NaN\n",
            "country_Australia                 -0.044614  0.027255  0.001547\n",
            "country_Austria                   -1.000000 -1.000000  1.005835\n",
            "country_Belgium                    0.019985  0.020762 -0.020570\n",
            "country_Brasil                    -0.004083  0.010435 -0.004645\n",
            "country_China                      0.014922 -0.009110 -0.000521\n",
            "country_Colombia                  -0.617113 -0.488120  0.542950\n",
            "country_España                    -1.000000  0.663608  0.002917\n",
            "country_France                    -0.043149  0.032475 -0.002190\n",
            "country_Germany                    0.024093 -0.020340  0.002553\n",
            "country_Japan                      0.010868  0.067996 -0.045371\n",
            "country_Poland                    -0.029539 -0.079261  0.059686\n",
            "country_South Korea                0.059294 -0.033380 -0.003771\n",
            "country_Spain                     -0.006006 -0.037457  0.025001\n",
            "country_United Kingdom             0.017722  0.005700 -0.010578\n",
            "country_United States             -0.028693  0.007111  0.007276\n",
            "events_per_purchase_0             -0.277934  0.183510  0.001371\n",
            "events_per_purchase_1              1.514541 -1.000000 -0.007470\n",
            "orders_1                          -0.149288  0.100238 -0.000269\n",
            "orders_2                           0.330153 -0.227161  0.003901\n",
            "orders_3                           0.433584 -0.265164 -0.014869\n",
            "orders_4                           0.201804 -0.155845  0.012629\n",
            "sex_F                              0.994199  0.994199 -1.000000\n",
            "sex_M                             -1.000000 -1.000000  1.005835\n",
            "traffic_Display                   -0.064651  0.010179  0.019916\n",
            "traffic_Email                      0.047410 -0.012119 -0.011799\n",
            "traffic_Facebook                  -0.017947  0.006340  0.003410\n",
            "traffic_Organic                    0.006059 -0.008723  0.002817\n",
            "traffic_Search                     0.000784  0.001578 -0.001267\n"
          ]
        }
      ]
    },
    {
      "cell_type": "markdown",
      "source": [
        "### Define Pseudonymes"
      ],
      "metadata": {
        "id": "eQKvHq6v_UHp"
      }
    },
    {
      "cell_type": "code",
      "source": [
        "# Decide what to call these based on the data above\n",
        "cluster_names = {0:'Females who love to shop.',\n",
        "                 1:'Spanish females buying one thing at a time.',\n",
        "                 2:'Columbian men who purchase necessities.'\n",
        "                 }"
      ],
      "metadata": {
        "id": "_yCiNfZm_QAw"
      },
      "execution_count": null,
      "outputs": []
    },
    {
      "cell_type": "code",
      "source": [
        "# Replace each user with their pseudonym\n",
        "user_all['clusters'].replace(cluster_names).head(10)"
      ],
      "metadata": {
        "colab": {
          "base_uri": "https://localhost:8080/"
        },
        "id": "BAKuwjLL_XpY",
        "outputId": "c996634c-6a95-4c5d-f74c-2f78c900b2fb"
      },
      "execution_count": null,
      "outputs": [
        {
          "output_type": "execute_result",
          "data": {
            "text/plain": [
              "id\n",
              "3192     Spanish females buying one thing at a time.\n",
              "4916         Columbian men who purchase necessities.\n",
              "6455     Spanish females buying one thing at a time.\n",
              "31241        Columbian men who purchase necessities.\n",
              "34270        Columbian men who purchase necessities.\n",
              "39869    Spanish females buying one thing at a time.\n",
              "70535    Spanish females buying one thing at a time.\n",
              "84792                      Females who love to shop.\n",
              "97265        Columbian men who purchase necessities.\n",
              "98024        Columbian men who purchase necessities.\n",
              "Name: clusters, dtype: object"
            ]
          },
          "metadata": {},
          "execution_count": 239
        }
      ]
    },
    {
      "cell_type": "code",
      "source": [],
      "metadata": {
        "id": "Fm_oYFLM0E14"
      },
      "execution_count": null,
      "outputs": []
    }
  ]
}